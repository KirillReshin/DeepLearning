{
 "cells": [
  {
   "cell_type": "markdown",
   "metadata": {
    "id": "Q_upCOEI3Upu"
   },
   "source": [
    "### Полносвязные нейронные сети."
   ]
  },
  {
   "cell_type": "code",
   "execution_count": 1,
   "metadata": {
    "id": "RI_eoe063VaP"
   },
   "outputs": [],
   "source": [
    "import torch\n",
    "from torch import nn\n",
    "import pandas as pd\n",
    "import numpy as np\n",
    "import random"
   ]
  },
  {
   "cell_type": "code",
   "execution_count": null,
   "metadata": {},
   "outputs": [],
   "source": [
    "# %conda install wget"
   ]
  },
  {
   "cell_type": "code",
   "execution_count": null,
   "metadata": {
    "id": "7NgSZeU-7vgj"
   },
   "outputs": [],
   "source": [
    "!wget -O data.txt.zip https://archive.ics.uci.edu/ml/machine-learning-databases/00203/YearPredictionMSD.txt.zip"
   ]
  },
  {
   "cell_type": "code",
   "execution_count": 2,
   "metadata": {
    "id": "DSVJZzkJ7zZE"
   },
   "outputs": [
    {
     "data": {
      "text/html": [
       "<div>\n",
       "<style scoped>\n",
       "    .dataframe tbody tr th:only-of-type {\n",
       "        vertical-align: middle;\n",
       "    }\n",
       "\n",
       "    .dataframe tbody tr th {\n",
       "        vertical-align: top;\n",
       "    }\n",
       "\n",
       "    .dataframe thead th {\n",
       "        text-align: right;\n",
       "    }\n",
       "</style>\n",
       "<table border=\"1\" class=\"dataframe\">\n",
       "  <thead>\n",
       "    <tr style=\"text-align: right;\">\n",
       "      <th></th>\n",
       "      <th>0</th>\n",
       "      <th>1</th>\n",
       "      <th>2</th>\n",
       "      <th>3</th>\n",
       "      <th>4</th>\n",
       "      <th>5</th>\n",
       "      <th>6</th>\n",
       "      <th>7</th>\n",
       "      <th>8</th>\n",
       "      <th>9</th>\n",
       "      <th>...</th>\n",
       "      <th>81</th>\n",
       "      <th>82</th>\n",
       "      <th>83</th>\n",
       "      <th>84</th>\n",
       "      <th>85</th>\n",
       "      <th>86</th>\n",
       "      <th>87</th>\n",
       "      <th>88</th>\n",
       "      <th>89</th>\n",
       "      <th>90</th>\n",
       "    </tr>\n",
       "  </thead>\n",
       "  <tbody>\n",
       "    <tr>\n",
       "      <th>0</th>\n",
       "      <td>2001</td>\n",
       "      <td>49.94357</td>\n",
       "      <td>21.47114</td>\n",
       "      <td>73.07750</td>\n",
       "      <td>8.74861</td>\n",
       "      <td>-17.40628</td>\n",
       "      <td>-13.09905</td>\n",
       "      <td>-25.01202</td>\n",
       "      <td>-12.23257</td>\n",
       "      <td>7.83089</td>\n",
       "      <td>...</td>\n",
       "      <td>13.01620</td>\n",
       "      <td>-54.40548</td>\n",
       "      <td>58.99367</td>\n",
       "      <td>15.37344</td>\n",
       "      <td>1.11144</td>\n",
       "      <td>-23.08793</td>\n",
       "      <td>68.40795</td>\n",
       "      <td>-1.82223</td>\n",
       "      <td>-27.46348</td>\n",
       "      <td>2.26327</td>\n",
       "    </tr>\n",
       "    <tr>\n",
       "      <th>1</th>\n",
       "      <td>2001</td>\n",
       "      <td>48.73215</td>\n",
       "      <td>18.42930</td>\n",
       "      <td>70.32679</td>\n",
       "      <td>12.94636</td>\n",
       "      <td>-10.32437</td>\n",
       "      <td>-24.83777</td>\n",
       "      <td>8.76630</td>\n",
       "      <td>-0.92019</td>\n",
       "      <td>18.76548</td>\n",
       "      <td>...</td>\n",
       "      <td>5.66812</td>\n",
       "      <td>-19.68073</td>\n",
       "      <td>33.04964</td>\n",
       "      <td>42.87836</td>\n",
       "      <td>-9.90378</td>\n",
       "      <td>-32.22788</td>\n",
       "      <td>70.49388</td>\n",
       "      <td>12.04941</td>\n",
       "      <td>58.43453</td>\n",
       "      <td>26.92061</td>\n",
       "    </tr>\n",
       "    <tr>\n",
       "      <th>2</th>\n",
       "      <td>2001</td>\n",
       "      <td>50.95714</td>\n",
       "      <td>31.85602</td>\n",
       "      <td>55.81851</td>\n",
       "      <td>13.41693</td>\n",
       "      <td>-6.57898</td>\n",
       "      <td>-18.54940</td>\n",
       "      <td>-3.27872</td>\n",
       "      <td>-2.35035</td>\n",
       "      <td>16.07017</td>\n",
       "      <td>...</td>\n",
       "      <td>3.03800</td>\n",
       "      <td>26.05866</td>\n",
       "      <td>-50.92779</td>\n",
       "      <td>10.93792</td>\n",
       "      <td>-0.07568</td>\n",
       "      <td>43.20130</td>\n",
       "      <td>-115.00698</td>\n",
       "      <td>-0.05859</td>\n",
       "      <td>39.67068</td>\n",
       "      <td>-0.66345</td>\n",
       "    </tr>\n",
       "    <tr>\n",
       "      <th>3</th>\n",
       "      <td>2001</td>\n",
       "      <td>48.24750</td>\n",
       "      <td>-1.89837</td>\n",
       "      <td>36.29772</td>\n",
       "      <td>2.58776</td>\n",
       "      <td>0.97170</td>\n",
       "      <td>-26.21683</td>\n",
       "      <td>5.05097</td>\n",
       "      <td>-10.34124</td>\n",
       "      <td>3.55005</td>\n",
       "      <td>...</td>\n",
       "      <td>34.57337</td>\n",
       "      <td>-171.70734</td>\n",
       "      <td>-16.96705</td>\n",
       "      <td>-46.67617</td>\n",
       "      <td>-12.51516</td>\n",
       "      <td>82.58061</td>\n",
       "      <td>-72.08993</td>\n",
       "      <td>9.90558</td>\n",
       "      <td>199.62971</td>\n",
       "      <td>18.85382</td>\n",
       "    </tr>\n",
       "    <tr>\n",
       "      <th>4</th>\n",
       "      <td>2001</td>\n",
       "      <td>50.97020</td>\n",
       "      <td>42.20998</td>\n",
       "      <td>67.09964</td>\n",
       "      <td>8.46791</td>\n",
       "      <td>-15.85279</td>\n",
       "      <td>-16.81409</td>\n",
       "      <td>-12.48207</td>\n",
       "      <td>-9.37636</td>\n",
       "      <td>12.63699</td>\n",
       "      <td>...</td>\n",
       "      <td>9.92661</td>\n",
       "      <td>-55.95724</td>\n",
       "      <td>64.92712</td>\n",
       "      <td>-17.72522</td>\n",
       "      <td>-1.49237</td>\n",
       "      <td>-7.50035</td>\n",
       "      <td>51.76631</td>\n",
       "      <td>7.88713</td>\n",
       "      <td>55.66926</td>\n",
       "      <td>28.74903</td>\n",
       "    </tr>\n",
       "  </tbody>\n",
       "</table>\n",
       "<p>5 rows × 91 columns</p>\n",
       "</div>"
      ],
      "text/plain": [
       "     0         1         2         3         4         5         6         7   \\\n",
       "0  2001  49.94357  21.47114  73.07750   8.74861 -17.40628 -13.09905 -25.01202   \n",
       "1  2001  48.73215  18.42930  70.32679  12.94636 -10.32437 -24.83777   8.76630   \n",
       "2  2001  50.95714  31.85602  55.81851  13.41693  -6.57898 -18.54940  -3.27872   \n",
       "3  2001  48.24750  -1.89837  36.29772   2.58776   0.97170 -26.21683   5.05097   \n",
       "4  2001  50.97020  42.20998  67.09964   8.46791 -15.85279 -16.81409 -12.48207   \n",
       "\n",
       "         8         9   ...        81         82        83        84        85  \\\n",
       "0 -12.23257   7.83089  ...  13.01620  -54.40548  58.99367  15.37344   1.11144   \n",
       "1  -0.92019  18.76548  ...   5.66812  -19.68073  33.04964  42.87836  -9.90378   \n",
       "2  -2.35035  16.07017  ...   3.03800   26.05866 -50.92779  10.93792  -0.07568   \n",
       "3 -10.34124   3.55005  ...  34.57337 -171.70734 -16.96705 -46.67617 -12.51516   \n",
       "4  -9.37636  12.63699  ...   9.92661  -55.95724  64.92712 -17.72522  -1.49237   \n",
       "\n",
       "         86         87        88         89        90  \n",
       "0 -23.08793   68.40795  -1.82223  -27.46348   2.26327  \n",
       "1 -32.22788   70.49388  12.04941   58.43453  26.92061  \n",
       "2  43.20130 -115.00698  -0.05859   39.67068  -0.66345  \n",
       "3  82.58061  -72.08993   9.90558  199.62971  18.85382  \n",
       "4  -7.50035   51.76631   7.88713   55.66926  28.74903  \n",
       "\n",
       "[5 rows x 91 columns]"
      ]
     },
     "execution_count": 2,
     "metadata": {},
     "output_type": "execute_result"
    }
   ],
   "source": [
    "df = pd.read_csv('data.txt.zip', header=None)\n",
    "df.head()"
   ]
  },
  {
   "cell_type": "code",
   "execution_count": 3,
   "metadata": {},
   "outputs": [
    {
     "data": {
      "text/plain": [
       "0"
      ]
     },
     "execution_count": 3,
     "metadata": {},
     "output_type": "execute_result"
    }
   ],
   "source": [
    "df.isnull().sum().sum() # пропуски в датасете отсутствуют"
   ]
  },
  {
   "cell_type": "code",
   "execution_count": 4,
   "metadata": {},
   "outputs": [
    {
     "data": {
      "text/plain": [
       "(515345, 91)"
      ]
     },
     "execution_count": 4,
     "metadata": {},
     "output_type": "execute_result"
    }
   ],
   "source": [
    "df.shape"
   ]
  },
  {
   "cell_type": "code",
   "execution_count": 5,
   "metadata": {
    "id": "n4wnRJT1778j"
   },
   "outputs": [],
   "source": [
    "X = df.iloc[:, 1:].values\n",
    "y = df.iloc[:, 0].values\n",
    "\n",
    "train_size = 463715\n",
    "X_train = X[:train_size, :]\n",
    "y_train = y[:train_size]\n",
    "X_test = X[train_size:, :]\n",
    "y_test = y[train_size:]"
   ]
  },
  {
   "cell_type": "code",
   "execution_count": 6,
   "metadata": {},
   "outputs": [
    {
     "data": {
      "text/plain": [
       "(463715, 90)"
      ]
     },
     "execution_count": 6,
     "metadata": {},
     "output_type": "execute_result"
    }
   ],
   "source": [
    "X_train.shape"
   ]
  },
  {
   "cell_type": "markdown",
   "metadata": {
    "id": "_386JE_o5gOd"
   },
   "source": [
    "Мы будем использовать RMSE как метрику качества. Для самого первого бейзлайна обучим `Ridge` регрессию из `sklearn`. Кроме того, посчитаем качество при наилучшем константном прогнозе."
   ]
  },
  {
   "cell_type": "code",
   "execution_count": 18,
   "metadata": {
    "id": "otwuisa56MLr"
   },
   "outputs": [],
   "source": [
    "from sklearn.linear_model import LinearRegression, Ridge, Lasso\n",
    "from sklearn.metrics import mean_squared_error"
   ]
  },
  {
   "cell_type": "code",
   "execution_count": 8,
   "metadata": {},
   "outputs": [
    {
     "name": "stdout",
     "output_type": "stream",
     "text": [
      "Train: 9.552822967905987\n",
      "Test: 9.510160746337895\n"
     ]
    }
   ],
   "source": [
    "ridge = Ridge(10)\n",
    "ridge.fit(X_train,y_train)\n",
    "print (\"Train: {}\".format(np.sqrt(mean_squared_error(y_train, ridge.predict(X_train)))))\n",
    "print (\"Test: {}\".format(np.sqrt(mean_squared_error(y_test, ridge.predict(X_test)))))"
   ]
  },
  {
   "cell_type": "markdown",
   "metadata": {},
   "source": [
    "Выясним какое С оптимально (для констатного предсказания). У нас есть выборка $(X_1,...,X_n)$ - наши значени игрека из y_train. Тогда функция потерь выглядит так: $f(C) = \\frac{1}{n}\\sum\\limits_{i=1}^n{(X_i - C) ^ 2}$. Нам надо эту функцию минимизировать по С. Берем производную: $f'(C) = -\\frac{2}{n}\\sum\\limits_{i=1}^n{(X_i - C)}$. Это равняется нулю если и только если $\\sum\\limits_{i=1}^n{(X_i - C)} = 0 \\Rightarrow C = \\frac{1}{n}\\sum\\limits_{i=1}^n{X_i}$ , то есть С просто равно среднему."
   ]
  },
  {
   "cell_type": "code",
   "execution_count": 9,
   "metadata": {},
   "outputs": [
    {
     "name": "stdout",
     "output_type": "stream",
     "text": [
      "Train: 10.939755150678016\n",
      "Test: 10.85246390513634\n"
     ]
    }
   ],
   "source": [
    "C = y_train.mean()\n",
    "print (\"Train: {}\".format(np.sqrt(mean_squared_error(y_train, C * np.ones(len(y_train))))))\n",
    "print (\"Test: {}\".format(np.sqrt(mean_squared_error(y_test, C * np.ones(len(y_test))))))"
   ]
  },
  {
   "cell_type": "markdown",
   "metadata": {
    "id": "_6ilBKYt6OdD"
   },
   "source": [
    "Реализуем обучение и тестирование нейронной сети для предоставленного вам набора данных. Основная задача - побить рубеж в 8.75"
   ]
  },
  {
   "cell_type": "code",
   "execution_count": 8,
   "metadata": {
    "id": "VaMButDmEKKw"
   },
   "outputs": [],
   "source": [
    "def set_random_seed(seed):\n",
    "    torch.backends.cudnn.deterministic = True\n",
    "    torch.manual_seed(seed)\n",
    "    torch.cuda.manual_seed(seed)\n",
    "    np.random.seed(seed)\n",
    "    random.seed(seed)"
   ]
  },
  {
   "cell_type": "code",
   "execution_count": null,
   "metadata": {},
   "outputs": [],
   "source": [
    "# Отнормируем данные и таргет. Данные с помощью MinMaxScaler, а таргет вручную с запоминанием некоторых значений, чтобы потом\n",
    "# можно было восстановить нормальные значения ошибки (а то RMSE будет < 1)"
   ]
  },
  {
   "cell_type": "code",
   "execution_count": 12,
   "metadata": {},
   "outputs": [],
   "source": [
    "from sklearn.preprocessing import MinMaxScaler\n",
    "\n",
    "sc = MinMaxScaler()\n",
    "X_train = sc.fit_transform(X_train)\n",
    "X_test = sc.transform(X_test)\n",
    "\n",
    "delta = max(y_train) - min(y_train) # Запоминаем, чтобы потом вернуть таргету прежнии значения\n",
    "Min = min(y_train) # Запоминаем, чтобы потом вернуть таргету прежнии значения\n",
    "y_train = (y_train - Min) / delta # Нормируем таргет\n",
    "y_test = (y_test - Min) / delta"
   ]
  },
  {
   "cell_type": "code",
   "execution_count": 14,
   "metadata": {},
   "outputs": [
    {
     "data": {
      "text/plain": [
       "(89, 1922)"
      ]
     },
     "execution_count": 14,
     "metadata": {},
     "output_type": "execute_result"
    }
   ],
   "source": [
    "delta, Min"
   ]
  },
  {
   "cell_type": "code",
   "execution_count": 13,
   "metadata": {},
   "outputs": [
    {
     "data": {
      "text/plain": [
       "array([0.88764045, 0.88764045, 0.88764045, ..., 0.95505618, 0.94382022,\n",
       "       0.95505618])"
      ]
     },
     "execution_count": 13,
     "metadata": {},
     "output_type": "execute_result"
    }
   ],
   "source": [
    "y_train # Посмотрим что получили после нормировки"
   ]
  },
  {
   "cell_type": "code",
   "execution_count": null,
   "metadata": {},
   "outputs": [],
   "source": [
    "# Для того, чтобы можно было работать со всеми этими лоадерами и т.д., нужен вспомогательный класс:"
   ]
  },
  {
   "cell_type": "code",
   "execution_count": 7,
   "metadata": {},
   "outputs": [],
   "source": [
    "class MyDataset(torch.utils.data.Dataset):\n",
    "    \"\"\"\n",
    "    Обернем наш датасет в такой класс для удобства\n",
    "    \"\"\"\n",
    "    def __init__(self, x, y):\n",
    "        self.x = x\n",
    "        self.y = y\n",
    "        \n",
    "    def __len__(self):\n",
    "        return len(self.x)\n",
    "    \n",
    "    def __getitem__(self, idx):\n",
    "        return [torch.tensor(self.x[idx, :], dtype=torch.double), self.y[idx]]"
   ]
  },
  {
   "cell_type": "code",
   "execution_count": null,
   "metadata": {},
   "outputs": [],
   "source": [
    "# Собственно основные моменты (лоадеры, модель, оптимизатор, лосс):"
   ]
  },
  {
   "cell_type": "code",
   "execution_count": 17,
   "metadata": {
    "id": "peomNjMWbkSz"
   },
   "outputs": [],
   "source": [
    "set_random_seed(123)\n",
    "train_set = MyDataset(X_train, y_train)\n",
    "train_loader = torch.utils.data.DataLoader(train_set, batch_size=16) # сделаем не слишком большой/маленький батч\n",
    "\n",
    "test_set = MyDataset(X_test, y_test)\n",
    "test_loader = torch.utils.data.DataLoader(test_set, batch_size=16)\n",
    "\n",
    "model = nn.Sequential(           \n",
    "    nn.Linear(90, 128),  # первый слой 90 -> 128 (у объекта же 90 признаков)\n",
    "    nn.BatchNorm1d(128), # Batch нормализация после каждого слоя\n",
    "    nn.ReLU(),           # нелинейность   \n",
    "    nn.Dropout(0.2),     # регуляризация в виде выбрасывания 20% нейронов (после нелинейности!)\n",
    "    nn.Linear(128, 128), # второй слой\n",
    "    nn.BatchNorm1d(128),\n",
    "    nn.ReLU(),        \n",
    "    nn.Dropout(0.2),\n",
    "    nn.Linear(128, 1)   # 1 выход - число, так как мы решаем задачу регрессии\n",
    ")\n",
    "optimizer = torch.optim.SGD(model.parameters(), lr=0.01) # стохастический градиентный спуск с размером шага 0.01\n",
    "criterion = torch.nn.MSELoss() # просто достаем из библиотеки MSE. Будем ее оптимизировать, а для вывода результатов не забудем\n",
    "                               # извлечь корень"
   ]
  },
  {
   "cell_type": "code",
   "execution_count": 130,
   "metadata": {},
   "outputs": [],
   "source": [
    "def train(model, optimizer, criterion, train_loader, test_loader):\n",
    "    '''\n",
    "    params:\n",
    "        model - torch.nn.Module to be fitted\n",
    "        optimizer - model optimizer\n",
    "        criterion - loss function from torch.nn\n",
    "        train_loader - torch.utils.data.Dataloader with train set\n",
    "        test_loader - torch.utils.data.Dataloader with test set\n",
    "                      (if you wish to validate during training)\n",
    "    '''\n",
    "    set_random_seed(123)\n",
    "    test_overall = [] # лосс на тесте на каждой эпохе (то есть тут будет epochs значений)\n",
    "    train_overall = [] # лосс на трейне на каждой эпохе\n",
    "    for epoch in range(30): # Ну путь будет столько эпох\n",
    "        model.train()\n",
    "        train_RMSE = [] # тут будут лоссы по батчам трейна (обновляется каждую эпоху)\n",
    "        for batch in train_loader:\n",
    "            x_train = batch[0]                              # Извлекаем данные и таргет из MyDataset (у нас же на нулевом месте\n",
    "            y_train = batch[1]                              # в списке данные, а на первом - таргет)\n",
    "            y_pred = model(x_train.float()).squeeze()         # Делаем предсказания\n",
    "            loss = criterion(y_pred, y_train.float())        # Считаем лосс\n",
    "            loss.backward()                                # Считаем градиенты\n",
    "            optimizer.step()                               # Делаем шаг градиентного спуска\n",
    "            optimizer.zero_grad()                          # Обнуляем градиенты\n",
    "            with torch.no_grad():\n",
    "                l = torch.mean((y_pred * delta + Min - (y_train.float() * delta + Min)) ** 2) # Вот тут мы считаем лосс, приводя\n",
    "                # таргет обратно к нормально виду (мы там в начале запоминали Min и delta)\n",
    "                train_RMSE.append(np.sqrt(l.numpy()))\n",
    "                \n",
    "        train_overall.append(np.mean(train_RMSE)) # аппендим средний лосс по всем батчам на этой эпохе\n",
    "        \n",
    "        # Сразу же будем отслеживать лосс на тесте\n",
    "        test_RMSE = [] # тут будут лоссы по батчам треста (обновляется каждую эпоху)\n",
    "        model.eval()\n",
    "        with torch.no_grad():\n",
    "            for batch in test_loader:\n",
    "                x_test = batch[0]\n",
    "                y_test = batch[1]\n",
    "                y_pred = model(x_test.float()).squeeze()\n",
    "                loss = criterion((y_pred * delta + Min), (y_test * delta + Min).float()) # Вот тут мы считаем лосс, приводя\n",
    "                # таргет обратно к нормально виду (мы там в начале запоминали Min и delta)\n",
    "                test_RMSE.append(np.sqrt(loss.numpy()))\n",
    "        # печатаем метрики\n",
    "        print(f\"Epoch: {epoch}, test_RMSE: {np.mean(test_RMSE)}\")\n",
    "        test_overall.append(np.mean(test_RMSE)) # аппендим средний лосс по всем батчам на этой эпохе\n",
    "    return train_overall, test_overall # будем возвращать лоссы на тесте и трейне по эпохам, чтобы потом визуализировать "
   ]
  },
  {
   "cell_type": "code",
   "execution_count": 26,
   "metadata": {},
   "outputs": [
    {
     "name": "stdout",
     "output_type": "stream",
     "text": [
      "Epoch: 0, test_RMSE: 8.972068786621094\n",
      "Epoch: 1, test_RMSE: 9.019654273986816\n",
      "Epoch: 2, test_RMSE: 9.003498077392578\n",
      "Epoch: 3, test_RMSE: 9.014179229736328\n",
      "Epoch: 4, test_RMSE: 8.97346019744873\n",
      "Epoch: 5, test_RMSE: 8.954983711242676\n",
      "Epoch: 6, test_RMSE: 8.96605396270752\n",
      "Epoch: 7, test_RMSE: 9.00307559967041\n",
      "Epoch: 8, test_RMSE: 9.028141021728516\n",
      "Epoch: 9, test_RMSE: 8.992053031921387\n",
      "Epoch: 10, test_RMSE: 8.96348762512207\n",
      "Epoch: 11, test_RMSE: 8.8606595993042\n",
      "Epoch: 12, test_RMSE: 8.880810737609863\n",
      "Epoch: 13, test_RMSE: 8.92302131652832\n",
      "Epoch: 14, test_RMSE: 8.908039093017578\n",
      "Epoch: 15, test_RMSE: 8.941986083984375\n",
      "Epoch: 16, test_RMSE: 8.979124069213867\n",
      "Epoch: 17, test_RMSE: 8.91344928741455\n",
      "Epoch: 18, test_RMSE: 8.929966926574707\n",
      "Epoch: 19, test_RMSE: 8.915164947509766\n",
      "Epoch: 20, test_RMSE: 8.96342945098877\n",
      "Epoch: 21, test_RMSE: 8.954499244689941\n",
      "Epoch: 22, test_RMSE: 8.876206398010254\n",
      "Epoch: 23, test_RMSE: 8.941410064697266\n",
      "Epoch: 24, test_RMSE: 8.914216041564941\n",
      "Epoch: 25, test_RMSE: 8.944127082824707\n",
      "Epoch: 26, test_RMSE: 8.927294731140137\n",
      "Epoch: 27, test_RMSE: 8.929906845092773\n",
      "Epoch: 28, test_RMSE: 8.950550079345703\n",
      "Epoch: 29, test_RMSE: 8.90310001373291\n"
     ]
    }
   ],
   "source": [
    "set_random_seed(123)\n",
    "train_overall, test_overall = train(model, optimizer, criterion, train_loader, test_loader)"
   ]
  },
  {
   "cell_type": "code",
   "execution_count": 33,
   "metadata": {
    "scrolled": false
   },
   "outputs": [
    {
     "data": {
      "text/plain": [
       "array([8.746986 , 8.752957 , 8.760728 , 8.768742 , 8.773994 , 8.782473 ,\n",
       "       8.790163 , 8.795961 , 8.804413 , 8.809401 , 8.815835 , 8.8212385,\n",
       "       8.827121 , 8.83288  , 8.839364 , 8.844675 , 8.846638 , 8.852805 ,\n",
       "       8.855947 , 8.860588 , 8.861673 , 8.868319 , 8.868179 , 8.874906 ,\n",
       "       8.87506  , 8.876888 , 8.877655 , 8.880895 , 8.8829   , 8.883113 ],\n",
       "      dtype=float32)"
      ]
     },
     "execution_count": 33,
     "metadata": {},
     "output_type": "execute_result"
    }
   ],
   "source": [
    "train_overall = np.array(train_overall)\n",
    "train_overall"
   ]
  },
  {
   "cell_type": "code",
   "execution_count": 34,
   "metadata": {},
   "outputs": [
    {
     "data": {
      "text/plain": [
       "array([8.972069, 9.019654, 9.003498, 9.014179, 8.97346 , 8.954984,\n",
       "       8.966054, 9.003076, 9.028141, 8.992053, 8.963488, 8.86066 ,\n",
       "       8.880811, 8.923021, 8.908039, 8.941986, 8.979124, 8.913449,\n",
       "       8.929967, 8.915165, 8.963429, 8.954499, 8.876206, 8.94141 ,\n",
       "       8.914216, 8.944127, 8.927295, 8.929907, 8.95055 , 8.9031  ],\n",
       "      dtype=float32)"
      ]
     },
     "execution_count": 34,
     "metadata": {},
     "output_type": "execute_result"
    }
   ],
   "source": [
    "test_overall = np.array(test_overall)\n",
    "test_overall"
   ]
  },
  {
   "cell_type": "code",
   "execution_count": 3,
   "metadata": {},
   "outputs": [],
   "source": [
    "import numpy as np\n",
    "import matplotlib.pyplot as plt\n",
    "%matplotlib inline"
   ]
  },
  {
   "cell_type": "code",
   "execution_count": null,
   "metadata": {},
   "outputs": [],
   "source": [
    "# визуализируем (ошибка в зависимости от номера эпохи)"
   ]
  },
  {
   "cell_type": "code",
   "execution_count": 40,
   "metadata": {},
   "outputs": [
    {
     "data": {
      "image/png": "[encoded data removed]",
      "text/plain": [
       "<Figure size 432x288 with 1 Axes>"
      ]
     },
     "metadata": {
      "needs_background": "light"
     },
     "output_type": "display_data"
    }
   ],
   "source": [
    "x = np.arange(0, 30)\n",
    "\n",
    "plt.plot(x, train_overall, 'c', linestyle = '-')\n",
    "plt.plot(x, test_overall, 'magenta', linestyle = '--')\n",
    "plt.xlabel(\"Epoch\")\n",
    "plt.ylabel(\"RMSE\")\n",
    "plt.title(\"Loss during epochs\")\n",
    "plt.legend(['Train', 'Test'])\n",
    "plt.grid()\n",
    "plt.axis([0, 30, -1.2, 1.2])\n",
    "plt.ylim(8.7, 9.1)\n",
    "plt.show()"
   ]
  },
  {
   "cell_type": "code",
   "execution_count": null,
   "metadata": {},
   "outputs": [],
   "source": [
    "# ну вроде и опускается ниже 8.9, но хочется лучше. Продолжим поиски хорошей модели"
   ]
  },
  {
   "cell_type": "code",
   "execution_count": 84,
   "metadata": {},
   "outputs": [
    {
     "data": {
      "application/vnd.jupyter.widget-view+json": {
       "model_id": "88e9f8a8bfc3439f944c9255c6d190d2",
       "version_major": 2,
       "version_minor": 0
      },
      "text/plain": [
       "  0%|          | 0/3227 [00:00<?, ?it/s]"
      ]
     },
     "metadata": {},
     "output_type": "display_data"
    },
    {
     "data": {
      "text/plain": [
       "10.689758637565511"
      ]
     },
     "execution_count": 84,
     "metadata": {},
     "output_type": "execute_result"
    }
   ],
   "source": [
    "y_pred = torch.Tensor([])\n",
    "for x, y in tqdm(test_loader):\n",
    "    y_batch = model(x.float())\n",
    "    y_pred = torch.cat((y_pred, y_batch), 0)\n",
    "y_pred = y_pred.detach().numpy() * delta + Min\n",
    "mean_squared_error(y_pred, y_test * delta + Min)**(1/2)"
   ]
  },
  {
   "cell_type": "code",
   "execution_count": null,
   "metadata": {},
   "outputs": [],
   "source": [
    "# bad..."
   ]
  },
  {
   "cell_type": "code",
   "execution_count": 56,
   "metadata": {},
   "outputs": [],
   "source": [
    "# тут я поменял размеры некоторых слоев, а также убрал BatchNorm и один Dropout\n",
    "# сработало, однако\n",
    "set_random_seed(123)\n",
    "model1 = nn.Sequential(           \n",
    "    nn.Linear(90, 64),  # первый слой 90 -> 64 (у объекта же 90 признаков)\n",
    "    #nn.BatchNorm1d(64), # Batch нормализация после каждого слоя\n",
    "    nn.ReLU(),           # нелинейность   \n",
    "    nn.Dropout(0.2),     # регуляризация в виде выбрасывания 20% нейронов (после нелинейности!)\n",
    "    nn.Linear(64, 128), # второй слой\n",
    "    #nn.BatchNorm1d(128),\n",
    "    nn.ReLU(),        \n",
    "    #nn.Dropout(0.3),\n",
    "    nn.Linear(128, 1)   # 1 выход - число, так как мы решаем задачу регрессии\n",
    ")\n",
    "optimizer1 = torch.optim.SGD(model1.parameters(), lr=0.01) # стохастический градиентный спуск с размером шага 0.01\n",
    "criterion1 = torch.nn.MSELoss() # просто достаем из библиотеки MSE. Будем ее оптимизировать, а для вывода результатов не забудем\n",
    "                               # извлечь корень"
   ]
  },
  {
   "cell_type": "code",
   "execution_count": 57,
   "metadata": {},
   "outputs": [
    {
     "name": "stdout",
     "output_type": "stream",
     "text": [
      "Epoch: 0, test_RMSE: 8.751925468444824\n",
      "Epoch: 1, test_RMSE: 8.288558959960938\n",
      "Epoch: 2, test_RMSE: 8.187527656555176\n",
      "Epoch: 3, test_RMSE: 8.123811721801758\n",
      "Epoch: 4, test_RMSE: 8.134510040283203\n",
      "Epoch: 5, test_RMSE: 8.083037376403809\n",
      "Epoch: 6, test_RMSE: 8.04208755493164\n",
      "Epoch: 7, test_RMSE: 8.036205291748047\n",
      "Epoch: 8, test_RMSE: 7.950870513916016\n",
      "Epoch: 9, test_RMSE: 7.953354835510254\n",
      "Epoch: 10, test_RMSE: 7.938246250152588\n",
      "Epoch: 11, test_RMSE: 7.873656272888184\n",
      "Epoch: 12, test_RMSE: 7.908360958099365\n",
      "Epoch: 13, test_RMSE: 7.868372440338135\n",
      "Epoch: 14, test_RMSE: 7.881365776062012\n",
      "Epoch: 15, test_RMSE: 7.898017883300781\n",
      "Epoch: 16, test_RMSE: 7.824026107788086\n",
      "Epoch: 17, test_RMSE: 7.841625690460205\n",
      "Epoch: 18, test_RMSE: 7.809647083282471\n",
      "Epoch: 19, test_RMSE: 7.766821384429932\n",
      "Epoch: 20, test_RMSE: 7.7766242027282715\n",
      "Epoch: 21, test_RMSE: 7.879766941070557\n",
      "Epoch: 22, test_RMSE: 7.82597017288208\n",
      "Epoch: 23, test_RMSE: 7.8159661293029785\n",
      "Epoch: 24, test_RMSE: 7.824450969696045\n",
      "Epoch: 25, test_RMSE: 7.852285385131836\n",
      "Epoch: 26, test_RMSE: 7.804962158203125\n",
      "Epoch: 27, test_RMSE: 7.804562091827393\n",
      "Epoch: 28, test_RMSE: 7.855226516723633\n",
      "Epoch: 29, test_RMSE: 7.759073257446289\n"
     ]
    }
   ],
   "source": [
    "set_random_seed(123)\n",
    "train_overall1, test_overall1 = train(model1, optimizer1, criterion1, train_loader, test_loader)"
   ]
  },
  {
   "cell_type": "code",
   "execution_count": 58,
   "metadata": {},
   "outputs": [],
   "source": [
    "train_overall2 = np.array(train_overall1)\n",
    "test_overall2 = np.array(test_overall1)"
   ]
  },
  {
   "cell_type": "code",
   "execution_count": 60,
   "metadata": {},
   "outputs": [
    {
     "data": {
      "image/png": "[encoded data removed]",
      "text/plain": [
       "<Figure size 432x288 with 1 Axes>"
      ]
     },
     "metadata": {
      "needs_background": "light"
     },
     "output_type": "display_data"
    }
   ],
   "source": [
    "x = np.arange(0, 30)\n",
    "\n",
    "plt.plot(x, train_overall2, 'c', linestyle = '-')\n",
    "plt.plot(x, test_overall2, 'magenta', linestyle = '--')\n",
    "plt.xlabel(\"Epoch\")\n",
    "plt.ylabel(\"RMSE\")\n",
    "plt.title(\"Loss during epochs\")\n",
    "plt.legend(['Train', 'Test'])\n",
    "plt.grid()\n",
    "plt.axis([0, 30, -1.2, 1.2])\n",
    "plt.ylim(7.5, 8.75)\n",
    "plt.show()"
   ]
  },
  {
   "cell_type": "code",
   "execution_count": 76,
   "metadata": {},
   "outputs": [],
   "source": [
    "from tqdm.notebook import tqdm"
   ]
  },
  {
   "cell_type": "code",
   "execution_count": 78,
   "metadata": {},
   "outputs": [
    {
     "data": {
      "application/vnd.jupyter.widget-view+json": {
       "model_id": "b9a7b1ae9546461ea07aaf4566720993",
       "version_major": 2,
       "version_minor": 0
      },
      "text/plain": [
       "  0%|          | 0/3227 [00:00<?, ?it/s]"
      ]
     },
     "metadata": {},
     "output_type": "display_data"
    }
   ],
   "source": [
    "y_pred = torch.Tensor([])\n",
    "for x, y in tqdm(test_loader):\n",
    "    y_batch = model1(x.float())\n",
    "    y_pred = torch.cat((y_pred, y_batch), 0)\n",
    "y_pred = y_pred.detach().numpy() * delta + Min"
   ]
  },
  {
   "cell_type": "code",
   "execution_count": 80,
   "metadata": {},
   "outputs": [
    {
     "data": {
      "text/plain": [
       "9.332050176457345"
      ]
     },
     "execution_count": 80,
     "metadata": {},
     "output_type": "execute_result"
    }
   ],
   "source": [
    "mean_squared_error(y_pred, y_test * delta + Min)**(0.5)"
   ]
  },
  {
   "cell_type": "code",
   "execution_count": null,
   "metadata": {},
   "outputs": [],
   "source": [
    "# вышло лучше, но все равно недостаточно"
   ]
  },
  {
   "cell_type": "code",
   "execution_count": null,
   "metadata": {},
   "outputs": [],
   "source": [
    "# сделаем по-другому (используем теперь стандарт скейлер, увеличим размер батча и увеличим количество слоев)"
   ]
  },
  {
   "cell_type": "code",
   "execution_count": 9,
   "metadata": {},
   "outputs": [],
   "source": [
    "X = df.iloc[:, 1:].values\n",
    "y = df.iloc[:, 0].values\n",
    "\n",
    "train_size = 463715\n",
    "X_train = X[:train_size, :]\n",
    "y_train = y[:train_size]\n",
    "X_test = X[train_size:, :]\n",
    "y_test = y[train_size:]"
   ]
  },
  {
   "cell_type": "code",
   "execution_count": 10,
   "metadata": {},
   "outputs": [],
   "source": [
    "from sklearn.preprocessing import StandardScaler\n",
    "\n",
    "x_scale = StandardScaler()\n",
    "y_scale = StandardScaler()\n",
    "X_train = x_scale.fit_transform(X_train)\n",
    "y_train = y_scale.fit_transform(y_train.reshape(-1, 1))\n",
    "X_test = x_scale.transform(X_test)\n",
    "y_test = y_scale.transform(y_test.reshape(-1, 1))"
   ]
  },
  {
   "cell_type": "code",
   "execution_count": 32,
   "metadata": {},
   "outputs": [],
   "source": [
    "train_set = MyDataset(X_train, y_train)\n",
    "train_loader = torch.utils.data.DataLoader(train_set, 64, shuffle=True)\n",
    "\n",
    "test_set = MyDataset(X_test, y_test)\n",
    "test_loader = torch.utils.data.DataLoader(test_set, 64)\n",
    "\n",
    "model0 = nn.Sequential(\n",
    "    nn.Linear(90, 200),\n",
    "    nn.BatchNorm1d(200),\n",
    "    nn.ReLU(),\n",
    "    nn.Dropout(0.1),\n",
    "    nn.Linear(200, 250),\n",
    "    nn.BatchNorm1d(250),\n",
    "    nn.ReLU(),\n",
    "    nn.Dropout(0.1),\n",
    "    nn.Linear(250, 150),\n",
    "    nn.BatchNorm1d(150),\n",
    "    nn.ReLU(),\n",
    "    nn.Dropout(0.1),\n",
    "    nn.Linear(150, 1)\n",
    ")\n",
    "optimizer0 = torch.optim.Adam(model0.parameters(), lr = 0.00005) # уменьшил размер шага\n",
    "criterion0 = nn.MSELoss()"
   ]
  },
  {
   "cell_type": "code",
   "execution_count": null,
   "metadata": {},
   "outputs": [],
   "source": [
    "# нужна новая тренирующая функция, так как теперь мы другим способом приводим таргет к изначальному виду\n",
    "# еще немного поменял места, где извлекаю корень из MSE"
   ]
  },
  {
   "cell_type": "code",
   "execution_count": 13,
   "metadata": {},
   "outputs": [],
   "source": [
    "def train123(model, optimizer, criterion, train_loader, test_loader):\n",
    "    '''\n",
    "    params:\n",
    "        model - torch.nn.Module to be fitted\n",
    "        optimizer - model optimizer\n",
    "        criterion - loss function from torch.nn\n",
    "        train_loader - torch.utils.data.Dataloader with train set\n",
    "        test_loader - torch.utils.data.Dataloader with test set\n",
    "                      (if you wish to validate during training)\n",
    "    '''\n",
    "    set_random_seed(123)\n",
    "    test_overall = [] # лосс на тесте на каждой эпохе (то есть тут будет epochs значений)\n",
    "    train_overall = [] # лосс на трейне на каждой эпохе\n",
    "    for epoch in range(30): # Ну путь будет столько эпох\n",
    "        model.train()\n",
    "        train_RMSE = [] # тут будут лоссы по батчам трейна (обновляется каждую эпоху)\n",
    "        for batch in train_loader:\n",
    "            x_train = batch[0]                              # Извлекаем данные и таргет из MyDataset (у нас же на нулевом месте\n",
    "            y_train = batch[1]                              # в списке данные, а на первом - таргет)\n",
    "            y_pred = model(x_train.float())         # Делаем предсказания\n",
    "            loss = criterion(y_pred, y_train.float())        # Считаем лосс\n",
    "            loss.backward()                                # Считаем градиенты\n",
    "            optimizer.step()                               # Делаем шаг градиентного спуска\n",
    "            optimizer.zero_grad()                          # Обнуляем градиенты\n",
    "            with torch.no_grad():\n",
    "                l = torch.mean((y_pred * y_scale.scale_ - (y_train.float() * y_scale.scale_)) ** 2) # Вот тут мы считаем лосс, приводя\n",
    "                # таргет обратно к нормально виду (тут поменялось по сравнению с функцией выше)\n",
    "                train_RMSE.append(np.sqrt(l.numpy()))\n",
    "                \n",
    "        train_overall.append(np.mean(train_RMSE)) # аппендим средний лосс по всем батчам на этой эпохе\n",
    "        \n",
    "        # Сразу же будем отслеживать лосс на тесте\n",
    "        test_RMSE = [] # тут будут лоссы по батчам треста (обновляется каждую эпоху)\n",
    "        model.eval()\n",
    "        with torch.no_grad():\n",
    "            for batch in test_loader:\n",
    "                x_test = batch[0]\n",
    "                y_test = batch[1]\n",
    "                y_pred = model(x_test.float())\n",
    "                loss = criterion((y_pred * y_scale.scale_), (y_test * y_scale.scale_).float()) # Вот тут мы считаем лосс, приводя\n",
    "                # таргет обратно к нормально виду (тут поменялось по сравнению с функцией выше)\n",
    "                test_RMSE.append(np.sqrt(loss.numpy()))\n",
    "        # печатаем метрики\n",
    "        print(f\"Epoch: {epoch}, test_RMSE: {np.mean(test_RMSE)}\")\n",
    "        test_overall.append(np.mean(test_RMSE)) # аппендим средний лосс по всем батчам на этой эпохе\n",
    "    return train_overall, test_overall # будем возвращать лоссы на тесте и трейне по эпохам, чтобы потом визуализировать "
   ]
  },
  {
   "cell_type": "code",
   "execution_count": 20,
   "metadata": {},
   "outputs": [
    {
     "name": "stdout",
     "output_type": "stream",
     "text": [
      "Epoch: 0, test_RMSE: 7.863090602043939\n",
      "Epoch: 1, test_RMSE: 7.809119712090244\n",
      "Epoch: 2, test_RMSE: 7.821612255413812\n",
      "Epoch: 3, test_RMSE: 7.922799275764027\n",
      "Epoch: 4, test_RMSE: 7.851983705624058\n",
      "Epoch: 5, test_RMSE: 7.78344609515816\n",
      "Epoch: 6, test_RMSE: 7.874321012195974\n",
      "Epoch: 7, test_RMSE: 7.849511071006962\n",
      "Epoch: 8, test_RMSE: 7.750849842540982\n",
      "Epoch: 9, test_RMSE: 7.9448513521751645\n",
      "Epoch: 10, test_RMSE: 7.940471947646018\n",
      "Epoch: 11, test_RMSE: 7.817727589640588\n",
      "Epoch: 12, test_RMSE: 7.838796605352395\n",
      "Epoch: 13, test_RMSE: 7.8470966144351095\n",
      "Epoch: 14, test_RMSE: 7.832544913463845\n",
      "Epoch: 15, test_RMSE: 7.852040091134357\n",
      "Epoch: 16, test_RMSE: 7.874001267475516\n",
      "Epoch: 17, test_RMSE: 7.765291181462832\n",
      "Epoch: 18, test_RMSE: 7.825787151432791\n",
      "Epoch: 19, test_RMSE: 7.909042501983797\n",
      "Epoch: 20, test_RMSE: 7.865165895704271\n",
      "Epoch: 21, test_RMSE: 7.89840833734061\n",
      "Epoch: 22, test_RMSE: 7.85043582766901\n",
      "Epoch: 23, test_RMSE: 7.839128551587283\n",
      "Epoch: 24, test_RMSE: 7.921312088006433\n",
      "Epoch: 25, test_RMSE: 7.91355209115055\n",
      "Epoch: 26, test_RMSE: 7.886855418593935\n",
      "Epoch: 27, test_RMSE: 7.900196833292692\n",
      "Epoch: 28, test_RMSE: 7.87752391288967\n",
      "Epoch: 29, test_RMSE: 7.979579039519119\n"
     ]
    }
   ],
   "source": [
    "set_random_seed(123)\n",
    "train_overall12, test_overall12 = train123(model0, optimizer0, criterion0, train_loader, test_loader)"
   ]
  },
  {
   "cell_type": "code",
   "execution_count": 21,
   "metadata": {},
   "outputs": [],
   "source": [
    "train_overall12 = np.array(train_overall12)\n",
    "test_overall12 = np.array(test_overall12)"
   ]
  },
  {
   "cell_type": "code",
   "execution_count": 22,
   "metadata": {},
   "outputs": [
    {
     "data": {
      "image/png": "[encoded data removed]",
      "text/plain": [
       "<Figure size 432x288 with 1 Axes>"
      ]
     },
     "metadata": {
      "needs_background": "light"
     },
     "output_type": "display_data"
    }
   ],
   "source": [
    "x = np.arange(0, 30)\n",
    "plt.plot(x, train_overall12, 'c', linestyle = '-')\n",
    "plt.plot(x, test_overall12, 'magenta', linestyle = '--')\n",
    "plt.xlabel(\"Epoch\")\n",
    "plt.ylabel(\"RMSE\")\n",
    "plt.title(\"Loss during epochs\")\n",
    "plt.legend(['Train', 'Test'])\n",
    "plt.grid()\n",
    "plt.axis([0, 30, -1.2, 1.2])\n",
    "plt.ylim(7.5, 8.75)\n",
    "plt.show()"
   ]
  },
  {
   "cell_type": "code",
   "execution_count": 40,
   "metadata": {},
   "outputs": [
    {
     "data": {
      "application/vnd.jupyter.widget-view+json": {
       "model_id": "ae014cf32779438bbd6a2ea05069987e",
       "version_major": 2,
       "version_minor": 0
      },
      "text/plain": [
       "  0%|          | 0/807 [00:00<?, ?it/s]"
      ]
     },
     "metadata": {},
     "output_type": "display_data"
    },
    {
     "data": {
      "text/plain": [
       "8.741595869922078"
      ]
     },
     "execution_count": 40,
     "metadata": {},
     "output_type": "execute_result"
    }
   ],
   "source": [
    "set_random_seed(123)\n",
    "y_pred = torch.Tensor([])\n",
    "for x, y in tqdm(test_loader):\n",
    "    y_batch = model0(x.float())\n",
    "    y_pred = torch.cat((y_pred, y_batch), 0)\n",
    "y_pred = y_scale.inverse_transform(y_pred.detach().numpy())\n",
    "mean_squared_error(y_pred, y_scale.inverse_transform(y_test))**(1/2)"
   ]
  },
  {
   "cell_type": "code",
   "execution_count": null,
   "metadata": {},
   "outputs": [],
   "source": [
    "# ура!"
   ]
  },
  {
   "cell_type": "markdown",
   "metadata": {
    "id": "bk5pEwa66UZn"
   },
   "source": [
    "Итого:\n",
    "\n",
    "Пробовал по-разному делать. Сначала не нормировал датасет с таргетом, так как думал, что тогда RMSE будет маленьким и мы не сможем сравнить результат с бейзлайном. В этом случае возникала проблема, что лосс неограниченно рос, а затем вообще все улетало в nan. Справиться с этой проблем как раз помогла нормализация признаков. Я понял, что можно таргет нормализовать, пото обучить, а потом вернуть обратно, чтобы посчитать RMSE и получилось нормальное значение, которое можно сравнивать с бейзлайном.\n",
    "\n",
    "Стал обучать модель в начале без Dropout, то есть была обычная полносвязная модель. Она давала не очень хорошие результаты, видимо, все-таки было переобучение. Потом обнаружил, что выставил слишком маленький шаг у оптимайзера: сходились невероятно долго. Выставил шаг 0.01 (с ним вроде более менее). В начале у меня еще был размер батча в 4 раза больше, но потом увидел в группе, что ассистенты обсуждали, что это много. Снизил до 16.\n",
    "\n",
    "Моделей обучил довольно много: двухслойную (model = nn.Sequential(nn.Linear(90, 128), nn.ReLU(), nn.Linear(128, 1))) - ошибка было сильно больше 9, \n",
    "\n",
    "трехслойную (model = nn.Sequential(nn.Linear(90, 128), nn.ReLU(), nn.Linear(128, 128), nn.ReLU(), nn.Linear(128, 1)) - та же проблема, ошибка около 9 - 9.3, \n",
    "\n",
    "потом добавил сразу и Dropout, и BatchNorm. Получил модель, которая есть выше (первая). На графике можно посмотреть на RMSE.\n",
    "\n",
    "Дальше уже поигрался с weight_decay, который мне ничего не улучшал, попробовал поизменять размеры слоев и процент нейронов в dropout (все еще лосс гулял между 8.9 и 9.3). Повыкидывал из модели некоторые BatchNorm и Dropout. Результаты есть выше, но они не сильно хорошие вышли. Лучшая модель - последняя"
   ]
  },
  {
   "cell_type": "code",
   "execution_count": null,
   "metadata": {},
   "outputs": [],
   "source": []
  }
 ],
 "metadata": {
  "colab": {
   "collapsed_sections": [],
   "name": "intro-hw01.ipynb",
   "provenance": []
  },
  "kernelspec": {
   "display_name": "Python 3 (ipykernel)",
   "language": "python",
   "name": "python3"
  },
  "language_info": {
   "codemirror_mode": {
    "name": "ipython",
    "version": 3
   },
   "file_extension": ".py",
   "mimetype": "text/x-python",
   "name": "python",
   "nbconvert_exporter": "python",
   "pygments_lexer": "ipython3",
   "version": "3.9.7"
  }
 },
 "nbformat": 4,
 "nbformat_minor": 1
}
