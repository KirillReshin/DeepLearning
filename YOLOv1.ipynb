{
 "cells": [
  {
   "cell_type": "markdown",
   "metadata": {
    "id": "vKdcvMtSMpSg"
   },
   "source": [
    "# YOLO.\n",
    "\n",
    "Напишим и обучим свой собственный YOLO детектор. Нужно будет разобраться со статьей: понять какого формата должна быть обучающая пара (x, y), как перевести лосс из математической формулы в питоновский код - ну и конечно понять и реализовать саму архитектуру модели.\n",
    "\n",
    "Выборка на котрой мы будем обучать модель состоит из разнообразных фотографий яблок, бананов и апельсинов. Данные скачиваем [отсюда](https://drive.google.com/file/d/1d8GSfZoWbraWCSUhX78yl4CnMFYE-5n3/view?usp=sharing)."
   ]
  },
  {
   "cell_type": "code",
   "execution_count": 1,
   "metadata": {
    "colab": {
     "base_uri": "https://localhost:8080/"
    },
    "id": "TY4niK1xMpSg",
    "outputId": "e9c4b528-e1b8-4359-eb03-82ee82975301"
   },
   "outputs": [
    {
     "name": "stdout",
     "output_type": "stream",
     "text": [
      "Looking in indexes: https://pypi.org/simple, https://us-python.pkg.dev/colab-wheels/public/simple/\n",
      "Collecting xmltodict\n",
      "  Downloading xmltodict-0.13.0-py2.py3-none-any.whl (10.0 kB)\n",
      "Collecting pytorch-lightning\n",
      "  Downloading pytorch_lightning-1.8.5.post0-py3-none-any.whl (800 kB)\n",
      "\u001b[K     |████████████████████████████████| 800 kB 3.9 MB/s \n",
      "\u001b[?25hRequirement already satisfied: PyYAML>=5.4 in /usr/local/lib/python3.8/dist-packages (from pytorch-lightning) (6.0)\n",
      "Requirement already satisfied: torch>=1.9.0 in /usr/local/lib/python3.8/dist-packages (from pytorch-lightning) (1.13.0+cu116)\n",
      "Requirement already satisfied: tqdm>=4.57.0 in /usr/local/lib/python3.8/dist-packages (from pytorch-lightning) (4.64.1)\n",
      "Collecting torchmetrics>=0.7.0\n",
      "  Downloading torchmetrics-0.11.0-py3-none-any.whl (512 kB)\n",
      "\u001b[K     |████████████████████████████████| 512 kB 41.9 MB/s \n",
      "\u001b[?25hRequirement already satisfied: numpy>=1.17.2 in /usr/local/lib/python3.8/dist-packages (from pytorch-lightning) (1.21.6)\n",
      "Requirement already satisfied: fsspec[http]>2021.06.0 in /usr/local/lib/python3.8/dist-packages (from pytorch-lightning) (2022.11.0)\n",
      "Collecting tensorboardX>=2.2\n",
      "  Downloading tensorboardX-2.5.1-py2.py3-none-any.whl (125 kB)\n",
      "\u001b[K     |████████████████████████████████| 125 kB 57.2 MB/s \n",
      "\u001b[?25hCollecting lightning-utilities!=0.4.0,>=0.3.0\n",
      "  Downloading lightning_utilities-0.4.2-py3-none-any.whl (16 kB)\n",
      "Requirement already satisfied: packaging>=17.0 in /usr/local/lib/python3.8/dist-packages (from pytorch-lightning) (21.3)\n",
      "Requirement already satisfied: typing-extensions>=4.0.0 in /usr/local/lib/python3.8/dist-packages (from pytorch-lightning) (4.4.0)\n",
      "Requirement already satisfied: aiohttp!=4.0.0a0,!=4.0.0a1 in /usr/local/lib/python3.8/dist-packages (from fsspec[http]>2021.06.0->pytorch-lightning) (3.8.3)\n",
      "Requirement already satisfied: requests in /usr/local/lib/python3.8/dist-packages (from fsspec[http]>2021.06.0->pytorch-lightning) (2.23.0)\n",
      "Requirement already satisfied: multidict<7.0,>=4.5 in /usr/local/lib/python3.8/dist-packages (from aiohttp!=4.0.0a0,!=4.0.0a1->fsspec[http]>2021.06.0->pytorch-lightning) (6.0.3)\n",
      "Requirement already satisfied: attrs>=17.3.0 in /usr/local/lib/python3.8/dist-packages (from aiohttp!=4.0.0a0,!=4.0.0a1->fsspec[http]>2021.06.0->pytorch-lightning) (22.1.0)\n",
      "Requirement already satisfied: async-timeout<5.0,>=4.0.0a3 in /usr/local/lib/python3.8/dist-packages (from aiohttp!=4.0.0a0,!=4.0.0a1->fsspec[http]>2021.06.0->pytorch-lightning) (4.0.2)\n",
      "Requirement already satisfied: charset-normalizer<3.0,>=2.0 in /usr/local/lib/python3.8/dist-packages (from aiohttp!=4.0.0a0,!=4.0.0a1->fsspec[http]>2021.06.0->pytorch-lightning) (2.1.1)\n",
      "Requirement already satisfied: frozenlist>=1.1.1 in /usr/local/lib/python3.8/dist-packages (from aiohttp!=4.0.0a0,!=4.0.0a1->fsspec[http]>2021.06.0->pytorch-lightning) (1.3.3)\n",
      "Requirement already satisfied: yarl<2.0,>=1.0 in /usr/local/lib/python3.8/dist-packages (from aiohttp!=4.0.0a0,!=4.0.0a1->fsspec[http]>2021.06.0->pytorch-lightning) (1.8.2)\n",
      "Requirement already satisfied: aiosignal>=1.1.2 in /usr/local/lib/python3.8/dist-packages (from aiohttp!=4.0.0a0,!=4.0.0a1->fsspec[http]>2021.06.0->pytorch-lightning) (1.3.1)\n",
      "Requirement already satisfied: pyparsing!=3.0.5,>=2.0.2 in /usr/local/lib/python3.8/dist-packages (from packaging>=17.0->pytorch-lightning) (3.0.9)\n",
      "Requirement already satisfied: protobuf<=3.20.1,>=3.8.0 in /usr/local/lib/python3.8/dist-packages (from tensorboardX>=2.2->pytorch-lightning) (3.19.6)\n",
      "Requirement already satisfied: idna>=2.0 in /usr/local/lib/python3.8/dist-packages (from yarl<2.0,>=1.0->aiohttp!=4.0.0a0,!=4.0.0a1->fsspec[http]>2021.06.0->pytorch-lightning) (2.10)\n",
      "Requirement already satisfied: chardet<4,>=3.0.2 in /usr/local/lib/python3.8/dist-packages (from requests->fsspec[http]>2021.06.0->pytorch-lightning) (3.0.4)\n",
      "Requirement already satisfied: certifi>=2017.4.17 in /usr/local/lib/python3.8/dist-packages (from requests->fsspec[http]>2021.06.0->pytorch-lightning) (2022.12.7)\n",
      "Requirement already satisfied: urllib3!=1.25.0,!=1.25.1,<1.26,>=1.21.1 in /usr/local/lib/python3.8/dist-packages (from requests->fsspec[http]>2021.06.0->pytorch-lightning) (1.24.3)\n",
      "Installing collected packages: torchmetrics, tensorboardX, lightning-utilities, xmltodict, pytorch-lightning\n",
      "Successfully installed lightning-utilities-0.4.2 pytorch-lightning-1.8.5.post0 tensorboardX-2.5.1 torchmetrics-0.11.0 xmltodict-0.13.0\n"
     ]
    }
   ],
   "source": [
    "# Данная библиотека понадобится нам, чтобы обработать разметку\n",
    "! pip install xmltodict pytorch-lightning"
   ]
  },
  {
   "cell_type": "markdown",
   "metadata": {
    "id": "hNSQ7FNss30F"
   },
   "source": [
    "Скачаем данные"
   ]
  },
  {
   "cell_type": "code",
   "execution_count": 2,
   "metadata": {
    "colab": {
     "base_uri": "https://localhost:8080/"
    },
    "id": "lN1dE6eY7PjV",
    "outputId": "d8198e37-fb32-409a-84b3-530c3e673a70"
   },
   "outputs": [
    {
     "name": "stdout",
     "output_type": "stream",
     "text": [
      "total 12\n",
      "drwx------ 4 root root 4096 Nov 26 08:32 data\n",
      "drwxr-xr-x 3 root root 4096 Dec 19 11:17 __MACOSX\n",
      "drwxr-xr-x 1 root root 4096 Dec 16 00:01 sample_data\n"
     ]
    }
   ],
   "source": [
    "!wget --quiet --load-cookies /tmp/cookies.txt \"https://docs.google.com/uc?export=download&confirm=$(wget --quiet --save-cookies /tmp/cookies.txt --keep-session-cookies --no-check-certificate 'https://drive.google.com/uc?export=download&id=1d8GSfZoWbraWCSUhX78yl4CnMFYE-5n3' -O- | sed -rn 's/.*confirm=([0-9A-Za-z_]+).*/\\1\\n/p')&id=1d8GSfZoWbraWCSUhX78yl4CnMFYE-5n3\" -O data.zip && rm -rf /tmp/cookies.txt\n",
    "!unzip -q data.zip\n",
    "!rm data.zip\n",
    "!ls -l"
   ]
  },
  {
   "cell_type": "markdown",
   "metadata": {
    "id": "Ep38vdW_s-Rz"
   },
   "source": [
    "Посмотрим как выглядит один из файлов разметки"
   ]
  },
  {
   "cell_type": "code",
   "execution_count": 3,
   "metadata": {
    "colab": {
     "base_uri": "https://localhost:8080/"
    },
    "id": "OqwaHl3ntBaN",
    "outputId": "175e86c2-fc2e-46e9-92f4-2fd1f3b74350"
   },
   "outputs": [
    {
     "name": "stdout",
     "output_type": "stream",
     "text": [
      "<annotation>\n",
      "\t<folder>train</folder>\n",
      "\t<filename>apple_3.jpg</filename>\n",
      "\t<path>C:\\tensorflow1\\models\\research\\object_detection\\images\\train\\apple_3.jpg</path>\n",
      "\t<source>\n",
      "\t\t<database>Unknown</database>\n",
      "\t</source>\n",
      "\t<size>\n",
      "\t\t<width>1000</width>\n",
      "\t\t<height>708</height>\n",
      "\t\t<depth>3</depth>\n",
      "\t</size>\n",
      "\t<segmented>0</segmented>\n",
      "\t<object>\n",
      "\t\t<name>apple</name>\n",
      "\t\t<pose>Unspecified</pose>\n",
      "\t\t<truncated>1</truncated>\n",
      "\t\t<difficult>0</difficult>\n",
      "\t\t<bndbox>\n",
      "\t\t\t<xmin>584</xmin>\n",
      "\t\t\t<ymin>438</ymin>\n",
      "\t\t\t<xmax>867</xmax>\n",
      "\t\t\t<ymax>708</ymax>\n",
      "\t\t</bndbox>\n",
      "\t</object>\n",
      "\t<object>\n",
      "\t\t<name>apple</name>\n",
      "\t\t<pose>Unspecified</pose>\n",
      "\t\t<truncated>0</truncated>\n",
      "\t\t<difficult>0</difficult>\n",
      "\t\t<bndbox>\n",
      "\t\t\t<xmin>492</xmin>\n",
      "\t\t\t<ymin>141</ymin>\n",
      "\t\t\t<xmax>740</xmax>\n",
      "\t\t\t<ymax>394</ymax>\n",
      "\t\t</bndbox>\n",
      "\t</object>\n",
      "\t<object>\n",
      "\t\t<name>apple</name>\n",
      "\t\t<pose>Unspecified</pose>\n",
      "\t\t<truncated>0</truncated>\n",
      "\t\t<difficult>0</difficult>\n",
      "\t\t<bndbox>\n",
      "\t\t\t<xmin>176</xmin>\n",
      "\t\t\t<ymin>199</ymin>\n",
      "\t\t\t<xmax>490</xmax>\n",
      "\t\t\t<ymax>466</ymax>\n",
      "\t\t</bndbox>\n",
      "\t</object>\n",
      "\t<object>\n",
      "\t\t<name>apple</name>\n",
      "\t\t<pose>Unspecified</pose>\n",
      "\t\t<truncated>0</truncated>\n",
      "\t\t<difficult>0</difficult>\n",
      "\t\t<bndbox>\n",
      "\t\t\t<xmin>367</xmin>\n",
      "\t\t\t<ymin>17</ymin>\n",
      "\t\t\t<xmax>619</xmax>\n",
      "\t\t\t<ymax>240</ymax>\n",
      "\t\t</bndbox>\n",
      "\t</object>\n",
      "\t<object>\n",
      "\t\t<name>apple</name>\n",
      "\t\t<pose>Unspecified</pose>\n",
      "\t\t<truncated>0</truncated>\n",
      "\t\t<difficult>0</difficult>\n",
      "\t\t<bndbox>\n",
      "\t\t\t<xmin>642</xmin>\n",
      "\t\t\t<ymin>35</ymin>\n",
      "\t\t\t<xmax>907</xmax>\n",
      "\t\t\t<ymax>269</ymax>\n",
      "\t\t</bndbox>\n",
      "\t</object>\n",
      "</annotation>\n"
     ]
    }
   ],
   "source": [
    "!cat data/train/apple_3.xml"
   ]
  },
  {
   "cell_type": "code",
   "execution_count": 4,
   "metadata": {
    "id": "VPmVqyOhw8yd"
   },
   "outputs": [],
   "source": [
    "from PIL import Image"
   ]
  },
  {
   "cell_type": "code",
   "execution_count": 5,
   "metadata": {
    "colab": {
     "base_uri": "https://localhost:8080/",
     "height": 257
    },
    "id": "T1Q7dLCMv9Bd",
    "outputId": "3cfd854c-904c-437b-e935-f1026d40c85d"
   },
   "outputs": [
    {
     "data": {
      "image/png": "[encoded data removed]",
      "text/plain": [
       "<PIL.JpegImagePlugin.JpegImageFile image mode=RGB size=351x240 at 0x7FE9799062B0>"
      ]
     },
     "execution_count": 5,
     "metadata": {},
     "output_type": "execute_result"
    }
   ],
   "source": [
    "Image.open('data/train/apple_4.jpg')"
   ]
  },
  {
   "cell_type": "code",
   "execution_count": 6,
   "metadata": {
    "colab": {
     "base_uri": "https://localhost:8080/"
    },
    "id": "IY2Wd84R65D5",
    "outputId": "23ae203e-c165-4f79-f9a6-16cc16264d37"
   },
   "outputs": [
    {
     "name": "stdout",
     "output_type": "stream",
     "text": [
      "total 24772\n",
      "-rw-rw-r-- 1 root root 317019 Oct  2  2019 apple_10.jpg\n",
      "-rw-rw-r-- 1 root root    560 Oct  2  2019 apple_10.xml\n",
      "-rw-rw-r-- 1 root root  68922 Oct  2  2019 apple_11.jpg\n",
      "-rw-rw-r-- 1 root root   1004 Oct  2  2019 apple_11.xml\n",
      "-rw-rw-r-- 1 root root  38178 Oct  2  2019 apple_12.jpg\n",
      "-rw-rw-r-- 1 root root    556 Oct  2  2019 apple_12.xml\n",
      "-rw-rw-r-- 1 root root 139926 Oct  2  2019 apple_13.jpg\n",
      "-rw-rw-r-- 1 root root   1010 Oct  2  2019 apple_13.xml\n",
      "-rw-rw-r-- 1 root root 197300 Oct  2  2019 apple_14.jpg\n",
      "-rw-rw-r-- 1 root root    558 Oct  2  2019 apple_14.xml\n",
      "-rw-rw-r-- 1 root root  39679 Oct  2  2019 apple_15.jpg\n",
      "-rw-rw-r-- 1 root root    562 Oct  2  2019 apple_15.xml\n",
      "-rw-rw-r-- 1 root root  15525 Oct  2  2019 apple_16.jpg\n",
      "-rw-rw-r-- 1 root root    556 Oct  2  2019 apple_16.xml\n",
      "-rw-rw-r-- 1 root root 364745 Oct  2  2019 apple_17.jpg\n",
      "-rw-rw-r-- 1 root root    554 Oct  2  2019 apple_17.xml\n",
      "-rw-rw-r-- 1 root root  33011 Oct  2  2019 apple_18.jpg\n",
      "-rw-rw-r-- 1 root root    558 Oct  2  2019 apple_18.xml\n",
      "-rw-rw-r-- 1 root root 173810 Oct  2  2019 apple_19.jpg\n",
      "-rw-rw-r-- 1 root root    562 Oct  2  2019 apple_19.xml\n",
      "-rw-rw-r-- 1 root root 157639 Oct  2  2019 apple_1.jpg\n",
      "-rw-rw-r-- 1 root root    549 Oct  2  2019 apple_1.xml\n",
      "-rw-rw-r-- 1 root root  39088 Oct  2  2019 apple_20.jpg\n",
      "-rw-rw-r-- 1 root root    552 Oct  2  2019 apple_20.xml\n",
      "-rw-rw-r-- 1 root root  66000 Oct  2  2019 apple_21.jpg\n",
      "-rw-rw-r-- 1 root root    783 Oct  2  2019 apple_21.xml\n",
      "-rw-rw-r-- 1 root root  23755 Oct  2  2019 apple_22.jpg\n",
      "-rw-rw-r-- 1 root root    558 Oct  2  2019 apple_22.xml\n",
      "-rw-rw-r-- 1 root root   5807 Oct  2  2019 apple_23.jpg\n",
      "-rw-rw-r-- 1 root root   1009 Oct  2  2019 apple_23.xml\n",
      "-rw-rw-r-- 1 root root 205067 Oct  2  2019 apple_24.jpg\n",
      "-rw-rw-r-- 1 root root   1007 Oct  2  2019 apple_24.xml\n",
      "-rw-rw-r-- 1 root root  18827 Oct  2  2019 apple_25.jpg\n",
      "-rw-rw-r-- 1 root root    557 Oct  2  2019 apple_25.xml\n",
      "-rw-rw-r-- 1 root root  26490 Oct  2  2019 apple_26.jpg\n",
      "-rw-rw-r-- 1 root root    557 Oct  2  2019 apple_26.xml\n",
      "-rw-rw-r-- 1 root root  37824 Oct  2  2019 apple_27.jpg\n",
      "-rw-rw-r-- 1 root root    555 Oct  2  2019 apple_27.xml\n",
      "-rw-rw-r-- 1 root root  95253 Oct  2  2019 apple_28.jpg\n",
      "-rw-rw-r-- 1 root root    552 Oct  2  2019 apple_28.xml\n",
      "-rw-rw-r-- 1 root root  12206 Oct  2  2019 apple_29.jpg\n",
      "-rw-rw-r-- 1 root root    556 Oct  2  2019 apple_29.xml\n",
      "-rw-rw-r-- 1 root root  14151 Oct  2  2019 apple_2.jpg\n",
      "-rw-rw-r-- 1 root root    554 Oct  2  2019 apple_2.xml\n",
      "-rw-rw-r-- 1 root root 148004 Oct  2  2019 apple_30.jpg\n",
      "-rw-rw-r-- 1 root root   1459 Oct  2  2019 apple_30.xml\n",
      "-rw-rw-r-- 1 root root  61766 Oct  2  2019 apple_31.jpg\n",
      "-rw-rw-r-- 1 root root    781 Oct  2  2019 apple_31.xml\n",
      "-rw-rw-r-- 1 root root 112665 Oct  2  2019 apple_32.jpg\n",
      "-rw-rw-r-- 1 root root    560 Oct  2  2019 apple_32.xml\n",
      "-rw-rw-r-- 1 root root  65408 Oct  2  2019 apple_33.jpg\n",
      "-rw-rw-r-- 1 root root    556 Oct  2  2019 apple_33.xml\n",
      "-rw-rw-r-- 1 root root   8784 Oct  2  2019 apple_35.jpg\n",
      "-rw-rw-r-- 1 root root    557 Oct  2  2019 apple_35.xml\n",
      "-rw-rw-r-- 1 root root   2511 Oct  2  2019 apple_36.jpg\n",
      "-rw-rw-r-- 1 root root    555 Oct  2  2019 apple_36.xml\n",
      "-rw-rw-r-- 1 root root  45885 Oct  2  2019 apple_37.jpg\n",
      "-rw-rw-r-- 1 root root    552 Oct  2  2019 apple_37.xml\n",
      "-rw-rw-r-- 1 root root 164702 Oct  2  2019 apple_38.jpg\n",
      "-rw-rw-r-- 1 root root    561 Oct  2  2019 apple_38.xml\n",
      "-rw-rw-r-- 1 root root 259535 Oct  2  2019 apple_39.jpg\n",
      "-rw-rw-r-- 1 root root    559 Oct  2  2019 apple_39.xml\n",
      "-rw-rw-r-- 1 root root 260464 Oct  2  2019 apple_3.jpg\n",
      "-rw-rw-r-- 1 root root   1459 Oct  2  2019 apple_3.xml\n",
      "-rw-rw-r-- 1 root root  40891 Oct  2  2019 apple_40.jpg\n",
      "-rw-rw-r-- 1 root root    557 Oct  2  2019 apple_40.xml\n",
      "-rw-rw-r-- 1 root root  27683 Oct  2  2019 apple_41.jpg\n",
      "-rw-rw-r-- 1 root root    557 Oct  2  2019 apple_41.xml\n",
      "-rw-rw-r-- 1 root root  71180 Oct  2  2019 apple_42.jpg\n",
      "-rw-rw-r-- 1 root root    552 Oct  2  2019 apple_42.xml\n",
      "-rw-rw-r-- 1 root root 182751 Oct  2  2019 apple_43.jpg\n",
      "-rw-rw-r-- 1 root root    554 Oct  2  2019 apple_43.xml\n",
      "-rw-rw-r-- 1 root root 158633 Oct  2  2019 apple_44.jpg\n",
      "-rw-rw-r-- 1 root root    552 Oct  2  2019 apple_44.xml\n",
      "-rw-rw-r-- 1 root root  34881 Oct  2  2019 apple_45.jpg\n",
      "-rw-rw-r-- 1 root root    781 Oct  2  2019 apple_45.xml\n",
      "-rw-rw-r-- 1 root root 138679 Oct  2  2019 apple_46.jpg\n",
      "-rw-rw-r-- 1 root root   1911 Oct  2  2019 apple_46.xml\n",
      "-rw-rw-r-- 1 root root 159723 Oct  2  2019 apple_47.jpg\n",
      "-rw-rw-r-- 1 root root   1006 Oct  2  2019 apple_47.xml\n",
      "-rw-rw-r-- 1 root root  85421 Oct  2  2019 apple_48.jpg\n",
      "-rw-rw-r-- 1 root root    784 Oct  2  2019 apple_48.xml\n",
      "-rw-rw-r-- 1 root root  17957 Oct  2  2019 apple_49.jpg\n",
      "-rw-rw-r-- 1 root root    556 Oct  2  2019 apple_49.xml\n",
      "-rw-rw-r-- 1 root root  29645 Oct  2  2019 apple_4.jpg\n",
      "-rw-rw-r-- 1 root root    779 Oct  2  2019 apple_4.xml\n",
      "-rw-rw-r-- 1 root root  14291 Oct  2  2019 apple_50.jpg\n",
      "-rw-rw-r-- 1 root root   1006 Oct  2  2019 apple_50.xml\n",
      "-rw-rw-r-- 1 root root  26255 Oct  2  2019 apple_51.jpg\n",
      "-rw-rw-r-- 1 root root    556 Oct  2  2019 apple_51.xml\n",
      "-rw-rw-r-- 1 root root  50869 Oct  2  2019 apple_52.jpg\n",
      "-rw-rw-r-- 1 root root   2136 Oct  2  2019 apple_52.xml\n",
      "-rw-rw-r-- 1 root root   7460 Oct  2  2019 apple_53.jpg\n",
      "-rw-rw-r-- 1 root root    556 Oct  2  2019 apple_53.xml\n",
      "-rw-rw-r-- 1 root root  72466 Oct  2  2019 apple_54.jpg\n",
      "-rw-rw-r-- 1 root root    558 Oct  2  2019 apple_54.xml\n",
      "-rw-rw-r-- 1 root root  15729 Oct  2  2019 apple_55.jpg\n",
      "-rw-rw-r-- 1 root root   1006 Oct  2  2019 apple_55.xml\n",
      "-rw-rw-r-- 1 root root 110124 Oct  2  2019 apple_56.jpg\n",
      "-rw-rw-r-- 1 root root    559 Oct  2  2019 apple_56.xml\n",
      "-rw-rw-r-- 1 root root  62385 Oct  2  2019 apple_57.jpg\n",
      "-rw-rw-r-- 1 root root    556 Oct  2  2019 apple_57.xml\n",
      "-rw-rw-r-- 1 root root  69935 Oct  2  2019 apple_58.jpg\n",
      "-rw-rw-r-- 1 root root    782 Oct  2  2019 apple_58.xml\n",
      "-rw-rw-r-- 1 root root 129890 Oct  2  2019 apple_59.jpg\n",
      "-rw-rw-r-- 1 root root    560 Oct  2  2019 apple_59.xml\n",
      "-rw-rw-r-- 1 root root  47180 Oct  2  2019 apple_5.jpg\n",
      "-rw-rw-r-- 1 root root   1681 Oct  2  2019 apple_5.xml\n",
      "-rw-rw-r-- 1 root root  84441 Oct  2  2019 apple_60.jpg\n",
      "-rw-rw-r-- 1 root root   1235 Oct  2  2019 apple_60.xml\n",
      "-rw-rw-r-- 1 root root  22267 Oct  2  2019 apple_61.jpg\n",
      "-rw-rw-r-- 1 root root    558 Oct  2  2019 apple_61.xml\n",
      "-rw-rw-r-- 1 root root  28672 Oct  2  2019 apple_62.jpg\n",
      "-rw-rw-r-- 1 root root    556 Oct  2  2019 apple_62.xml\n",
      "-rw-rw-r-- 1 root root 154493 Oct  2  2019 apple_63.jpg\n",
      "-rw-rw-r-- 1 root root    556 Oct  2  2019 apple_63.xml\n",
      "-rw-rw-r-- 1 root root 110288 Oct  2  2019 apple_64.jpg\n",
      "-rw-rw-r-- 1 root root    557 Oct  2  2019 apple_64.xml\n",
      "-rw-rw-r-- 1 root root 201482 Oct  2  2019 apple_65.jpg\n",
      "-rw-rw-r-- 1 root root   2137 Oct  2  2019 apple_65.xml\n",
      "-rw-rw-r-- 1 root root 108064 Oct  2  2019 apple_66.jpg\n",
      "-rw-rw-r-- 1 root root    781 Oct  2  2019 apple_66.xml\n",
      "-rw-rw-r-- 1 root root  43814 Oct  2  2019 apple_67.jpg\n",
      "-rw-rw-r-- 1 root root    557 Oct  2  2019 apple_67.xml\n",
      "-rw-rw-r-- 1 root root 334627 Oct  2  2019 apple_68.jpg\n",
      "-rw-rw-r-- 1 root root    785 Oct  2  2019 apple_68.xml\n",
      "-rw-rw-r-- 1 root root   6273 Oct  2  2019 apple_69.jpg\n",
      "-rw-rw-r-- 1 root root   1009 Oct  2  2019 apple_69.xml\n",
      "-rw-rw-r-- 1 root root 271308 Oct  2  2019 apple_6.jpg\n",
      "-rw-rw-r-- 1 root root   1234 Oct  2  2019 apple_6.xml\n",
      "-rw-rw-r-- 1 root root   4722 Oct  2  2019 apple_70.jpg\n",
      "-rw-rw-r-- 1 root root    556 Oct  2  2019 apple_70.xml\n",
      "-rw-rw-r-- 1 root root 136666 Oct  2  2019 apple_71.jpg\n",
      "-rw-rw-r-- 1 root root    781 Oct  2  2019 apple_71.xml\n",
      "-rw-rw-r-- 1 root root  10492 Oct  2  2019 apple_72.jpg\n",
      "-rw-rw-r-- 1 root root    556 Oct  2  2019 apple_72.xml\n",
      "-rw-rw-r-- 1 root root  14964 Oct  2  2019 apple_73.jpg\n",
      "-rw-rw-r-- 1 root root    555 Oct  2  2019 apple_73.xml\n",
      "-rw-rw-r-- 1 root root   4691 Oct  2  2019 apple_74.jpg\n",
      "-rw-rw-r-- 1 root root    784 Oct  2  2019 apple_74.xml\n",
      "-rw-rw-r-- 1 root root 103292 Oct  2  2019 apple_75.jpg\n",
      "-rw-rw-r-- 1 root root    555 Oct  2  2019 apple_75.xml\n",
      "-rw-rw-r-- 1 root root  32016 Oct  2  2019 apple_76.jpg\n",
      "-rw-rw-r-- 1 root root    556 Oct  2  2019 apple_76.xml\n",
      "-rw-rw-r-- 1 root root 164775 Oct  2  2019 apple_7.jpg\n",
      "-rw-rw-r-- 1 root root    560 Oct  2  2019 apple_7.xml\n",
      "-rw-rw-r-- 1 root root  15602 Oct  2  2019 apple_8.jpg\n",
      "-rw-rw-r-- 1 root root    549 Oct  2  2019 apple_8.xml\n",
      "-rw-rw-r-- 1 root root  35100 Oct  2  2019 apple_9.jpg\n",
      "-rw-rw-r-- 1 root root    556 Oct  2  2019 apple_9.xml\n",
      "-rw-rw-r-- 1 root root  31988 Oct  2  2019 banana_10.jpg\n",
      "-rw-rw-r-- 1 root root   1235 Oct  2  2019 banana_10.xml\n",
      "-rw-rw-r-- 1 root root   7422 Oct  2  2019 banana_11.jpg\n",
      "-rw-rw-r-- 1 root root    559 Oct  2  2019 banana_11.xml\n",
      "-rw-rw-r-- 1 root root  50831 Oct  2  2019 banana_12.jpg\n",
      "-rw-rw-r-- 1 root root   1239 Oct  2  2019 banana_12.xml\n",
      "-rw-rw-r-- 1 root root 408872 Oct  2  2019 banana_13.jpg\n",
      "-rw-rw-r-- 1 root root    563 Oct  2  2019 banana_13.xml\n",
      "-rw-rw-r-- 1 root root  67326 Oct  2  2019 banana_14.jpg\n",
      "-rw-rw-r-- 1 root root    784 Oct  2  2019 banana_14.xml\n",
      "-rw-rw-r-- 1 root root  31307 Oct  2  2019 banana_16.jpg\n",
      "-rw-rw-r-- 1 root root    560 Oct  2  2019 banana_16.xml\n",
      "-rw-rw-r-- 1 root root  58799 Oct  2  2019 banana_17.jpg\n",
      "-rw-rw-r-- 1 root root   1241 Oct  2  2019 banana_17.xml\n",
      "-rw-rw-r-- 1 root root  19803 Oct  2  2019 banana_1.jpg\n",
      "-rw-rw-r-- 1 root root    557 Oct  2  2019 banana_1.xml\n",
      "-rw-rw-r-- 1 root root  27706 Oct  2  2019 banana_20.jpg\n",
      "-rw-rw-r-- 1 root root   1237 Oct  2  2019 banana_20.xml\n",
      "-rw-rw-r-- 1 root root  44901 Oct  2  2019 banana_21.jpg\n",
      "-rw-rw-r-- 1 root root   1012 Oct  2  2019 banana_21.xml\n",
      "-rw-rw-r-- 1 root root 120279 Oct  2  2019 banana_22.jpg\n",
      "-rw-rw-r-- 1 root root   1013 Oct  2  2019 banana_22.xml\n",
      "-rw-rw-r-- 1 root root  34310 Oct  2  2019 banana_23.jpg\n",
      "-rw-rw-r-- 1 root root    561 Oct  2  2019 banana_23.xml\n",
      "-rw-rw-r-- 1 root root  17612 Oct  2  2019 banana_24.jpg\n",
      "-rw-rw-r-- 1 root root    561 Oct  2  2019 banana_24.xml\n",
      "-rw-rw-r-- 1 root root  55375 Oct  2  2019 banana_25.jpg\n",
      "-rw-rw-r-- 1 root root    556 Oct  2  2019 banana_25.xml\n",
      "-rw-rw-r-- 1 root root 105679 Oct  2  2019 banana_26.jpg\n",
      "-rw-rw-r-- 1 root root    561 Oct  2  2019 banana_26.xml\n",
      "-rw-rw-r-- 1 root root 129548 Oct  2  2019 banana_27.jpg\n",
      "-rw-rw-r-- 1 root root   1023 Oct  2  2019 banana_27.xml\n",
      "-rw-rw-r-- 1 root root  90264 Oct  2  2019 banana_28.jpg\n",
      "-rw-rw-r-- 1 root root    562 Oct  2  2019 banana_28.xml\n",
      "-rw-rw-r-- 1 root root  60773 Oct  2  2019 banana_29.jpg\n",
      "-rw-rw-r-- 1 root root    561 Oct  2  2019 banana_29.xml\n",
      "-rw-rw-r-- 1 root root 271166 Oct  2  2019 banana_2.jpg\n",
      "-rw-rw-r-- 1 root root    559 Oct  2  2019 banana_2.xml\n",
      "-rw-rw-r-- 1 root root  12521 Oct  2  2019 banana_30.jpg\n",
      "-rw-rw-r-- 1 root root   1012 Oct  2  2019 banana_30.xml\n",
      "-rw-rw-r-- 1 root root  17520 Oct  2  2019 banana_31.jpg\n",
      "-rw-rw-r-- 1 root root    560 Oct  2  2019 banana_31.xml\n",
      "-rw-rw-r-- 1 root root   4842 Oct  2  2019 banana_32.jpg\n",
      "-rw-rw-r-- 1 root root   1226 Oct  2  2019 banana_32.xml\n",
      "-rw-rw-r-- 1 root root  26824 Oct  2  2019 banana_33.jpg\n",
      "-rw-rw-r-- 1 root root    560 Oct  2  2019 banana_33.xml\n",
      "-rw-rw-r-- 1 root root   8838 Oct  2  2019 banana_34.jpg\n",
      "-rw-rw-r-- 1 root root    559 Oct  2  2019 banana_34.xml\n",
      "-rw-rw-r-- 1 root root  45185 Oct  2  2019 banana_35.jpg\n",
      "-rw-rw-r-- 1 root root    555 Oct  2  2019 banana_35.xml\n",
      "-rw-rw-r-- 1 root root  54332 Oct  2  2019 banana_36.jpg\n",
      "-rw-rw-r-- 1 root root    559 Oct  2  2019 banana_36.xml\n",
      "-rw-rw-r-- 1 root root 345027 Oct  2  2019 banana_37.jpg\n",
      "-rw-rw-r-- 1 root root   1920 Oct  2  2019 banana_37.xml\n",
      "-rw-rw-r-- 1 root root  18119 Oct  2  2019 banana_38.jpg\n",
      "-rw-rw-r-- 1 root root    560 Oct  2  2019 banana_38.xml\n",
      "-rw-rw-r-- 1 root root  12208 Oct  2  2019 banana_39.jpg\n",
      "-rw-rw-r-- 1 root root    560 Oct  2  2019 banana_39.xml\n",
      "-rw-rw-r-- 1 root root  64146 Oct  2  2019 banana_3.jpg\n",
      "-rw-rw-r-- 1 root root    786 Oct  2  2019 banana_3.xml\n",
      "-rw-rw-r-- 1 root root  24144 Oct  2  2019 banana_40.jpg\n",
      "-rw-rw-r-- 1 root root    559 Oct  2  2019 banana_40.xml\n",
      "-rw-rw-r-- 1 root root 190785 Oct  2  2019 banana_41.jpg\n",
      "-rw-rw-r-- 1 root root    564 Oct  2  2019 banana_41.xml\n",
      "-rw-rw-r-- 1 root root  42399 Oct  2  2019 banana_42.jpg\n",
      "-rw-rw-r-- 1 root root    562 Oct  2  2019 banana_42.xml\n",
      "-rw-rw-r-- 1 root root  41406 Oct  2  2019 banana_43.jpg\n",
      "-rw-rw-r-- 1 root root   1237 Oct  2  2019 banana_43.xml\n",
      "-rw-rw-r-- 1 root root  16649 Oct  2  2019 banana_44.jpg\n",
      "-rw-rw-r-- 1 root root    560 Oct  2  2019 banana_44.xml\n",
      "-rw-rw-r-- 1 root root  32913 Oct  2  2019 banana_45.jpg\n",
      "-rw-rw-r-- 1 root root    561 Oct  2  2019 banana_45.xml\n",
      "-rw-rw-r-- 1 root root  13195 Oct  2  2019 banana_46.jpg\n",
      "-rw-rw-r-- 1 root root    559 Oct  2  2019 banana_46.xml\n",
      "-rw-rw-r-- 1 root root  10973 Oct  2  2019 banana_47.jpg\n",
      "-rw-rw-r-- 1 root root    558 Oct  2  2019 banana_47.xml\n",
      "-rw-rw-r-- 1 root root 148887 Oct  2  2019 banana_48.jpg\n",
      "-rw-rw-r-- 1 root root    559 Oct  2  2019 banana_48.xml\n",
      "-rw-rw-r-- 1 root root  13870 Oct  2  2019 banana_49.jpg\n",
      "-rw-rw-r-- 1 root root    559 Oct  2  2019 banana_49.xml\n",
      "-rw-rw-r-- 1 root root  93986 Oct  2  2019 banana_4.jpg\n",
      "-rw-rw-r-- 1 root root    785 Oct  2  2019 banana_4.xml\n",
      "-rw-rw-r-- 1 root root  14177 Oct  2  2019 banana_50.jpg\n",
      "-rw-rw-r-- 1 root root   1241 Oct  2  2019 banana_50.xml\n",
      "-rw-rw-r-- 1 root root  61427 Oct  2  2019 banana_51.jpg\n",
      "-rw-rw-r-- 1 root root   1010 Oct  2  2019 banana_51.xml\n",
      "-rw-rw-r-- 1 root root   8792 Oct  2  2019 banana_52.jpg\n",
      "-rw-rw-r-- 1 root root    786 Oct  2  2019 banana_52.xml\n",
      "-rw-rw-r-- 1 root root  39519 Oct  2  2019 banana_53.jpg\n",
      "-rw-rw-r-- 1 root root    554 Oct  2  2019 banana_53.xml\n",
      "-rw-rw-r-- 1 root root  49333 Oct  2  2019 banana_54.jpg\n",
      "-rw-rw-r-- 1 root root   1015 Oct  2  2019 banana_54.xml\n",
      "-rw-rw-r-- 1 root root 159022 Oct  2  2019 banana_55.jpg\n",
      "-rw-rw-r-- 1 root root    793 Oct  2  2019 banana_55.xml\n",
      "-rw-rw-r-- 1 root root 203187 Oct  2  2019 banana_56.jpg\n",
      "-rw-rw-r-- 1 root root    560 Oct  2  2019 banana_56.xml\n",
      "-rw-rw-r-- 1 root root 289122 Oct  2  2019 banana_57.jpg\n",
      "-rw-rw-r-- 1 root root    558 Oct  2  2019 banana_57.xml\n",
      "-rw-rw-r-- 1 root root  15553 Oct  2  2019 banana_58.jpg\n",
      "-rw-rw-r-- 1 root root   1011 Oct  2  2019 banana_58.xml\n",
      "-rw-rw-r-- 1 root root  38407 Oct  2  2019 banana_59.jpg\n",
      "-rw-rw-r-- 1 root root    559 Oct  2  2019 banana_59.xml\n",
      "-rw-rw-r-- 1 root root 102705 Oct  2  2019 banana_5.jpg\n",
      "-rw-rw-r-- 1 root root   1243 Oct  2  2019 banana_5.xml\n",
      "-rw-rw-r-- 1 root root 542141 Oct  2  2019 banana_60.jpg\n",
      "-rw-rw-r-- 1 root root    781 Oct  2  2019 banana_60.xml\n",
      "-rw-rw-r-- 1 root root  48661 Oct  2  2019 banana_61.jpg\n",
      "-rw-rw-r-- 1 root root    785 Oct  2  2019 banana_61.xml\n",
      "-rw-rw-r-- 1 root root  37822 Oct  2  2019 banana_62.jpg\n",
      "-rw-rw-r-- 1 root root    560 Oct  2  2019 banana_62.xml\n",
      "-rw-rw-r-- 1 root root  95108 Oct  2  2019 banana_63.jpg\n",
      "-rw-rw-r-- 1 root root    791 Oct  2  2019 banana_63.xml\n",
      "-rw-rw-r-- 1 root root  10278 Oct  2  2019 banana_64.jpg\n",
      "-rw-rw-r-- 1 root root    560 Oct  2  2019 banana_64.xml\n",
      "-rw-rw-r-- 1 root root 156217 Oct  2  2019 banana_65.jpg\n",
      "-rw-rw-r-- 1 root root   1012 Oct  2  2019 banana_65.xml\n",
      "-rw-rw-r-- 1 root root  10382 Oct  2  2019 banana_66.jpg\n",
      "-rw-rw-r-- 1 root root   1010 Oct  2  2019 banana_66.xml\n",
      "-rw-rw-r-- 1 root root   9818 Oct  2  2019 banana_67.jpg\n",
      "-rw-rw-r-- 1 root root    559 Oct  2  2019 banana_67.xml\n",
      "-rw-rw-r-- 1 root root  35081 Oct  2  2019 banana_68.jpg\n",
      "-rw-rw-r-- 1 root root   1691 Oct  2  2019 banana_68.xml\n",
      "-rw-rw-r-- 1 root root  16854 Oct  2  2019 banana_69.jpg\n",
      "-rw-rw-r-- 1 root root    559 Oct  2  2019 banana_69.xml\n",
      "-rw-rw-r-- 1 root root  68571 Oct  2  2019 banana_6.jpg\n",
      "-rw-rw-r-- 1 root root    563 Oct  2  2019 banana_6.xml\n",
      "-rw-rw-r-- 1 root root  23168 Oct  2  2019 banana_70.jpg\n",
      "-rw-rw-r-- 1 root root    560 Oct  2  2019 banana_70.xml\n",
      "-rw-rw-r-- 1 root root  42731 Oct  2  2019 banana_71.jpg\n",
      "-rw-rw-r-- 1 root root    555 Oct  2  2019 banana_71.xml\n",
      "-rw-rw-r-- 1 root root 119877 Oct  2  2019 banana_72.jpg\n",
      "-rw-rw-r-- 1 root root   1013 Oct  2  2019 banana_72.xml\n",
      "-rw-rw-r-- 1 root root  69819 Oct  2  2019 banana_73.jpg\n",
      "-rw-rw-r-- 1 root root    564 Oct  2  2019 banana_73.xml\n",
      "-rw-rw-r-- 1 root root  49094 Oct  2  2019 banana_74.jpg\n",
      "-rw-rw-r-- 1 root root   1012 Oct  2  2019 banana_74.xml\n",
      "-rw-rw-r-- 1 root root  25001 Oct  2  2019 banana_75.jpg\n",
      "-rw-rw-r-- 1 root root    556 Oct  2  2019 banana_75.xml\n",
      "-rw-rw-r-- 1 root root   5098 Oct  2  2019 banana_76.jpg\n",
      "-rw-rw-r-- 1 root root    558 Oct  2  2019 banana_76.xml\n",
      "-rw-rw-r-- 1 root root  38979 Oct  2  2019 banana_7.jpg\n",
      "-rw-rw-r-- 1 root root    558 Oct  2  2019 banana_7.xml\n",
      "-rw-rw-r-- 1 root root 227468 Oct  2  2019 banana_8.jpg\n",
      "-rw-rw-r-- 1 root root   1244 Oct  2  2019 banana_8.xml\n",
      "-rw-rw-r-- 1 root root 355808 Oct  2  2019 banana_9.jpg\n",
      "-rw-rw-r-- 1 root root    563 Oct  2  2019 banana_9.xml\n",
      "-rw-rw-r-- 1 root root  39556 Oct  2  2019 mixed_10.jpg\n",
      "-rw-rw-r-- 1 root root   1463 Oct  2  2019 mixed_10.xml\n",
      "-rw-rw-r-- 1 root root  57703 Oct  2  2019 mixed_11.jpg\n",
      "-rw-rw-r-- 1 root root   1014 Oct  2  2019 mixed_11.xml\n",
      "-rw-rw-r-- 1 root root 327951 Oct  2  2019 mixed_12.jpg\n",
      "-rw-rw-r-- 1 root root   1010 Oct  2  2019 mixed_12.xml\n",
      "-rw-rw-r-- 1 root root  58564 Oct  2  2019 mixed_13.jpg\n",
      "-rw-rw-r-- 1 root root   1010 Oct  2  2019 mixed_13.xml\n",
      "-rw-rw-r-- 1 root root 199791 Oct  2  2019 mixed_14.jpg\n",
      "-rw-rw-r-- 1 root root    791 Oct  2  2019 mixed_14.xml\n",
      "-rw-rw-r-- 1 root root  56054 Oct  2  2019 mixed_15.jpg\n",
      "-rw-rw-r-- 1 root root   1013 Oct  2  2019 mixed_15.xml\n",
      "-rw-rw-r-- 1 root root 227990 Oct  2  2019 mixed_16.jpg\n",
      "-rw-rw-r-- 1 root root   1003 Oct  2  2019 mixed_16.xml\n",
      "-rw-rw-r-- 1 root root  93392 Oct  2  2019 mixed_17.jpg\n",
      "-rw-rw-r-- 1 root root   2372 Oct  2  2019 mixed_17.xml\n",
      "-rw-rw-r-- 1 root root  45341 Oct  2  2019 mixed_18.jpg\n",
      "-rw-rw-r-- 1 root root   1013 Oct  2  2019 mixed_18.xml\n",
      "-rw-rw-r-- 1 root root   8590 Oct  2  2019 mixed_19.jpg\n",
      "-rw-rw-r-- 1 root root   1233 Oct  2  2019 mixed_19.xml\n",
      "-rw-rw-r-- 1 root root  39216 Oct  2  2019 mixed_1.jpg\n",
      "-rw-rw-r-- 1 root root   1008 Oct  2  2019 mixed_1.xml\n",
      "-rw-rw-r-- 1 root root  33883 Oct  2  2019 mixed_20.jpg\n",
      "-rw-rw-r-- 1 root root    557 Oct  2  2019 mixed_20.xml\n",
      "-rw-rw-r-- 1 root root  94890 Oct  2  2019 mixed_2.jpg\n",
      "-rw-rw-r-- 1 root root   1012 Oct  2  2019 mixed_2.xml\n",
      "-rw-rw-r-- 1 root root  59775 Oct  2  2019 mixed_3.jpg\n",
      "-rw-rw-r-- 1 root root   1233 Oct  2  2019 mixed_3.xml\n",
      "-rw-rw-r-- 1 root root  92955 Oct  2  2019 mixed_4.jpg\n",
      "-rw-rw-r-- 1 root root   1009 Oct  2  2019 mixed_4.xml\n",
      "-rw-rw-r-- 1 root root 236056 Oct  2  2019 mixed_5.jpg\n",
      "-rw-rw-r-- 1 root root   1011 Oct  2  2019 mixed_5.xml\n",
      "-rw-rw-r-- 1 root root  29742 Oct  2  2019 mixed_6.jpg\n",
      "-rw-rw-r-- 1 root root   1004 Oct  2  2019 mixed_6.xml\n",
      "-rw-rw-r-- 1 root root  37489 Oct  2  2019 mixed_7.jpg\n",
      "-rw-rw-r-- 1 root root   1010 Oct  2  2019 mixed_7.xml\n",
      "-rw-rw-r-- 1 root root  43554 Oct  2  2019 mixed_8.jpg\n",
      "-rw-rw-r-- 1 root root    783 Oct  2  2019 mixed_8.xml\n",
      "-rw-rw-r-- 1 root root  34110 Oct  2  2019 mixed_9.jpg\n",
      "-rw-rw-r-- 1 root root   1006 Oct  2  2019 mixed_9.xml\n",
      "-rw-rw-r-- 1 root root   5988 Oct  2  2019 orange_10.jpg\n",
      "-rw-rw-r-- 1 root root    783 Oct  2  2019 orange_10.xml\n",
      "-rw-rw-r-- 1 root root 137939 Oct  2  2019 orange_11.jpg\n",
      "-rw-rw-r-- 1 root root    555 Oct  2  2019 orange_11.xml\n",
      "-rw-rw-r-- 1 root root  20760 Oct  2  2019 orange_12.jpg\n",
      "-rw-rw-r-- 1 root root    560 Oct  2  2019 orange_12.xml\n",
      "-rw-rw-r-- 1 root root  91564 Oct  2  2019 orange_13.jpg\n",
      "-rw-rw-r-- 1 root root    555 Oct  2  2019 orange_13.xml\n",
      "-rw-rw-r-- 1 root root  27042 Oct  2  2019 orange_14.jpg\n",
      "-rw-rw-r-- 1 root root    559 Oct  2  2019 orange_14.xml\n",
      "-rw-rw-r-- 1 root root  80342 Oct  2  2019 orange_15.jpg\n",
      "-rw-rw-r-- 1 root root   1463 Oct  2  2019 orange_15.xml\n",
      "-rw-rw-r-- 1 root root 202661 Oct  2  2019 orange_16.jpg\n",
      "-rw-rw-r-- 1 root root    558 Oct  2  2019 orange_16.xml\n",
      "-rw-rw-r-- 1 root root  88152 Oct  2  2019 orange_17.jpg\n",
      "-rw-rw-r-- 1 root root   1242 Oct  2  2019 orange_17.xml\n",
      "-rw-rw-r-- 1 root root 232732 Oct  2  2019 orange_18.jpg\n",
      "-rw-rw-r-- 1 root root    554 Oct  2  2019 orange_18.xml\n",
      "-rw-rw-r-- 1 root root  34096 Oct  2  2019 orange_19.jpg\n",
      "-rw-rw-r-- 1 root root   1011 Oct  2  2019 orange_19.xml\n",
      "-rw-rw-r-- 1 root root  99255 Oct  2  2019 orange_1.jpg\n",
      "-rw-rw-r-- 1 root root   1911 Oct  2  2019 orange_1.xml\n",
      "-rw-rw-r-- 1 root root 192097 Oct  2  2019 orange_20.jpg\n",
      "-rw-rw-r-- 1 root root    563 Oct  2  2019 orange_20.xml\n",
      "-rw-rw-r-- 1 root root 221012 Oct  2  2019 orange_21.jpg\n",
      "-rw-rw-r-- 1 root root   1023 Oct  2  2019 orange_21.xml\n",
      "-rw-rw-r-- 1 root root 275131 Oct  2  2019 orange_22.jpg\n",
      "-rw-rw-r-- 1 root root    555 Oct  2  2019 orange_22.xml\n",
      "-rw-rw-r-- 1 root root  22562 Oct  2  2019 orange_23.jpg\n",
      "-rw-rw-r-- 1 root root    559 Oct  2  2019 orange_23.xml\n",
      "-rw-rw-r-- 1 root root 106042 Oct  2  2019 orange_24.jpg\n",
      "-rw-rw-r-- 1 root root   1015 Oct  2  2019 orange_24.xml\n",
      "-rw-rw-r-- 1 root root   9299 Oct  2  2019 orange_25.jpg\n",
      "-rw-rw-r-- 1 root root    559 Oct  2  2019 orange_25.xml\n",
      "-rw-rw-r-- 1 root root  26516 Oct  2  2019 orange_26.jpg\n",
      "-rw-rw-r-- 1 root root    560 Oct  2  2019 orange_26.xml\n",
      "-rw-rw-r-- 1 root root 111723 Oct  2  2019 orange_27.jpg\n",
      "-rw-rw-r-- 1 root root   1010 Oct  2  2019 orange_27.xml\n",
      "-rw-rw-r-- 1 root root  90161 Oct  2  2019 orange_28.jpg\n",
      "-rw-rw-r-- 1 root root    559 Oct  2  2019 orange_28.xml\n",
      "-rw-rw-r-- 1 root root  86567 Oct  2  2019 orange_29.jpg\n",
      "-rw-rw-r-- 1 root root    785 Oct  2  2019 orange_29.xml\n",
      "-rw-rw-r-- 1 root root 198162 Oct  2  2019 orange_2.jpg\n",
      "-rw-rw-r-- 1 root root    785 Oct  2  2019 orange_2.xml\n",
      "-rw-rw-r-- 1 root root  83968 Oct  2  2019 orange_30.jpg\n",
      "-rw-rw-r-- 1 root root    556 Oct  2  2019 orange_30.xml\n",
      "-rw-rw-r-- 1 root root 130091 Oct  2  2019 orange_31.jpg\n",
      "-rw-rw-r-- 1 root root    563 Oct  2  2019 orange_31.xml\n",
      "-rw-rw-r-- 1 root root  20520 Oct  2  2019 orange_32.jpg\n",
      "-rw-rw-r-- 1 root root    785 Oct  2  2019 orange_32.xml\n",
      "-rw-rw-r-- 1 root root  83403 Oct  2  2019 orange_33.jpg\n",
      "-rw-rw-r-- 1 root root    559 Oct  2  2019 orange_33.xml\n",
      "-rw-rw-r-- 1 root root 396511 Oct  2  2019 orange_34.jpg\n",
      "-rw-rw-r-- 1 root root    792 Oct  2  2019 orange_34.xml\n",
      "-rw-rw-r-- 1 root root  21570 Oct  2  2019 orange_35.jpg\n",
      "-rw-rw-r-- 1 root root    554 Oct  2  2019 orange_35.xml\n",
      "-rw-rw-r-- 1 root root 149822 Oct  2  2019 orange_36.jpg\n",
      "-rw-rw-r-- 1 root root    791 Oct  2  2019 orange_36.xml\n",
      "-rw-rw-r-- 1 root root  89501 Oct  2  2019 orange_37.jpg\n",
      "-rw-rw-r-- 1 root root    560 Oct  2  2019 orange_37.xml\n",
      "-rw-rw-r-- 1 root root 147541 Oct  2  2019 orange_38.jpg\n",
      "-rw-rw-r-- 1 root root    559 Oct  2  2019 orange_38.xml\n",
      "-rw-rw-r-- 1 root root  23654 Oct  2  2019 orange_3.jpg\n",
      "-rw-rw-r-- 1 root root   1455 Oct  2  2019 orange_3.xml\n",
      "-rw-rw-r-- 1 root root 139409 Oct  2  2019 orange_40.jpg\n",
      "-rw-rw-r-- 1 root root    788 Oct  2  2019 orange_40.xml\n",
      "-rw-rw-r-- 1 root root 129897 Oct  2  2019 orange_41.jpg\n",
      "-rw-rw-r-- 1 root root    562 Oct  2  2019 orange_41.xml\n",
      "-rw-rw-r-- 1 root root 343898 Oct  2  2019 orange_42.jpg\n",
      "-rw-rw-r-- 1 root root    558 Oct  2  2019 orange_42.xml\n",
      "-rw-rw-r-- 1 root root  27656 Oct  2  2019 orange_43.jpg\n",
      "-rw-rw-r-- 1 root root    787 Oct  2  2019 orange_43.xml\n",
      "-rw-rw-r-- 1 root root  59552 Oct  2  2019 orange_44.jpg\n",
      "-rw-rw-r-- 1 root root    561 Oct  2  2019 orange_44.xml\n",
      "-rw-rw-r-- 1 root root  47727 Oct  2  2019 orange_46.jpg\n",
      "-rw-rw-r-- 1 root root    559 Oct  2  2019 orange_46.xml\n",
      "-rw-rw-r-- 1 root root  20981 Oct  2  2019 orange_47.jpg\n",
      "-rw-rw-r-- 1 root root    559 Oct  2  2019 orange_47.xml\n",
      "-rw-rw-r-- 1 root root  10056 Oct  2  2019 orange_48.jpg\n",
      "-rw-rw-r-- 1 root root    559 Oct  2  2019 orange_48.xml\n",
      "-rw-rw-r-- 1 root root 127809 Oct  2  2019 orange_49.jpg\n",
      "-rw-rw-r-- 1 root root    563 Oct  2  2019 orange_49.xml\n",
      "-rw-rw-r-- 1 root root 224226 Oct  2  2019 orange_4.jpg\n",
      "-rw-rw-r-- 1 root root    553 Oct  2  2019 orange_4.xml\n",
      "-rw-rw-r-- 1 root root 258433 Oct  2  2019 orange_50.jpg\n",
      "-rw-rw-r-- 1 root root    556 Oct  2  2019 orange_50.xml\n",
      "-rw-rw-r-- 1 root root 292660 Oct  2  2019 orange_51.jpg\n",
      "-rw-rw-r-- 1 root root    556 Oct  2  2019 orange_51.xml\n",
      "-rw-rw-r-- 1 root root  51551 Oct  2  2019 orange_52.jpg\n",
      "-rw-rw-r-- 1 root root    788 Oct  2  2019 orange_52.xml\n",
      "-rw-rw-r-- 1 root root 387658 Oct  2  2019 orange_53.jpg\n",
      "-rw-rw-r-- 1 root root    562 Oct  2  2019 orange_53.xml\n",
      "-rw-rw-r-- 1 root root  29182 Oct  2  2019 orange_54.jpg\n",
      "-rw-rw-r-- 1 root root    558 Oct  2  2019 orange_54.xml\n",
      "-rw-rw-r-- 1 root root 130807 Oct  2  2019 orange_55.jpg\n",
      "-rw-rw-r-- 1 root root    560 Oct  2  2019 orange_55.xml\n",
      "-rw-rw-r-- 1 root root 129308 Oct  2  2019 orange_56.jpg\n",
      "-rw-rw-r-- 1 root root    787 Oct  2  2019 orange_56.xml\n",
      "-rw-rw-r-- 1 root root 117924 Oct  2  2019 orange_57.jpg\n",
      "-rw-rw-r-- 1 root root   1240 Oct  2  2019 orange_57.xml\n",
      "-rw-rw-r-- 1 root root  19026 Oct  2  2019 orange_58.jpg\n",
      "-rw-rw-r-- 1 root root    558 Oct  2  2019 orange_58.xml\n",
      "-rw-rw-r-- 1 root root 162692 Oct  2  2019 orange_59.jpg\n",
      "-rw-rw-r-- 1 root root    554 Oct  2  2019 orange_59.xml\n",
      "-rw-rw-r-- 1 root root  42467 Oct  2  2019 orange_5.jpg\n",
      "-rw-rw-r-- 1 root root    784 Oct  2  2019 orange_5.xml\n",
      "-rw-rw-r-- 1 root root 458326 Oct  2  2019 orange_60.jpg\n",
      "-rw-rw-r-- 1 root root    565 Oct  2  2019 orange_60.xml\n",
      "-rw-rw-r-- 1 root root 164769 Oct  2  2019 orange_61.jpg\n",
      "-rw-rw-r-- 1 root root    565 Oct  2  2019 orange_61.xml\n",
      "-rw-rw-r-- 1 root root  58696 Oct  2  2019 orange_62.jpg\n",
      "-rw-rw-r-- 1 root root    785 Oct  2  2019 orange_62.xml\n",
      "-rw-rw-r-- 1 root root 410179 Oct  2  2019 orange_63.jpg\n",
      "-rw-rw-r-- 1 root root    566 Oct  2  2019 orange_63.xml\n",
      "-rw-rw-r-- 1 root root 151309 Oct  2  2019 orange_64.jpg\n",
      "-rw-rw-r-- 1 root root    556 Oct  2  2019 orange_64.xml\n",
      "-rw-rw-r-- 1 root root  17078 Oct  2  2019 orange_67.jpg\n",
      "-rw-rw-r-- 1 root root    560 Oct  2  2019 orange_67.xml\n",
      "-rw-rw-r-- 1 root root 213974 Oct  2  2019 orange_68.jpg\n",
      "-rw-rw-r-- 1 root root    556 Oct  2  2019 orange_68.xml\n",
      "-rw-rw-r-- 1 root root  55798 Oct  2  2019 orange_69.jpg\n",
      "-rw-rw-r-- 1 root root   1243 Oct  2  2019 orange_69.xml\n",
      "-rw-rw-r-- 1 root root  13937 Oct  2  2019 orange_6.jpg\n",
      "-rw-rw-r-- 1 root root    557 Oct  2  2019 orange_6.xml\n",
      "-rw-rw-r-- 1 root root 457079 Oct  2  2019 orange_70.jpg\n",
      "-rw-rw-r-- 1 root root    782 Oct  2  2019 orange_70.xml\n",
      "-rw-rw-r-- 1 root root 208320 Oct  2  2019 orange_71.jpg\n",
      "-rw-rw-r-- 1 root root    563 Oct  2  2019 orange_71.xml\n",
      "-rw-rw-r-- 1 root root  85407 Oct  2  2019 orange_72.jpg\n",
      "-rw-rw-r-- 1 root root    559 Oct  2  2019 orange_72.xml\n",
      "-rw-rw-r-- 1 root root  48579 Oct  2  2019 orange_73.jpg\n",
      "-rw-rw-r-- 1 root root    561 Oct  2  2019 orange_73.xml\n",
      "-rw-rw-r-- 1 root root 254101 Oct  2  2019 orange_74.jpg\n",
      "-rw-rw-r-- 1 root root    558 Oct  2  2019 orange_74.xml\n",
      "-rw-rw-r-- 1 root root  76589 Oct  2  2019 orange_75.jpg\n",
      "-rw-rw-r-- 1 root root    560 Oct  2  2019 orange_75.xml\n",
      "-rw-rw-r-- 1 root root 346863 Oct  2  2019 orange_76.jpg\n",
      "-rw-rw-r-- 1 root root    791 Oct  2  2019 orange_76.xml\n",
      "-rw-rw-r-- 1 root root 142226 Oct  2  2019 orange_7.jpg\n",
      "-rw-rw-r-- 1 root root    558 Oct  2  2019 orange_7.xml\n",
      "-rw-rw-r-- 1 root root  47646 Oct  2  2019 orange_8.jpg\n",
      "-rw-rw-r-- 1 root root    783 Oct  2  2019 orange_8.xml\n",
      "-rw-rw-r-- 1 root root  86150 Oct  2  2019 orange_9.jpg\n",
      "-rw-rw-r-- 1 root root    557 Oct  2  2019 orange_9.xml\n"
     ]
    }
   ],
   "source": [
    "!ls -l data/train"
   ]
  },
  {
   "cell_type": "markdown",
   "metadata": {
    "id": "QdQxrA5_MpSg"
   },
   "source": [
    "## Релизуем выборку для YoloV1"
   ]
  },
  {
   "cell_type": "code",
   "execution_count": 7,
   "metadata": {
    "id": "QXG9reop-BkS"
   },
   "outputs": [],
   "source": [
    "import os\n",
    "import cv2\n",
    "import json\n",
    "import glob\n",
    "import tqdm\n",
    "import xmltodict\n",
    "\n",
    "from IPython.core.display import struct\n",
    "\n",
    "from typing import List\n",
    "\n",
    "import pandas as pd\n",
    "import numpy as np\n",
    "\n",
    "import torch\n",
    "import torchvision\n",
    "from torch import nn\n",
    "from torch.nn import functional as F\n",
    "from torch.utils.data import Dataset, DataLoader\n",
    "\n",
    "import pytorch_lightning as pl\n",
    "\n",
    "import albumentations as A\n",
    "import albumentations.pytorch\n",
    "\n",
    "from PIL import Image\n",
    "\n",
    "import matplotlib.pyplot as plt\n",
    "\n",
    "from sklearn.metrics import auc"
   ]
  },
  {
   "cell_type": "markdown",
   "metadata": {
    "id": "2gL8_CyyTYJ-"
   },
   "source": [
    "Будем использовать аугментации для обучения, воспользуемся библиотекой albumentations.\n",
    "\n",
    "Она  особенно удобна, поскольку умеет сама вычислять новые координаты bounding box'ов после трансформаций картинки. [гайд](https://albumentations.ai/docs/getting_started/bounding_boxes_augmentation/). "
   ]
  },
  {
   "cell_type": "code",
   "execution_count": 8,
   "metadata": {
    "id": "amBHa9O4sUq2"
   },
   "outputs": [],
   "source": [
    "# Просто поэкспериментируем, чтобы стало понятно как все работает\n",
    "obj = '''\n",
    "<annotation>\n",
    "\t<object>\n",
    "\t\t<name>apple</name>\n",
    "\t\t<pose>Unspecified</pose>\n",
    "\t\t<truncated>1</truncated>\n",
    "\t\t<difficult>0</difficult>\n",
    "\t\t<bndbox>\n",
    "\t\t\t<xmin>584</xmin>\n",
    "\t\t\t<ymin>438</ymin>\n",
    "\t\t\t<xmax>867</xmax>\n",
    "\t\t\t<ymax>708</ymax>\n",
    "\t\t</bndbox>\n",
    "\t</object>\n",
    "\t<object>\n",
    "\t\t<name>apple</name>\n",
    "\t\t<pose>Unspecified</pose>\n",
    "\t\t<truncated>0</truncated>\n",
    "\t\t<difficult>0</difficult>\n",
    "\t\t<bndbox>\n",
    "\t\t\t<xmin>492</xmin>\n",
    "\t\t\t<ymin>141</ymin>\n",
    "\t\t\t<xmax>740</xmax>\n",
    "\t\t\t<ymax>394</ymax>\n",
    "\t\t</bndbox>\n",
    "\t</object>\n",
    "\t<object>\n",
    "\t\t<name>apple</name>\n",
    "\t\t<pose>Unspecified</pose>\n",
    "\t\t<truncated>0</truncated>\n",
    "\t\t<difficult>0</difficult>\n",
    "\t\t<bndbox>\n",
    "\t\t\t<xmin>176</xmin>\n",
    "\t\t\t<ymin>199</ymin>\n",
    "\t\t\t<xmax>490</xmax>\n",
    "\t\t\t<ymax>466</ymax>\n",
    "\t\t</bndbox>\n",
    "\t</object>\n",
    "\t<object>\n",
    "\t\t<name>apple</name>\n",
    "\t\t<pose>Unspecified</pose>\n",
    "\t\t<truncated>0</truncated>\n",
    "\t\t<difficult>0</difficult>\n",
    "\t\t<bndbox>\n",
    "\t\t\t<xmin>367</xmin>\n",
    "\t\t\t<ymin>17</ymin>\n",
    "\t\t\t<xmax>619</xmax>\n",
    "\t\t\t<ymax>240</ymax>\n",
    "\t\t</bndbox>\n",
    "\t</object>\n",
    "\t<object>\n",
    "\t\t<name>apple</name>\n",
    "\t\t<pose>Unspecified</pose>\n",
    "\t\t<truncated>0</truncated>\n",
    "\t\t<difficult>0</difficult>\n",
    "\t\t<bndbox>\n",
    "\t\t\t<xmin>642</xmin>\n",
    "\t\t\t<ymin>35</ymin>\n",
    "\t\t\t<xmax>907</xmax>\n",
    "\t\t\t<ymax>269</ymax>\n",
    "\t\t</bndbox>\n",
    "\t</object>\n",
    "</annotation>\n",
    "'''"
   ]
  },
  {
   "cell_type": "code",
   "execution_count": 9,
   "metadata": {
    "id": "G3tanQfTsfNt"
   },
   "outputs": [],
   "source": [
    "doc = xmltodict.parse(obj)"
   ]
  },
  {
   "cell_type": "code",
   "execution_count": 10,
   "metadata": {
    "colab": {
     "base_uri": "https://localhost:8080/"
    },
    "id": "Rh5Aiesgs-nR",
    "outputId": "5ca20cc4-2513-41a3-8c78-021dd947f3d5"
   },
   "outputs": [
    {
     "data": {
      "text/plain": [
       "[{'name': 'apple',\n",
       "  'pose': 'Unspecified',\n",
       "  'truncated': '1',\n",
       "  'difficult': '0',\n",
       "  'bndbox': {'xmin': '584', 'ymin': '438', 'xmax': '867', 'ymax': '708'}},\n",
       " {'name': 'apple',\n",
       "  'pose': 'Unspecified',\n",
       "  'truncated': '0',\n",
       "  'difficult': '0',\n",
       "  'bndbox': {'xmin': '492', 'ymin': '141', 'xmax': '740', 'ymax': '394'}},\n",
       " {'name': 'apple',\n",
       "  'pose': 'Unspecified',\n",
       "  'truncated': '0',\n",
       "  'difficult': '0',\n",
       "  'bndbox': {'xmin': '176', 'ymin': '199', 'xmax': '490', 'ymax': '466'}},\n",
       " {'name': 'apple',\n",
       "  'pose': 'Unspecified',\n",
       "  'truncated': '0',\n",
       "  'difficult': '0',\n",
       "  'bndbox': {'xmin': '367', 'ymin': '17', 'xmax': '619', 'ymax': '240'}},\n",
       " {'name': 'apple',\n",
       "  'pose': 'Unspecified',\n",
       "  'truncated': '0',\n",
       "  'difficult': '0',\n",
       "  'bndbox': {'xmin': '642', 'ymin': '35', 'xmax': '907', 'ymax': '269'}}]"
      ]
     },
     "execution_count": 10,
     "metadata": {},
     "output_type": "execute_result"
    }
   ],
   "source": [
    "doc['annotation']['object']"
   ]
  },
  {
   "cell_type": "code",
   "execution_count": 11,
   "metadata": {
    "colab": {
     "base_uri": "https://localhost:8080/"
    },
    "id": "-yzkEQppt7bd",
    "outputId": "0d57cc1e-33c9-45d2-f82c-dec181a3b120"
   },
   "outputs": [
    {
     "name": "stdout",
     "output_type": "stream",
     "text": [
      "[['584', '438', '867', '708'], ['492', '141', '740', '394'], ['176', '199', '490', '466'], ['367', '17', '619', '240'], ['642', '35', '907', '269']] ['apple', 'apple', 'apple', 'apple', 'apple']\n"
     ]
    }
   ],
   "source": [
    "boxes = []\n",
    "class_labels = []\n",
    "\n",
    "for el in doc['annotation']['object']:\n",
    "  class_labels.append(el['name'])\n",
    "  box = []\n",
    "  for coord in el['bndbox']:\n",
    "    box.append(el['bndbox'][coord])\n",
    "  boxes.append(box)\n",
    "print(boxes, class_labels)"
   ]
  },
  {
   "cell_type": "code",
   "execution_count": 12,
   "metadata": {
    "id": "zEb0Quv32pVN"
   },
   "outputs": [],
   "source": [
    "doc = xmltodict.parse(open(glob.glob('./data/train' + '/*.xml')[4], 'r').read())"
   ]
  },
  {
   "cell_type": "code",
   "execution_count": 13,
   "metadata": {
    "colab": {
     "base_uri": "https://localhost:8080/"
    },
    "id": "I4U_Vyah32qf",
    "outputId": "7f9a8be6-9c58-406e-8d0a-59bae99eb6e3"
   },
   "outputs": [
    {
     "data": {
      "text/plain": [
       "{'name': 'banana',\n",
       " 'pose': 'Unspecified',\n",
       " 'truncated': '0',\n",
       " 'difficult': '0',\n",
       " 'bndbox': {'xmin': '144', 'ymin': '46', 'xmax': '340', 'ymax': '291'}}"
      ]
     },
     "execution_count": 13,
     "metadata": {},
     "output_type": "execute_result"
    }
   ],
   "source": [
    "doc['annotation']['object']"
   ]
  },
  {
   "cell_type": "code",
   "execution_count": 14,
   "metadata": {
    "id": "PW6fJWHR4nAL"
   },
   "outputs": [],
   "source": [
    "doc = xmltodict.parse(open(glob.glob('./data/train' + '/*.xml')[0], 'r').read())"
   ]
  },
  {
   "cell_type": "code",
   "execution_count": 15,
   "metadata": {
    "colab": {
     "base_uri": "https://localhost:8080/"
    },
    "id": "WO4kQjjV4yOJ",
    "outputId": "030b3600-b9eb-471d-fef7-1ba08d6665e5"
   },
   "outputs": [
    {
     "data": {
      "text/plain": [
       "[{'name': 'orange',\n",
       "  'pose': 'Unspecified',\n",
       "  'truncated': '0',\n",
       "  'difficult': '0',\n",
       "  'bndbox': {'xmin': '313', 'ymin': '153', 'xmax': '478', 'ymax': '348'}},\n",
       " {'name': 'apple',\n",
       "  'pose': 'Unspecified',\n",
       "  'truncated': '0',\n",
       "  'difficult': '0',\n",
       "  'bndbox': {'xmin': '127', 'ymin': '148', 'xmax': '320', 'ymax': '371'}},\n",
       " {'name': 'banana',\n",
       "  'pose': 'Unspecified',\n",
       "  'truncated': '0',\n",
       "  'difficult': '0',\n",
       "  'bndbox': {'xmin': '73', 'ymin': '366', 'xmax': '618', 'ymax': '619'}}]"
      ]
     },
     "execution_count": 15,
     "metadata": {},
     "output_type": "execute_result"
    }
   ],
   "source": [
    "doc['annotation']['object']"
   ]
  },
  {
   "cell_type": "code",
   "execution_count": 23,
   "metadata": {
    "id": "3VWOJpgkJHyD"
   },
   "outputs": [],
   "source": [
    "import xml.etree.ElementTree as ET"
   ]
  },
  {
   "cell_type": "code",
   "execution_count": 46,
   "metadata": {
    "id": "tjZkU0vzMpSh"
   },
   "outputs": [],
   "source": [
    "class2tag = {\"apple\": 1, \"orange\": 2, \"banana\": 3}\n",
    "\n",
    "class FruitDataset(Dataset):\n",
    "    def __init__(self, data_dir, transforms=None):\n",
    "        self.image_paths = glob.glob(data_dir + '/*.jpg')\n",
    "        self.box_paths = glob.glob(data_dir + '/*.xml')\n",
    "        self.box_paths.sort()\n",
    "        self.image_paths.sort()\n",
    "\n",
    "        assert len(self.image_paths) == len(self.box_paths)\n",
    "\n",
    "        self.transforms = transforms\n",
    "\n",
    "    # Координаты прямоугольников советуем вернуть именно в формате (x_center, y_center, width, height)\n",
    "    def __getitem__(self, idx):\n",
    "        # Предполагается, что объект выглядит так: (img, (boxes, labels))\n",
    "        image = np.array(Image.open(self.image_paths[idx]).convert(\"RGB\"))\n",
    "        boxes, class_labels = self.__get_boxes_from_xml(self.box_paths[idx])\n",
    "\n",
    "        new_boxes = []\n",
    "        for i in range(len(boxes)):\n",
    "          new_boxes.append(self.__convert_to_yolo_box_params(boxes[i], \n",
    "                                                              image.shape[1], \n",
    "                                                              image.shape[0]))\n",
    "\n",
    "        if self.transforms:\n",
    "          transformed = self.transforms(image=image, bboxes=new_boxes, class_labels=class_labels)\n",
    "\n",
    "        return torch.unsqueeze(torch.permute(torch.tensor(transformed['image']), [2, 0, 1]), dim=0), (transformed['bboxes'], transformed['class_labels'])\n",
    "\n",
    "    def __len__(self):\n",
    "        return len(self.image_paths)\n",
    "\n",
    "    def __get_boxes_from_xml(self, xml_filename: str):\n",
    "      \"\"\"\n",
    "      Метод, который считает и распарсит (с помощью xmltodict) переданный xml\n",
    "      файл и вернет координаты прямоугольников обьектов на соответсвующей фотографии\n",
    "      и название класса обьекта в каждом прямоугольнике\n",
    "\n",
    "      Обратите внимание, что обьектов может быть как несколько, так и один единственный\n",
    "      \"\"\"\n",
    "      boxes = []\n",
    "      class_labels = []\n",
    "\n",
    "      doc = xmltodict.parse(open(xml_filename, 'r').read())\n",
    "      if type(doc['annotation']['object']) == list:\n",
    "        for el in doc['annotation']['object']:\n",
    "          class_labels.append(class2tag[el['name']])\n",
    "          box = []\n",
    "          for coord in el['bndbox']:\n",
    "            box.append(int(el['bndbox'][coord]))\n",
    "          boxes.append(box)\n",
    "      else:\n",
    "        class_labels.append(class2tag[doc['annotation']['object']['name']])\n",
    "        box = []\n",
    "        for coord in doc['annotation']['object']['bndbox']:\n",
    "          box.append(int(doc['annotation']['object']['bndbox'][coord]))\n",
    "        boxes.append(box)\n",
    "\n",
    "      return boxes, class_labels\n",
    "\n",
    "    def __convert_to_yolo_box_params(self, box_coordinates: List[int], im_w, im_h):\n",
    "      \"\"\"\n",
    "      Перейти от [xmin, ymin, xmax, ymax] к [x_center, y_center, width, height].\n",
    "      \n",
    "      Обратите внимание, что параметры [x_center, y_center, width, height] - это\n",
    "      относительные значение в отрезке [0, 1]\n",
    "\n",
    "      :param: box_coordinates - координаты коробки в формате [xmin, ymin, xmax, ymax]\n",
    "      :param: im_w - ширина исходного изображения\n",
    "      :param: im_h - высота исходного изображения\n",
    "\n",
    "      :return: координаты коробки в формате [x_center, y_center, width, height]\n",
    "      \"\"\"\n",
    "      ans = []\n",
    "\n",
    "      ans.append((box_coordinates[0] + box_coordinates[2]) / 2 / im_w)  # x_center\n",
    "      ans.append((box_coordinates[1] + box_coordinates[3]) / 2 / im_h)  # y_center\n",
    "      \n",
    "      ans.append((box_coordinates[2] - box_coordinates[0]) / im_w)  # width\n",
    "      ans.append((box_coordinates[3] - box_coordinates[1]) / im_h)  # height\n",
    "      return ans"
   ]
  },
  {
   "cell_type": "code",
   "execution_count": 44,
   "metadata": {
    "id": "OwXeSiAjdGeq"
   },
   "outputs": [],
   "source": [
    "WIDTH, HEIGHT = 448, 448\n",
    "\n",
    "train_transform =A.Compose([\n",
    "    A.Resize(WIDTH, HEIGHT),\n",
    "    A.RandomCrop(width=WIDTH, height=HEIGHT),\n",
    "    A.HorizontalFlip(p=0.5),\n",
    "    A.RandomBrightnessContrast(p=0.2),\n",
    "    A.Normalize((0.5, 0.5, 0.5), (1, 1, 1)),\n",
    "], bbox_params=A.BboxParams(format='yolo', min_visibility=0.2, label_fields=['class_labels']))\n",
    "\n",
    "test_transform = A.Compose([\n",
    "    A.Resize(WIDTH, HEIGHT),\n",
    "    A.Normalize((0.5, 0.5, 0.5), (1, 1, 1)),\n",
    "], bbox_params=A.BboxParams(format='yolo', min_visibility=0.2, label_fields=['class_labels']))"
   ]
  },
  {
   "cell_type": "code",
   "execution_count": 47,
   "metadata": {
    "colab": {
     "base_uri": "https://localhost:8080/"
    },
    "id": "ayPwbRKocdCE",
    "outputId": "a561e76c-7ea0-4316-f550-0aa31879bac2"
   },
   "outputs": [
    {
     "name": "stdout",
     "output_type": "stream",
     "text": [
      "Тесты успешно пройдены\n"
     ]
    }
   ],
   "source": [
    "train_dataset = FruitDataset(\n",
    "    transforms=train_transform,\n",
    "    data_dir=\"./data/train\"\n",
    "    )\n",
    "\n",
    "val_dataset = FruitDataset(\n",
    "    transforms=test_transform, \n",
    "    data_dir=\"./data/test\"\n",
    "    )\n",
    "\n",
    "# Немного проверок, чтобы убедиться в правильности направления решения\n",
    "assert isinstance(train_dataset[0], tuple)\n",
    "assert len(train_dataset[0]) == 2\n",
    "assert isinstance(train_dataset[0][0], torch.Tensor)\n",
    "print(\"Тесты успешно пройдены\")"
   ]
  },
  {
   "cell_type": "code",
   "execution_count": 48,
   "metadata": {
    "id": "9V1Tl_GAdeIv"
   },
   "outputs": [],
   "source": [
    "train_dataloader = DataLoader(\n",
    "    dataset=train_dataset,\n",
    "    batch_size= 4,\n",
    "    shuffle=True)\n",
    "\n",
    "val_dataloader = DataLoader(\n",
    "    dataset=val_dataset,\n",
    "    batch_size=4, \n",
    "    shuffle=False\n",
    "    )"
   ]
  },
  {
   "cell_type": "code",
   "execution_count": 40,
   "metadata": {
    "id": "R5XK7PAP87lY"
   },
   "outputs": [],
   "source": [
    "from PIL import ImageDraw, ImageOps"
   ]
  },
  {
   "cell_type": "code",
   "execution_count": 49,
   "metadata": {
    "colab": {
     "base_uri": "https://localhost:8080/",
     "height": 465
    },
    "id": "VAtv506l8pJx",
    "outputId": "3df3e644-1919-423f-d6b1-f619df879bba"
   },
   "outputs": [
    {
     "data": {
      "image/png": "[encoded data removed]",
      "text/plain": [
       "<PIL.Image.Image image mode=RGB size=448x448 at 0x7FE979906F10>"
      ]
     },
     "execution_count": 49,
     "metadata": {},
     "output_type": "execute_result"
    }
   ],
   "source": [
    "im = ImageOps.invert(torchvision.transforms.ToPILImage()(torch.squeeze(train_dataset[100][0], dim=0)))\n",
    "draw = ImageDraw.Draw(im)\n",
    "for box in train_dataset[100][1][0]:\n",
    "    x = 448 * box[0]\n",
    "    y = 448 * box[1]\n",
    "    w = 448 * box[2]\n",
    "    h = 448 * box[3]\n",
    "    draw.rectangle([(x - w//2, y - h//2), (x + w//2, y + h//2)], outline='black')\n",
    "im"
   ]
  },
  {
   "cell_type": "markdown",
   "metadata": {
    "id": "0fRR9ns6MpSh"
   },
   "source": [
    "Теперь определим функцию для рассчета Intersection Over Union по 4 углам двух прямоугольников"
   ]
  },
  {
   "cell_type": "code",
   "execution_count": 12,
   "metadata": {
    "id": "Rd88hnZiMpSh"
   },
   "outputs": [],
   "source": [
    "def intersection_over_union(predicted_bbox, gt_bbox) -> float:\n",
    "    \"\"\"\n",
    "    Intersection Over Union для двух прямоугольников\n",
    "\n",
    "    :param: predicted_bbox - [x_min, y_min, x_max, y_max]\n",
    "    :param: gt_bbox - [x_min, y_min, x_max, y_max]\n",
    "    \n",
    "    :return: Intersection Over Union\n",
    "    \"\"\"\n",
    "\n",
    "    intersection_bbox = np.array(\n",
    "        [\n",
    "            max(predicted_bbox[0], gt_bbox[0]),\n",
    "            max(predicted_bbox[1], gt_bbox[1]),\n",
    "            min(predicted_bbox[2], gt_bbox[2]),\n",
    "            min(predicted_bbox[3], gt_bbox[3]),\n",
    "        ]\n",
    "    )\n",
    "\n",
    "    intersection_area = max(intersection_bbox[2] - intersection_bbox[0], 0) * max(\n",
    "        intersection_bbox[3] - intersection_bbox[1], 0\n",
    "    )\n",
    "    area_dt = (predicted_bbox[2] - predicted_bbox[0]) * (predicted_bbox[3] - predicted_bbox[1])\n",
    "    area_gt = (gt_bbox[2] - gt_bbox[0]) * (gt_bbox[3] - gt_bbox[1])\n",
    "\n",
    "    union_area = area_dt + area_gt - intersection_area\n",
    "\n",
    "    iou = intersection_area / union_area\n",
    "    return float(iou)"
   ]
  },
  {
   "cell_type": "markdown",
   "metadata": {
    "id": "dVJWo3xbMpSh"
   },
   "source": [
    "Обучим модель YOLO для object detection на __обучающем__ датасете. \n",
    "\n",
    " - Создадим модель и функцию ошибки YoloV1, прочитав [оригинальную статью](https://paperswithcode.com/paper/you-only-look-once-unified-real-time-object)\n",
    " - Напишим функцию обучения модели\n",
    " - Используем аугментации"
   ]
  },
  {
   "cell_type": "markdown",
   "metadata": {
    "id": "RxfMVwzHW2MJ"
   },
   "source": [
    "## Реализуем Модель\n",
    "\n",
    "Копировать точное количество слоев и параметры сверток необязательно. Главное - чтобы модель работала по принципу, описанному в статье и делала предсказание в представленном формате.\n",
    "\n",
    "Выходом модели __для каждого обьекта__ должен быть тензор размера\n",
    "__S * S * (B * 5 + С)__, где все параметры имеют такое же значение, как и в статье: \n",
    "\n",
    "- S - количество ячеек на которое разбивается изображение по вертикали/горизонтали\n",
    "- В - количество предсказываемых прямоугольников в каждой ячейке\n",
    "- 5 - количество параметров для определения каждого прямоугольника (x_center, y_center, width, height, confidence)\n",
    "- С - количество классов (apple, banana, orange)\n",
    "\n",
    "Таким образом, мы для каждого окна размера __S x S__ предсказываем __В__ коробо и один класс"
   ]
  },
  {
   "cell_type": "code",
   "execution_count": 55,
   "metadata": {
    "colab": {
     "base_uri": "https://localhost:8080/"
    },
    "id": "n8HRkDBdPbP8",
    "outputId": "2384e9c4-21fc-40d7-c388-f4d7ef577856"
   },
   "outputs": [
    {
     "data": {
      "text/plain": [
       "([(0.48567335243553006,\n",
       "   0.5214899713467048,\n",
       "   0.9255014326647565,\n",
       "   0.9570200573065903)],\n",
       " [1])"
      ]
     },
     "execution_count": 55,
     "metadata": {},
     "output_type": "execute_result"
    }
   ],
   "source": [
    "train_dataset[0][1]"
   ]
  },
  {
   "cell_type": "code",
   "execution_count": 50,
   "metadata": {
    "colab": {
     "base_uri": "https://localhost:8080/"
    },
    "id": "X00T9BmrSiu8",
    "outputId": "37b014b9-391d-4b8c-d297-a4fd6f9ab905"
   },
   "outputs": [
    {
     "data": {
      "text/plain": [
       "torch.Size([1, 3, 448, 448])"
      ]
     },
     "execution_count": 50,
     "metadata": {},
     "output_type": "execute_result"
    }
   ],
   "source": [
    "train_dataset[0][0].shape"
   ]
  },
  {
   "cell_type": "code",
   "execution_count": 13,
   "metadata": {
    "id": "3PJwrvcWW1n7"
   },
   "outputs": [],
   "source": [
    "class CNNBlock(nn.Module):  # можно поменять на Lightning\n",
    "    def __init__(self, in_channels, out_channels, is_max_pool:bool=False, **kwargs):\n",
    "        \n",
    "        super().__init__()\n",
    "\n",
    "        self.conv = nn.Conv2d(in_channels, out_channels, **kwargs)\n",
    "        self.batchnorm = nn.BatchNorm2d(out_channels)  # в статье еще не знали про батчнорм, но мы то из будущего ...\n",
    "        self.leakyrelu = nn.LeakyReLU(0.1)\n",
    "\n",
    "        self.is_maxpool = is_max_pool  # не после каждой свертки нужно делать maxpool\n",
    "        self.maxpool = nn.MaxPool2d(2)\n",
    "        \n",
    "    def forward(self, x):\n",
    "        x = self.leakyrelu(self.batchnorm(self.conv(x)))\n",
    "\n",
    "        if self.is_maxpool:\n",
    "            x = self.maxpool(x)\n",
    "\n",
    "        return x\n",
    "\n",
    "class YOLO(nn.Module):\n",
    "    def __init__(self, S=7, B=2, C=3):\n",
    "        \"\"\"\n",
    "        :param: S * S - количество ячеек на которые разбивается изображение\n",
    "        :param: B - количество предсказанных прямоугольников в каждой ячейке\n",
    "        :param: C - количество классов\n",
    "        \"\"\"\n",
    "        \n",
    "        super(YOLO, self).__init__();\n",
    "\n",
    "        self.S = S\n",
    "        self.B = B\n",
    "        self.C = C\n",
    "        self.last = nn.Sequential(\n",
    "            nn.Flatten(),\n",
    "            nn.Linear(1024 * self.S * self.S, 4096),\n",
    "            nn.Dropout(0.5),\n",
    "            nn.LeakyReLU(0.1),\n",
    "            nn.Linear(4096, self.S * self.S * (self.C + self.B * 5))\n",
    "        )\n",
    "        self.flatten = nn.Flatten()\n",
    "        self.in_channels = 3\n",
    "        self.darknet = self._create_darknet()\n",
    "\n",
    "    def _create_darknet(self):\n",
    "        all_layers = []\n",
    "        in_channels = self.in_channels\n",
    "\n",
    "        self.block1 = [CNNBlock(in_channels, 64, is_max_pool=True, kernel_size=7, stride=2, padding=3)]\n",
    "        in_channels = 64\n",
    "        self.block2 = [CNNBlock(in_channels, 192, is_max_pool=True, kernel_size=3, stride=1, padding=1)]\n",
    "        in_channels = 192\n",
    "        self.block3 = [CNNBlock(in_channels, 128, kernel_size=1, stride=1, padding=0)]\n",
    "        in_channels = 128\n",
    "        self.block4 = [CNNBlock(in_channels, 256, kernel_size=3, stride=1, padding=1)]\n",
    "        in_channels = 256\n",
    "        self.block5 = [CNNBlock(in_channels, 256, kernel_size=1, stride=1, padding=0)]\n",
    "        self.block6 = [CNNBlock(in_channels, 512, is_max_pool=True, kernel_size=3, stride=1, padding=1)]\n",
    "        in_channels = 512\n",
    "        all_layers += self.block1 + self.block2 + self.block3 + self.block4 + self.block5 + self.block6\n",
    "\n",
    "        self.block7 = [CNNBlock(in_channels, 256, kernel_size=1, stride=1, padding=0)] \n",
    "        in_channels = 256\n",
    "        self.block8 = [CNNBlock(in_channels, 512, kernel_size=3, stride=1, padding=1)]\n",
    "        in_channels = 512\n",
    "        for i in range(4):\n",
    "            all_layers += self.block7 + self.block8\n",
    "\n",
    "        self.block9 = [CNNBlock(in_channels, 512, kernel_size=1, stride=1, padding=0)] \n",
    "        in_channels = 512\n",
    "        self.block10 = [CNNBlock(in_channels, 1024, is_max_pool=True, kernel_size=3, stride=1, padding=1)]\n",
    "        in_channels = 1024\n",
    "        all_layers += self.block9 + self.block10\n",
    "          \n",
    "        self.block11 = [CNNBlock(in_channels, 512, kernel_size=1, stride=1, padding=0)] \n",
    "        in_channels = 512\n",
    "        self.block12 = [CNNBlock(in_channels, 1024, kernel_size=3, stride=1, padding=1)]\n",
    "        in_channels = 1024\n",
    "        for i in range(2):\n",
    "            all_layers += self.block11 + self.block12\n",
    "\n",
    "        self.block13 = [CNNBlock(in_channels, 1024, kernel_size=3, stride=1, padding=1)]\n",
    "        self.block14 = [CNNBlock(in_channels, 1024, kernel_size=3, stride=2, padding=1)]\n",
    "        all_layers += self.block13 + self.block14 + self.block13 + self.block13\n",
    "\n",
    "        return nn.Sequential(*all_layers)\n",
    "\n",
    "    def forward(self, x):\n",
    "        x = self.darknet(x)\n",
    "        x = self.last(x)\n",
    "        return x\n",
    "\n",
    "\n",
    "# Убедимся на одном изображении, что предсказания вашей модели имеют верное количество значений\n",
    "\n",
    "testing_model = YOLO()\n",
    "expected_output_shape = testing_model.S * testing_model.S * (5 * testing_model.B + testing_model.C)\n",
    "\n",
    "testing_image = train_dataset[0][0]\n",
    "\n",
    "assert testing_model(testing_image).reshape(-1).shape[0] == expected_output_shape"
   ]
  },
  {
   "cell_type": "code",
   "execution_count": null,
   "metadata": {
    "id": "DksndDu3EZWe"
   },
   "outputs": [],
   "source": [
    "# Ура, все сработало - картинка прошла по сетке без ошибок и даже нужного размера вернулась"
   ]
  },
  {
   "cell_type": "markdown",
   "metadata": {
    "id": "NefFscN2EjqY"
   },
   "source": [
    "Напишу, пожалуй, как выглядит сетка тут, а то по коду не очень понятно:\n",
    "\n",
    "darknet:\n",
    "1. conv* 7x7 s=2 padding=3 out_channels=64\n",
    "2. maxpool 2x2\n",
    "3. conv* 3x3 s=1 padding=1 out_channels=192\n",
    "4. maxpool 2x2\n",
    "5. conv* 1x1 s=1 padding=0 out_channels=128\n",
    "6. conv* 3x3 s=1 padding=1 out_channels=256\n",
    "7. conv* 1x1 s=1 padding=0 out_channels=256\n",
    "8. conv* 3x3 s=1 padding=1 out_channels=512\n",
    "9. maxpool 2x2\n",
    "10. conv* 1x1 s=1 padding=0 out_channels=256 && conv 3x3 s=1 padding=1 out_channels=512 -- repeat 4 times\n",
    "11. conv* 1x1 s=1 padding=0 out_channels=512\n",
    "12. conv* 3x3 s=1 padding=1 out_channels=1024\n",
    "13. maxpool 2x2\n",
    "14. conv* 1x1 s=1 padding=0 out_channels=512 && conv 3x3 s=1 padding=1 out_channels=1024 -- repeat 2 times\n",
    "15. conv* 3x3 s=1 padding=1 out_channels=1024\n",
    "16. conv* 3x3 s=2 padding=1 out_channels=1024\n",
    "17. conv* 3x3 s=1 padding=1 out_channels=1024\n",
    "18. conv* 3x3 s=1 padding=1 out_channels=1024\n",
    "\n",
    "conv* означает наш CNN блок, то есть комбинация из обычной конволюции, batchnorm и leakyrelu\n",
    "\n",
    "И в завершении:\n",
    "1. flatten\n",
    "2. Linear(1024 * S * S, 4096)\n",
    "3. dropout(p=0.5)\n",
    "4. LeakyReLU(0.1)\n",
    "5. Linear(4096, S * S * (C + B * 5))"
   ]
  },
  {
   "cell_type": "markdown",
   "metadata": {
    "id": "OJIjWKbcYUYe"
   },
   "source": [
    "## Реализуем YoloLoss"
   ]
  },
  {
   "cell_type": "code",
   "execution_count": 14,
   "metadata": {
    "id": "2htLo48-3rxC"
   },
   "outputs": [],
   "source": [
    "class YoloLoss(nn.Module):\n",
    "    def __init__(self, S=7, B=2, C=3):\n",
    "        \"\"\"\n",
    "        :param: S * S - количество ячеек на которые разбивается изображение\n",
    "        :param: B - количество предсказанных прямоугольников в каждой ячейке\n",
    "        :param: C - количество классов\n",
    "        \"\"\"\n",
    "        super().__init__()\n",
    "        self.mse = nn.MSELoss(reduction=\"sum\") \n",
    "\n",
    "        self.S = S\n",
    "        self.B = B\n",
    "        self.C = C\n",
    "\n",
    "        self.lambda_noobj = 0.5\n",
    "        self.lambda_coord = 5\n",
    "\n",
    "    def forward(self, predictions, target):  \n",
    "        predictions = predictions.reshape(-1, self.S, self.S, self.C + self.B * 5)  # изначально наши предсказания имеют размер (размер батча, S*S(C+B*5))\n",
    "        # Считаем iou для двух боксов, которые мы предсказали, с истинным боксом\n",
    "        iou_box1 = intersection_over_union(predictions[..., self.C + 1:self.C + 5], target[..., self.C + 1:self.C + 5])\n",
    "        iou_box2 = intersection_over_union(predictions[..., self.C + 6:self.C + 10], target[..., self.C + 1:self.C + 5])\n",
    "\n",
    "        # Берем бокс c максимальным iou\n",
    "        _, bestbox = torch.max(torch.cat([iou_box1.unsqueeze(0), iou_box2.unsqueeze(0)], dim=0), dim=0)\n",
    "        Iobj_i = target[..., self.C].unsqueeze(3)\n",
    "\n",
    "        # Iobj_i - маска на то, есть ли объект в боксе. Берем тот бокс, у которого iou лучше\n",
    "        box_predictions = Iobj_i * ((bestbox * predictions[..., self.C + 6:self.C + 10] + \n",
    "                                         (1 - bestbox) * predictions[..., self.C + 1:self.C + 5]))\n",
    "        box_targets = Iobj_i * target[..., self.C + 1:self.C + 5]\n",
    "\n",
    "        # ------------------------------------------------------------\n",
    "        # loss координат\n",
    "        # Извлекаем корень, поэтому не забываем брать абсолютное значение перед этим, чтобы не было undefiend behaviour\n",
    "        box_predictions[..., 2:4] = torch.sign(box_predictions[..., 2:4]) * \\\n",
    "        torch.sqrt(torch.abs(box_predictions[..., 2:4] + 1e-6)) # тут 1e-6, так как хотим численную стабильность\n",
    "        box_targets[..., 2:4] = torch.sqrt(box_targets[..., 2:4])\n",
    "        box_loss = self.mse(torch.flatten(box_predictions, end_dim=-2), torch.flatten(box_targets, end_dim=-2))\n",
    "\n",
    "        # ------------------------------------------------------------\n",
    "        # Так называемый class loss\n",
    "        class_loss = self.mse(torch.flatten(Iobj_i * predictions[..., :self.C], end_dim=-2), \n",
    "                              torch.flatten(Iobj_i * target[..., :self.C], end_dim=-2))\n",
    "\n",
    "        # ------------------------------------------------------------\n",
    "        # Так называемый object loss\n",
    "        # pred_box - уверенность для того бокса, у которого самый высокий iou\n",
    "        pred_box = (bestbox * predictions[..., self.C + 5:self.C + 6] + \\\n",
    "                    (1 - bestbox) * predictions[..., self.C:self.C + 1])\n",
    "        obj_loss = self.mse(torch.flatten(Iobj_i * pred_box), \n",
    "                               torch.flatten(Iobj_i * target[..., self.C:self.C + 1]))\n",
    "\n",
    "        # ------------------------------------------------------------\n",
    "        # Так называемый no object loss\n",
    "        no_obj_loss = self.mse(torch.flatten((1 - Iobj_i) * predictions[..., self.C:self.C + 1], start_dim=1), \n",
    "                                  torch.flatten((1 - Iobj_i) * target[..., self.C:self.C + 1], start_dim=1))\n",
    "        no_obj_loss += self.mse(torch.flatten((1 - Iobj_i) * predictions[..., self.C + 5:self.C + 6], start_dim=1), # Для обоих предсказаний\n",
    "                                   torch.flatten((1 - Iobj_i) * target[..., self.C:self.C + 1], start_dim=1))\n",
    "\n",
    "        # ------------------------------------------------------------\n",
    "        # Итого\n",
    "        loss = (self.lambda_coord * box_loss + obj_loss + \n",
    "                self.lambda_noobj * no_obj_loss + class_loss)\n",
    "\n",
    "        return loss"
   ]
  },
  {
   "cell_type": "code",
   "execution_count": null,
   "metadata": {
    "id": "QnQSP5jvGAKn"
   },
   "outputs": [],
   "source": [
    "# Это как-то тяжко тестить, может потом, на обучении... Но эту штуку я глазами много раз проверял"
   ]
  },
  {
   "cell_type": "markdown",
   "metadata": {
    "id": "aZ1eev1EeNk7"
   },
   "source": [
    "## Реализуем дополнительные функции из статьи "
   ]
  },
  {
   "cell_type": "code",
   "execution_count": 15,
   "metadata": {
    "id": "OMF8e6yXU6QV"
   },
   "outputs": [],
   "source": [
    "def non_max_suppression(bboxes, iou_threshold, threshold):\n",
    "    # в bboxes у нас элемент выглядит следующим образом: [class_pred, prob_score, x1, y1, x2, y2]\n",
    "\n",
    "    boxes = [box for box in bboxes if box[1] > threshold] # отсеиваем те, которое меньше трешхолда\n",
    "    boxes = sorted(bboxes, key=lambda x: x[1], reverse=True) # сортим по предсказанным вероятностям\n",
    "    new_bboxes = []\n",
    "\n",
    "    # Проводим отбор\n",
    "    while boxes:\n",
    "        our_box = boxes.pop(0)  \n",
    "        boxes = [box for box in boxes \n",
    "                 if box[0] != our_box[0] or \n",
    "                 intersection_over_union(torch.tensor(our_box[2:]), \n",
    "                                         torch.tensor(box[2:])) < iou_threshold]\n",
    "        new_bboxes.append(our_box)  \n",
    "\n",
    "    return new_bboxes"
   ]
  },
  {
   "cell_type": "code",
   "execution_count": 16,
   "metadata": {
    "colab": {
     "base_uri": "https://localhost:8080/"
    },
    "id": "I5b842ZDFIrc",
    "outputId": "e6c3276f-3ec4-434c-d447-4366749b64c1"
   },
   "outputs": [
    {
     "data": {
      "text/plain": [
       "[[0, 0.8, 0, 0, 3, 3], [0, 0.8, 4, 4, 8, 8]]"
      ]
     },
     "execution_count": 16,
     "metadata": {},
     "output_type": "execute_result"
    }
   ],
   "source": [
    "# Тестируем\n",
    "non_max_suppression([[0, 0.4, 0, 0, 2, 2], [0, 0.6, 0, 0, 2, 3], \n",
    "                     [0, 0.7, 0, 0, 3, 2], [0, 0.3, 0, 0, 2, 2], \n",
    "                     [0, 0.8, 0, 0, 3, 3], [0, 0.8, 4, 4, 8, 8]],\n",
    "                    0.4, 0.5)"
   ]
  },
  {
   "cell_type": "code",
   "execution_count": null,
   "metadata": {
    "id": "NzowFtBGF24C"
   },
   "outputs": [],
   "source": [
    "# Работает))"
   ]
  },
  {
   "cell_type": "code",
   "execution_count": 17,
   "metadata": {
    "id": "bTZOdw5vEPbz"
   },
   "outputs": [],
   "source": [
    "from collections import Counter\n",
    "\n",
    "def mean_average_precision(pred_boxes, true_boxes, iou_threshold=0.5):\n",
    "    # элемент в pred_boxes: [train_idx, class_pred, prob_score, x1, y1, x2, y2]\n",
    "    # элемент в true_boxes: [train_idx, class, prob_score, x1, y1, x2, y2]\n",
    "    avg_precisions = []\n",
    "    for clas in range(3): # классов же у нас три\n",
    "        detections = []\n",
    "        ground_truths = []\n",
    "        # Берем все нужного класса clas\n",
    "        for detect in pred_boxes:\n",
    "            if detect[1] == clas:\n",
    "                detections.append(detect)\n",
    "        for true_box in true_boxes:\n",
    "            if true_box[1] == clas:\n",
    "                ground_truths.append(true_box)\n",
    "\n",
    "        # По сколько boxes есть на каждой из картинок\n",
    "        amount_bboxes = Counter([gt[0] for gt in ground_truths])\n",
    "        for key, val in amount_bboxes.items():\n",
    "            amount_bboxes[key] = torch.zeros(val)\n",
    "\n",
    "        # сортим по предсказанным вероятностям\n",
    "        detections.sort(key=lambda x: x[2], reverse=True)\n",
    "        TP = torch.zeros((len(detections)))\n",
    "        FP = torch.zeros((len(detections)))\n",
    "        total_true_bboxes = len(ground_truths)\n",
    "\n",
    "        # Если для нашего класса ничего нет, то просто пропускаем его\n",
    "        if total_true_bboxes == 0:\n",
    "            continue\n",
    "\n",
    "        for detection_idx, detection in enumerate(detections):\n",
    "            # Берем с одинаковыми индексами с детектированными\n",
    "            ground_truth_img = [bbox for bbox in ground_truths if bbox[0] == detection[0]]\n",
    "\n",
    "            num_gts = len(ground_truth_img)\n",
    "            best_iou = 0\n",
    "\n",
    "            for idx, gt in enumerate(ground_truth_img):\n",
    "                iou = intersection_over_union(torch.tensor(detection[3:]), torch.tensor(gt[3:]))\n",
    "\n",
    "                if iou > best_iou:\n",
    "                    best_iou = iou\n",
    "                    best_gt_idx = idx\n",
    "\n",
    "            if best_iou > iou_threshold:\n",
    "                if amount_bboxes[detection[0]][best_gt_idx] == 0:\n",
    "                    TP[detection_idx] = 1\n",
    "                    amount_bboxes[detection[0]][best_gt_idx] = 1\n",
    "                else:\n",
    "                    FP[detection_idx] = 1\n",
    "\n",
    "            else:\n",
    "                FP[detection_idx] = 1\n",
    "\n",
    "        recalls = torch.cumsum(TP, dim=0) / (total_true_bboxes + 1e-6)\n",
    "        precisions = torch.divide(torch.cumsum(TP, dim=0), (torch.cumsum(TP, dim=0) + \\\n",
    "                                                            torch.cumsum(FP, dim=0) + 1e-6))\n",
    "        avg_precisions.append(torch.trapz(torch.cat((torch.tensor([1]), precisions)), \n",
    "                                          torch.cat((torch.tensor([0]), recalls))))\n",
    "\n",
    "    return sum(avg_precisions) / len(avg_precisions)"
   ]
  },
  {
   "cell_type": "code",
   "execution_count": 18,
   "metadata": {
    "colab": {
     "base_uri": "https://localhost:8080/"
    },
    "id": "4S9c_pd6T_un",
    "outputId": "4cad6660-fe99-4b64-efe0-ae9f0fe11572"
   },
   "outputs": [
    {
     "data": {
      "text/plain": [
       "tensor(0.2812)"
      ]
     },
     "execution_count": 18,
     "metadata": {},
     "output_type": "execute_result"
    }
   ],
   "source": [
    "# Тестируем\n",
    "mean_average_precision([[0, 0, 0.4, 0, 0, 2, 2], [0, 1, 0.6, 0, 0, 2, 3], \n",
    "                     [1, 0, 0.7, 0, 0, 3, 2], [1, 0, 0.3, 0, 0, 2, 2], \n",
    "                     [1, 0, 0.8, 0, 0, 3, 3], [1, 1, 0.8, 4, 4, 8, 8]],\n",
    "                    [[0, 1, 0.4, 0, 0, 2, 2], [0, 1, 0.6, 0, 0, 2, 3], \n",
    "                     [1, 0, 0.7, 0, 0, 3, 2], [1, 1, 0.3, 0, 0, 2, 2], \n",
    "                     [1, 1, 0.8, 0, 0, 3, 3], [1, 0, 0.8, 4, 4, 8, 8]],\n",
    "                    0.5)"
   ]
  },
  {
   "cell_type": "code",
   "execution_count": null,
   "metadata": {
    "id": "KhFuWjAwF5y-"
   },
   "outputs": [],
   "source": [
    "# И это работает))"
   ]
  },
  {
   "cell_type": "code",
   "execution_count": 28,
   "metadata": {
    "id": "R6RqGsEl57oq"
   },
   "outputs": [],
   "source": [
    "def get_bboxes(loader, model, iou_threshold=0.5, threshold=0.4, device=\"cuda\"):\n",
    "    pred_boxes = []\n",
    "    true_boxes = []\n",
    "    model.eval()\n",
    "    idx = 0\n",
    "\n",
    "    for batch_idx, (x, labels) in enumerate(loader):\n",
    "        x = x.to(device)\n",
    "        labels = labels.to(device)\n",
    "\n",
    "        with torch.no_grad():\n",
    "            predictions = model(x)\n",
    "\n",
    "        batch_size = x.shape[0]\n",
    "        true_bboxes = cellboxes_to_boxes(labels)\n",
    "        bboxes = cellboxes_to_boxes(predictions)\n",
    "\n",
    "        for i in range(batch_size):\n",
    "            for box in non_max_suppression(bboxes[i], iou_threshold=iou_threshold, threshold=threshold):\n",
    "                pred_boxes.append([idx] + box)\n",
    "            for box in true_bboxes[i]:\n",
    "                if box[1] > threshold:\n",
    "                    true_boxes.append([idx] + box)\n",
    "            idx += 1\n",
    "\n",
    "    model.train()\n",
    "    return pred_boxes, true_boxes\n",
    "\n",
    "\n",
    "\n",
    "def convert_cellboxes(predictions, S=7, C=3):\n",
    "    predictions = predictions.to(\"cpu\")\n",
    "    batch_size = predictions.shape[0]\n",
    "    predictions = predictions.reshape(batch_size, 7, 7, C + 10)\n",
    "    bboxes1 = predictions[..., C + 1:C + 5]\n",
    "    bboxes2 = predictions[..., C + 6:C + 10]\n",
    "    \n",
    "    scores = torch.cat((predictions[..., C].unsqueeze(0), predictions[..., C + 5].unsqueeze(0)), dim=0)\n",
    "    best_box = scores.argmax(0).unsqueeze(-1)\n",
    "    best_boxes = bboxes1 * (1 - best_box) + best_box * bboxes2\n",
    "    cell_indices = torch.arange(7).repeat(batch_size, 7, 1).unsqueeze(-1)\n",
    "\n",
    "    x = 1 / S * (best_boxes[..., :1] + cell_indices)\n",
    "    y = 1 / S * (best_boxes[..., 1:2] + cell_indices.permute(0, 2, 1, 3))\n",
    "    w_y = 1 / S * best_boxes[..., 2:4]\n",
    "\n",
    "    converted_bboxes = torch.cat((x, y, w_y), dim=-1)\n",
    "    predicted_class = predictions[..., :C].argmax(-1).unsqueeze(-1)\n",
    "    best_confidence = torch.max(predictions[..., C], predictions[..., C + 5]).unsqueeze(-1)\n",
    "    converted_preds = torch.cat((predicted_class, best_confidence, converted_bboxes), dim=-1)\n",
    "\n",
    "    return converted_preds\n",
    "\n",
    "\n",
    "def cellboxes_to_boxes(out, S=7):\n",
    "    converted = convert_cellboxes(out).reshape(out.shape[0], S * S, -1)\n",
    "    converted[..., 0] = converted[..., 0].long()\n",
    "    all = []\n",
    "\n",
    "    for i in range(out.shape[0]):\n",
    "        bboxes = []\n",
    "        for j in range(S * S):\n",
    "            bboxes.append([x.item() for x in converted[i, j, :]])\n",
    "        all.append(bboxes)\n",
    "\n",
    "    return all"
   ]
  },
  {
   "cell_type": "markdown",
   "metadata": {
    "id": "z38hYLM6haDk"
   },
   "source": [
    "## Обучим модель и посчитаем метрики для задачи детекции "
   ]
  },
  {
   "cell_type": "code",
   "execution_count": 59,
   "metadata": {
    "id": "gDN2rRhuOf85"
   },
   "outputs": [],
   "source": [
    "from torchmetrics.functional import accuracy"
   ]
  },
  {
   "cell_type": "code",
   "execution_count": 63,
   "metadata": {
    "id": "6BTNHNqtMpSi"
   },
   "outputs": [],
   "source": [
    "class YOLOLearner(pl.LightningModule):\n",
    "    def __init__(self, model=YOLO()) -> None:\n",
    "        super().__init__()\n",
    "\n",
    "        self.model = model\n",
    "        self.loss = YoloLoss()\n",
    "        self.optimizer = torch.optim.Adam(self.model.parameters(), lr=1e-3)\n",
    "\n",
    "    def forward(self, x) -> torch.Tensor:\n",
    "        return self.model(x)\n",
    "\n",
    "    def configure_optimizers(self):\n",
    "        return self.optimizer\n",
    "\n",
    "    def training_step(self, train_batch, batch_idx) -> torch.Tensor:\n",
    "        images, target = train_batch\n",
    "        preds = self.forward(images)\n",
    "        loss = self.forward(preds, target)\n",
    "        self.log(\"train_loss\", loss, prog_bar=True)\n",
    "        return loss\n",
    "\n",
    "    def validation_step(self, val_batch, batch_idx) -> None:\n",
    "        images, target = val_batch\n",
    "        preds = self.forward(images)\n",
    "        loss = self.forward(preds, target)\n",
    "        MAP = mean_average_precision(preds, target)\n",
    "        self.log(\"val_loss\", loss, prog_bar=True) \n",
    "        self.log(\"mean_average_precision\", MAP, prog_bar=True)  "
   ]
  },
  {
   "cell_type": "code",
   "execution_count": 64,
   "metadata": {
    "colab": {
     "base_uri": "https://localhost:8080/",
     "height": 650,
     "referenced_widgets": [
      "aef7274c6d6b4decbcaab617a7aa2fc2",
      "61304f1dadf24131843f0df8f6b27256",
      "90249232def64470b86b9cdd3873353f",
      "9565b621894c46278ffa33f7a35705c4",
      "32f5af1b514648e1b544407b5bf16b1b",
      "b66f90a9f61d4283a4f2a535cc1314f7",
      "48f01557736b43e2bc1d82677c038c95",
      "f6a1bd60abc1465b9087d21e18551534",
      "6195c7faecab495fb43b95ffda3b9ba8",
      "589dd82771444703954955066a1a9d06",
      "15804c67855842ae877c628977d8cc14"
     ]
    },
    "id": "sRl42I2xMpSi",
    "outputId": "15518cd2-89c5-45d0-d836-2557c693f328"
   },
   "outputs": [
    {
     "name": "stderr",
     "output_type": "stream",
     "text": [
      "INFO:pytorch_lightning.utilities.rank_zero:GPU available: False, used: False\n",
      "INFO:pytorch_lightning.utilities.rank_zero:TPU available: False, using: 0 TPU cores\n",
      "INFO:pytorch_lightning.utilities.rank_zero:IPU available: False, using: 0 IPUs\n",
      "INFO:pytorch_lightning.utilities.rank_zero:HPU available: False, using: 0 HPUs\n",
      "WARNING:pytorch_lightning.loggers.tensorboard:Missing logger folder: /content/lightning_logs\n",
      "INFO:pytorch_lightning.callbacks.model_summary:\n",
      "  | Name  | Type     | Params\n",
      "-----------------------------------\n",
      "0 | model | YOLO     | 240 M \n",
      "1 | loss  | YoloLoss | 0     \n",
      "-----------------------------------\n",
      "240 M     Trainable params\n",
      "0         Non-trainable params\n",
      "240 M     Total params\n",
      "961.000   Total estimated model params size (MB)\n"
     ]
    },
    {
     "data": {
      "application/vnd.jupyter.widget-view+json": {
       "model_id": "aef7274c6d6b4decbcaab617a7aa2fc2",
       "version_major": 2,
       "version_minor": 0
      },
      "text/plain": [
       "Sanity Checking: 0it [00:00, ?it/s]"
      ]
     },
     "metadata": {},
     "output_type": "display_data"
    },
    {
     "ename": "RuntimeError",
     "evalue": "ignored",
     "output_type": "error",
     "traceback": [
      "\u001b[0;31m---------------------------------------------------------------------------\u001b[0m",
      "\u001b[0;31mRuntimeError\u001b[0m                              Traceback (most recent call last)",
      "\u001b[0;32m<ipython-input-64-1d88549129c6>\u001b[0m in \u001b[0;36m<module>\u001b[0;34m\u001b[0m\n\u001b[1;32m      7\u001b[0m \u001b[0mtrainer\u001b[0m \u001b[0;34m=\u001b[0m \u001b[0mpl\u001b[0m\u001b[0;34m.\u001b[0m\u001b[0mTrainer\u001b[0m\u001b[0;34m(\u001b[0m\u001b[0maccelerator\u001b[0m\u001b[0;34m=\u001b[0m\u001b[0mdevice\u001b[0m\u001b[0;34m,\u001b[0m \u001b[0mmax_epochs\u001b[0m\u001b[0;34m=\u001b[0m\u001b[0mn_epochs\u001b[0m\u001b[0;34m)\u001b[0m\u001b[0;34m\u001b[0m\u001b[0;34m\u001b[0m\u001b[0m\n\u001b[1;32m      8\u001b[0m \u001b[0;34m\u001b[0m\u001b[0m\n\u001b[0;32m----> 9\u001b[0;31m \u001b[0mtrainer\u001b[0m\u001b[0;34m.\u001b[0m\u001b[0mfit\u001b[0m\u001b[0;34m(\u001b[0m\u001b[0myolo_learner\u001b[0m\u001b[0;34m,\u001b[0m \u001b[0mtrain_dataloader\u001b[0m\u001b[0;34m,\u001b[0m \u001b[0mval_dataloader\u001b[0m\u001b[0;34m)\u001b[0m\u001b[0;34m\u001b[0m\u001b[0;34m\u001b[0m\u001b[0m\n\u001b[0m",
      "\u001b[0;32m/usr/local/lib/python3.8/dist-packages/pytorch_lightning/trainer/trainer.py\u001b[0m in \u001b[0;36mfit\u001b[0;34m(self, model, train_dataloaders, val_dataloaders, datamodule, ckpt_path)\u001b[0m\n\u001b[1;32m    601\u001b[0m             \u001b[0;32mraise\u001b[0m \u001b[0mTypeError\u001b[0m\u001b[0;34m(\u001b[0m\u001b[0;34mf\"`Trainer.fit()` requires a `LightningModule`, got: {model.__class__.__qualname__}\"\u001b[0m\u001b[0;34m)\u001b[0m\u001b[0;34m\u001b[0m\u001b[0;34m\u001b[0m\u001b[0m\n\u001b[1;32m    602\u001b[0m         \u001b[0mself\u001b[0m\u001b[0;34m.\u001b[0m\u001b[0mstrategy\u001b[0m\u001b[0;34m.\u001b[0m\u001b[0m_lightning_module\u001b[0m \u001b[0;34m=\u001b[0m \u001b[0mmodel\u001b[0m\u001b[0;34m\u001b[0m\u001b[0;34m\u001b[0m\u001b[0m\n\u001b[0;32m--> 603\u001b[0;31m         call._call_and_handle_interrupt(\n\u001b[0m\u001b[1;32m    604\u001b[0m             \u001b[0mself\u001b[0m\u001b[0;34m,\u001b[0m \u001b[0mself\u001b[0m\u001b[0;34m.\u001b[0m\u001b[0m_fit_impl\u001b[0m\u001b[0;34m,\u001b[0m \u001b[0mmodel\u001b[0m\u001b[0;34m,\u001b[0m \u001b[0mtrain_dataloaders\u001b[0m\u001b[0;34m,\u001b[0m \u001b[0mval_dataloaders\u001b[0m\u001b[0;34m,\u001b[0m \u001b[0mdatamodule\u001b[0m\u001b[0;34m,\u001b[0m \u001b[0mckpt_path\u001b[0m\u001b[0;34m\u001b[0m\u001b[0;34m\u001b[0m\u001b[0m\n\u001b[1;32m    605\u001b[0m         )\n",
      "\u001b[0;32m/usr/local/lib/python3.8/dist-packages/pytorch_lightning/trainer/call.py\u001b[0m in \u001b[0;36m_call_and_handle_interrupt\u001b[0;34m(trainer, trainer_fn, *args, **kwargs)\u001b[0m\n\u001b[1;32m     36\u001b[0m             \u001b[0;32mreturn\u001b[0m \u001b[0mtrainer\u001b[0m\u001b[0;34m.\u001b[0m\u001b[0mstrategy\u001b[0m\u001b[0;34m.\u001b[0m\u001b[0mlauncher\u001b[0m\u001b[0;34m.\u001b[0m\u001b[0mlaunch\u001b[0m\u001b[0;34m(\u001b[0m\u001b[0mtrainer_fn\u001b[0m\u001b[0;34m,\u001b[0m \u001b[0;34m*\u001b[0m\u001b[0margs\u001b[0m\u001b[0;34m,\u001b[0m \u001b[0mtrainer\u001b[0m\u001b[0;34m=\u001b[0m\u001b[0mtrainer\u001b[0m\u001b[0;34m,\u001b[0m \u001b[0;34m**\u001b[0m\u001b[0mkwargs\u001b[0m\u001b[0;34m)\u001b[0m\u001b[0;34m\u001b[0m\u001b[0;34m\u001b[0m\u001b[0m\n\u001b[1;32m     37\u001b[0m         \u001b[0;32melse\u001b[0m\u001b[0;34m:\u001b[0m\u001b[0;34m\u001b[0m\u001b[0;34m\u001b[0m\u001b[0m\n\u001b[0;32m---> 38\u001b[0;31m             \u001b[0;32mreturn\u001b[0m \u001b[0mtrainer_fn\u001b[0m\u001b[0;34m(\u001b[0m\u001b[0;34m*\u001b[0m\u001b[0margs\u001b[0m\u001b[0;34m,\u001b[0m \u001b[0;34m**\u001b[0m\u001b[0mkwargs\u001b[0m\u001b[0;34m)\u001b[0m\u001b[0;34m\u001b[0m\u001b[0;34m\u001b[0m\u001b[0m\n\u001b[0m\u001b[1;32m     39\u001b[0m \u001b[0;34m\u001b[0m\u001b[0m\n\u001b[1;32m     40\u001b[0m     \u001b[0;32mexcept\u001b[0m \u001b[0m_TunerExitException\u001b[0m\u001b[0;34m:\u001b[0m\u001b[0;34m\u001b[0m\u001b[0;34m\u001b[0m\u001b[0m\n",
      "\u001b[0;32m/usr/local/lib/python3.8/dist-packages/pytorch_lightning/trainer/trainer.py\u001b[0m in \u001b[0;36m_fit_impl\u001b[0;34m(self, model, train_dataloaders, val_dataloaders, datamodule, ckpt_path)\u001b[0m\n\u001b[1;32m    643\u001b[0m             \u001b[0mmodel_connected\u001b[0m\u001b[0;34m=\u001b[0m\u001b[0mself\u001b[0m\u001b[0;34m.\u001b[0m\u001b[0mlightning_module\u001b[0m \u001b[0;32mis\u001b[0m \u001b[0;32mnot\u001b[0m \u001b[0;32mNone\u001b[0m\u001b[0;34m,\u001b[0m\u001b[0;34m\u001b[0m\u001b[0;34m\u001b[0m\u001b[0m\n\u001b[1;32m    644\u001b[0m         )\n\u001b[0;32m--> 645\u001b[0;31m         \u001b[0mself\u001b[0m\u001b[0;34m.\u001b[0m\u001b[0m_run\u001b[0m\u001b[0;34m(\u001b[0m\u001b[0mmodel\u001b[0m\u001b[0;34m,\u001b[0m \u001b[0mckpt_path\u001b[0m\u001b[0;34m=\u001b[0m\u001b[0mself\u001b[0m\u001b[0;34m.\u001b[0m\u001b[0mckpt_path\u001b[0m\u001b[0;34m)\u001b[0m\u001b[0;34m\u001b[0m\u001b[0;34m\u001b[0m\u001b[0m\n\u001b[0m\u001b[1;32m    646\u001b[0m \u001b[0;34m\u001b[0m\u001b[0m\n\u001b[1;32m    647\u001b[0m         \u001b[0;32massert\u001b[0m \u001b[0mself\u001b[0m\u001b[0;34m.\u001b[0m\u001b[0mstate\u001b[0m\u001b[0;34m.\u001b[0m\u001b[0mstopped\u001b[0m\u001b[0;34m\u001b[0m\u001b[0;34m\u001b[0m\u001b[0m\n",
      "\u001b[0;32m/usr/local/lib/python3.8/dist-packages/pytorch_lightning/trainer/trainer.py\u001b[0m in \u001b[0;36m_run\u001b[0;34m(self, model, ckpt_path)\u001b[0m\n\u001b[1;32m   1096\u001b[0m         \u001b[0mself\u001b[0m\u001b[0;34m.\u001b[0m\u001b[0m_checkpoint_connector\u001b[0m\u001b[0;34m.\u001b[0m\u001b[0mresume_end\u001b[0m\u001b[0;34m(\u001b[0m\u001b[0;34m)\u001b[0m\u001b[0;34m\u001b[0m\u001b[0;34m\u001b[0m\u001b[0m\n\u001b[1;32m   1097\u001b[0m \u001b[0;34m\u001b[0m\u001b[0m\n\u001b[0;32m-> 1098\u001b[0;31m         \u001b[0mresults\u001b[0m \u001b[0;34m=\u001b[0m \u001b[0mself\u001b[0m\u001b[0;34m.\u001b[0m\u001b[0m_run_stage\u001b[0m\u001b[0;34m(\u001b[0m\u001b[0;34m)\u001b[0m\u001b[0;34m\u001b[0m\u001b[0;34m\u001b[0m\u001b[0m\n\u001b[0m\u001b[1;32m   1099\u001b[0m \u001b[0;34m\u001b[0m\u001b[0m\n\u001b[1;32m   1100\u001b[0m         \u001b[0mlog\u001b[0m\u001b[0;34m.\u001b[0m\u001b[0mdetail\u001b[0m\u001b[0;34m(\u001b[0m\u001b[0;34mf\"{self.__class__.__name__}: trainer tearing down\"\u001b[0m\u001b[0;34m)\u001b[0m\u001b[0;34m\u001b[0m\u001b[0;34m\u001b[0m\u001b[0m\n",
      "\u001b[0;32m/usr/local/lib/python3.8/dist-packages/pytorch_lightning/trainer/trainer.py\u001b[0m in \u001b[0;36m_run_stage\u001b[0;34m(self)\u001b[0m\n\u001b[1;32m   1175\u001b[0m         \u001b[0;32mif\u001b[0m \u001b[0mself\u001b[0m\u001b[0;34m.\u001b[0m\u001b[0mpredicting\u001b[0m\u001b[0;34m:\u001b[0m\u001b[0;34m\u001b[0m\u001b[0;34m\u001b[0m\u001b[0m\n\u001b[1;32m   1176\u001b[0m             \u001b[0;32mreturn\u001b[0m \u001b[0mself\u001b[0m\u001b[0;34m.\u001b[0m\u001b[0m_run_predict\u001b[0m\u001b[0;34m(\u001b[0m\u001b[0;34m)\u001b[0m\u001b[0;34m\u001b[0m\u001b[0;34m\u001b[0m\u001b[0m\n\u001b[0;32m-> 1177\u001b[0;31m         \u001b[0mself\u001b[0m\u001b[0;34m.\u001b[0m\u001b[0m_run_train\u001b[0m\u001b[0;34m(\u001b[0m\u001b[0;34m)\u001b[0m\u001b[0;34m\u001b[0m\u001b[0;34m\u001b[0m\u001b[0m\n\u001b[0m\u001b[1;32m   1178\u001b[0m \u001b[0;34m\u001b[0m\u001b[0m\n\u001b[1;32m   1179\u001b[0m     \u001b[0;32mdef\u001b[0m \u001b[0m_pre_training_routine\u001b[0m\u001b[0;34m(\u001b[0m\u001b[0mself\u001b[0m\u001b[0;34m)\u001b[0m \u001b[0;34m->\u001b[0m \u001b[0;32mNone\u001b[0m\u001b[0;34m:\u001b[0m\u001b[0;34m\u001b[0m\u001b[0;34m\u001b[0m\u001b[0m\n",
      "\u001b[0;32m/usr/local/lib/python3.8/dist-packages/pytorch_lightning/trainer/trainer.py\u001b[0m in \u001b[0;36m_run_train\u001b[0;34m(self)\u001b[0m\n\u001b[1;32m   1188\u001b[0m \u001b[0;34m\u001b[0m\u001b[0m\n\u001b[1;32m   1189\u001b[0m         \u001b[0;32mwith\u001b[0m \u001b[0misolate_rng\u001b[0m\u001b[0;34m(\u001b[0m\u001b[0;34m)\u001b[0m\u001b[0;34m:\u001b[0m\u001b[0;34m\u001b[0m\u001b[0;34m\u001b[0m\u001b[0m\n\u001b[0;32m-> 1190\u001b[0;31m             \u001b[0mself\u001b[0m\u001b[0;34m.\u001b[0m\u001b[0m_run_sanity_check\u001b[0m\u001b[0;34m(\u001b[0m\u001b[0;34m)\u001b[0m\u001b[0;34m\u001b[0m\u001b[0;34m\u001b[0m\u001b[0m\n\u001b[0m\u001b[1;32m   1191\u001b[0m \u001b[0;34m\u001b[0m\u001b[0m\n\u001b[1;32m   1192\u001b[0m         \u001b[0;31m# enable train mode\u001b[0m\u001b[0;34m\u001b[0m\u001b[0;34m\u001b[0m\u001b[0;34m\u001b[0m\u001b[0m\n",
      "\u001b[0;32m/usr/local/lib/python3.8/dist-packages/pytorch_lightning/trainer/trainer.py\u001b[0m in \u001b[0;36m_run_sanity_check\u001b[0;34m(self)\u001b[0m\n\u001b[1;32m   1260\u001b[0m             \u001b[0;31m# run eval step\u001b[0m\u001b[0;34m\u001b[0m\u001b[0;34m\u001b[0m\u001b[0;34m\u001b[0m\u001b[0m\n\u001b[1;32m   1261\u001b[0m             \u001b[0;32mwith\u001b[0m \u001b[0mtorch\u001b[0m\u001b[0;34m.\u001b[0m\u001b[0mno_grad\u001b[0m\u001b[0;34m(\u001b[0m\u001b[0;34m)\u001b[0m\u001b[0;34m:\u001b[0m\u001b[0;34m\u001b[0m\u001b[0;34m\u001b[0m\u001b[0m\n\u001b[0;32m-> 1262\u001b[0;31m                 \u001b[0mval_loop\u001b[0m\u001b[0;34m.\u001b[0m\u001b[0mrun\u001b[0m\u001b[0;34m(\u001b[0m\u001b[0;34m)\u001b[0m\u001b[0;34m\u001b[0m\u001b[0;34m\u001b[0m\u001b[0m\n\u001b[0m\u001b[1;32m   1263\u001b[0m \u001b[0;34m\u001b[0m\u001b[0m\n\u001b[1;32m   1264\u001b[0m             \u001b[0mself\u001b[0m\u001b[0;34m.\u001b[0m\u001b[0m_call_callback_hooks\u001b[0m\u001b[0;34m(\u001b[0m\u001b[0;34m\"on_sanity_check_end\"\u001b[0m\u001b[0;34m)\u001b[0m\u001b[0;34m\u001b[0m\u001b[0;34m\u001b[0m\u001b[0m\n",
      "\u001b[0;32m/usr/local/lib/python3.8/dist-packages/pytorch_lightning/loops/loop.py\u001b[0m in \u001b[0;36mrun\u001b[0;34m(self, *args, **kwargs)\u001b[0m\n\u001b[1;32m    197\u001b[0m             \u001b[0;32mtry\u001b[0m\u001b[0;34m:\u001b[0m\u001b[0;34m\u001b[0m\u001b[0;34m\u001b[0m\u001b[0m\n\u001b[1;32m    198\u001b[0m                 \u001b[0mself\u001b[0m\u001b[0;34m.\u001b[0m\u001b[0mon_advance_start\u001b[0m\u001b[0;34m(\u001b[0m\u001b[0;34m*\u001b[0m\u001b[0margs\u001b[0m\u001b[0;34m,\u001b[0m \u001b[0;34m**\u001b[0m\u001b[0mkwargs\u001b[0m\u001b[0;34m)\u001b[0m\u001b[0;34m\u001b[0m\u001b[0;34m\u001b[0m\u001b[0m\n\u001b[0;32m--> 199\u001b[0;31m                 \u001b[0mself\u001b[0m\u001b[0;34m.\u001b[0m\u001b[0madvance\u001b[0m\u001b[0;34m(\u001b[0m\u001b[0;34m*\u001b[0m\u001b[0margs\u001b[0m\u001b[0;34m,\u001b[0m \u001b[0;34m**\u001b[0m\u001b[0mkwargs\u001b[0m\u001b[0;34m)\u001b[0m\u001b[0;34m\u001b[0m\u001b[0;34m\u001b[0m\u001b[0m\n\u001b[0m\u001b[1;32m    200\u001b[0m                 \u001b[0mself\u001b[0m\u001b[0;34m.\u001b[0m\u001b[0mon_advance_end\u001b[0m\u001b[0;34m(\u001b[0m\u001b[0;34m)\u001b[0m\u001b[0;34m\u001b[0m\u001b[0;34m\u001b[0m\u001b[0m\n\u001b[1;32m    201\u001b[0m                 \u001b[0mself\u001b[0m\u001b[0;34m.\u001b[0m\u001b[0m_restarting\u001b[0m \u001b[0;34m=\u001b[0m \u001b[0;32mFalse\u001b[0m\u001b[0;34m\u001b[0m\u001b[0;34m\u001b[0m\u001b[0m\n",
      "\u001b[0;32m/usr/local/lib/python3.8/dist-packages/pytorch_lightning/loops/dataloader/evaluation_loop.py\u001b[0m in \u001b[0;36madvance\u001b[0;34m(self, *args, **kwargs)\u001b[0m\n\u001b[1;32m    150\u001b[0m         \u001b[0;32mif\u001b[0m \u001b[0mself\u001b[0m\u001b[0;34m.\u001b[0m\u001b[0mnum_dataloaders\u001b[0m \u001b[0;34m>\u001b[0m \u001b[0;36m1\u001b[0m\u001b[0;34m:\u001b[0m\u001b[0;34m\u001b[0m\u001b[0;34m\u001b[0m\u001b[0m\n\u001b[1;32m    151\u001b[0m             \u001b[0mkwargs\u001b[0m\u001b[0;34m[\u001b[0m\u001b[0;34m\"dataloader_idx\"\u001b[0m\u001b[0;34m]\u001b[0m \u001b[0;34m=\u001b[0m \u001b[0mdataloader_idx\u001b[0m\u001b[0;34m\u001b[0m\u001b[0;34m\u001b[0m\u001b[0m\n\u001b[0;32m--> 152\u001b[0;31m         \u001b[0mdl_outputs\u001b[0m \u001b[0;34m=\u001b[0m \u001b[0mself\u001b[0m\u001b[0;34m.\u001b[0m\u001b[0mepoch_loop\u001b[0m\u001b[0;34m.\u001b[0m\u001b[0mrun\u001b[0m\u001b[0;34m(\u001b[0m\u001b[0mself\u001b[0m\u001b[0;34m.\u001b[0m\u001b[0m_data_fetcher\u001b[0m\u001b[0;34m,\u001b[0m \u001b[0mdl_max_batches\u001b[0m\u001b[0;34m,\u001b[0m \u001b[0mkwargs\u001b[0m\u001b[0;34m)\u001b[0m\u001b[0;34m\u001b[0m\u001b[0;34m\u001b[0m\u001b[0m\n\u001b[0m\u001b[1;32m    153\u001b[0m \u001b[0;34m\u001b[0m\u001b[0m\n\u001b[1;32m    154\u001b[0m         \u001b[0;31m# store batch level output per dataloader\u001b[0m\u001b[0;34m\u001b[0m\u001b[0;34m\u001b[0m\u001b[0;34m\u001b[0m\u001b[0m\n",
      "\u001b[0;32m/usr/local/lib/python3.8/dist-packages/pytorch_lightning/loops/loop.py\u001b[0m in \u001b[0;36mrun\u001b[0;34m(self, *args, **kwargs)\u001b[0m\n\u001b[1;32m    197\u001b[0m             \u001b[0;32mtry\u001b[0m\u001b[0;34m:\u001b[0m\u001b[0;34m\u001b[0m\u001b[0;34m\u001b[0m\u001b[0m\n\u001b[1;32m    198\u001b[0m                 \u001b[0mself\u001b[0m\u001b[0;34m.\u001b[0m\u001b[0mon_advance_start\u001b[0m\u001b[0;34m(\u001b[0m\u001b[0;34m*\u001b[0m\u001b[0margs\u001b[0m\u001b[0;34m,\u001b[0m \u001b[0;34m**\u001b[0m\u001b[0mkwargs\u001b[0m\u001b[0;34m)\u001b[0m\u001b[0;34m\u001b[0m\u001b[0;34m\u001b[0m\u001b[0m\n\u001b[0;32m--> 199\u001b[0;31m                 \u001b[0mself\u001b[0m\u001b[0;34m.\u001b[0m\u001b[0madvance\u001b[0m\u001b[0;34m(\u001b[0m\u001b[0;34m*\u001b[0m\u001b[0margs\u001b[0m\u001b[0;34m,\u001b[0m \u001b[0;34m**\u001b[0m\u001b[0mkwargs\u001b[0m\u001b[0;34m)\u001b[0m\u001b[0;34m\u001b[0m\u001b[0;34m\u001b[0m\u001b[0m\n\u001b[0m\u001b[1;32m    200\u001b[0m                 \u001b[0mself\u001b[0m\u001b[0;34m.\u001b[0m\u001b[0mon_advance_end\u001b[0m\u001b[0;34m(\u001b[0m\u001b[0;34m)\u001b[0m\u001b[0;34m\u001b[0m\u001b[0;34m\u001b[0m\u001b[0m\n\u001b[1;32m    201\u001b[0m                 \u001b[0mself\u001b[0m\u001b[0;34m.\u001b[0m\u001b[0m_restarting\u001b[0m \u001b[0;34m=\u001b[0m \u001b[0;32mFalse\u001b[0m\u001b[0;34m\u001b[0m\u001b[0;34m\u001b[0m\u001b[0m\n",
      "\u001b[0;32m/usr/local/lib/python3.8/dist-packages/pytorch_lightning/loops/epoch/evaluation_epoch_loop.py\u001b[0m in \u001b[0;36madvance\u001b[0;34m(self, data_fetcher, dl_max_batches, kwargs)\u001b[0m\n\u001b[1;32m    119\u001b[0m         \u001b[0;32mif\u001b[0m \u001b[0;32mnot\u001b[0m \u001b[0misinstance\u001b[0m\u001b[0;34m(\u001b[0m\u001b[0mdata_fetcher\u001b[0m\u001b[0;34m,\u001b[0m \u001b[0mDataLoaderIterDataFetcher\u001b[0m\u001b[0;34m)\u001b[0m\u001b[0;34m:\u001b[0m\u001b[0;34m\u001b[0m\u001b[0;34m\u001b[0m\u001b[0m\n\u001b[1;32m    120\u001b[0m             \u001b[0mbatch_idx\u001b[0m \u001b[0;34m=\u001b[0m \u001b[0mself\u001b[0m\u001b[0;34m.\u001b[0m\u001b[0mbatch_progress\u001b[0m\u001b[0;34m.\u001b[0m\u001b[0mcurrent\u001b[0m\u001b[0;34m.\u001b[0m\u001b[0mready\u001b[0m\u001b[0;34m\u001b[0m\u001b[0;34m\u001b[0m\u001b[0m\n\u001b[0;32m--> 121\u001b[0;31m             \u001b[0mbatch\u001b[0m \u001b[0;34m=\u001b[0m \u001b[0mnext\u001b[0m\u001b[0;34m(\u001b[0m\u001b[0mdata_fetcher\u001b[0m\u001b[0;34m)\u001b[0m\u001b[0;34m\u001b[0m\u001b[0;34m\u001b[0m\u001b[0m\n\u001b[0m\u001b[1;32m    122\u001b[0m         \u001b[0;32melse\u001b[0m\u001b[0;34m:\u001b[0m\u001b[0;34m\u001b[0m\u001b[0;34m\u001b[0m\u001b[0m\n\u001b[1;32m    123\u001b[0m             \u001b[0mbatch_idx\u001b[0m\u001b[0;34m,\u001b[0m \u001b[0mbatch\u001b[0m \u001b[0;34m=\u001b[0m \u001b[0mnext\u001b[0m\u001b[0;34m(\u001b[0m\u001b[0mdata_fetcher\u001b[0m\u001b[0;34m)\u001b[0m\u001b[0;34m\u001b[0m\u001b[0;34m\u001b[0m\u001b[0m\n",
      "\u001b[0;32m/usr/local/lib/python3.8/dist-packages/pytorch_lightning/utilities/fetching.py\u001b[0m in \u001b[0;36m__next__\u001b[0;34m(self)\u001b[0m\n\u001b[1;32m    182\u001b[0m \u001b[0;34m\u001b[0m\u001b[0m\n\u001b[1;32m    183\u001b[0m     \u001b[0;32mdef\u001b[0m \u001b[0m__next__\u001b[0m\u001b[0;34m(\u001b[0m\u001b[0mself\u001b[0m\u001b[0;34m)\u001b[0m \u001b[0;34m->\u001b[0m \u001b[0mAny\u001b[0m\u001b[0;34m:\u001b[0m\u001b[0;34m\u001b[0m\u001b[0;34m\u001b[0m\u001b[0m\n\u001b[0;32m--> 184\u001b[0;31m         \u001b[0;32mreturn\u001b[0m \u001b[0mself\u001b[0m\u001b[0;34m.\u001b[0m\u001b[0mfetching_function\u001b[0m\u001b[0;34m(\u001b[0m\u001b[0;34m)\u001b[0m\u001b[0;34m\u001b[0m\u001b[0;34m\u001b[0m\u001b[0m\n\u001b[0m\u001b[1;32m    185\u001b[0m \u001b[0;34m\u001b[0m\u001b[0m\n\u001b[1;32m    186\u001b[0m     \u001b[0;32mdef\u001b[0m \u001b[0mreset\u001b[0m\u001b[0;34m(\u001b[0m\u001b[0mself\u001b[0m\u001b[0;34m)\u001b[0m \u001b[0;34m->\u001b[0m \u001b[0;32mNone\u001b[0m\u001b[0;34m:\u001b[0m\u001b[0;34m\u001b[0m\u001b[0;34m\u001b[0m\u001b[0m\n",
      "\u001b[0;32m/usr/local/lib/python3.8/dist-packages/pytorch_lightning/utilities/fetching.py\u001b[0m in \u001b[0;36mfetching_function\u001b[0;34m(self)\u001b[0m\n\u001b[1;32m    263\u001b[0m             \u001b[0;31m# this will run only when no pre-fetching was done.\u001b[0m\u001b[0;34m\u001b[0m\u001b[0;34m\u001b[0m\u001b[0;34m\u001b[0m\u001b[0m\n\u001b[1;32m    264\u001b[0m             \u001b[0;32mtry\u001b[0m\u001b[0;34m:\u001b[0m\u001b[0;34m\u001b[0m\u001b[0;34m\u001b[0m\u001b[0m\n\u001b[0;32m--> 265\u001b[0;31m                 \u001b[0mself\u001b[0m\u001b[0;34m.\u001b[0m\u001b[0m_fetch_next_batch\u001b[0m\u001b[0;34m(\u001b[0m\u001b[0mself\u001b[0m\u001b[0;34m.\u001b[0m\u001b[0mdataloader_iter\u001b[0m\u001b[0;34m)\u001b[0m\u001b[0;34m\u001b[0m\u001b[0;34m\u001b[0m\u001b[0m\n\u001b[0m\u001b[1;32m    266\u001b[0m                 \u001b[0;31m# consume the batch we just fetched\u001b[0m\u001b[0;34m\u001b[0m\u001b[0;34m\u001b[0m\u001b[0;34m\u001b[0m\u001b[0m\n\u001b[1;32m    267\u001b[0m                 \u001b[0mbatch\u001b[0m \u001b[0;34m=\u001b[0m \u001b[0mself\u001b[0m\u001b[0;34m.\u001b[0m\u001b[0mbatches\u001b[0m\u001b[0;34m.\u001b[0m\u001b[0mpop\u001b[0m\u001b[0;34m(\u001b[0m\u001b[0;36m0\u001b[0m\u001b[0;34m)\u001b[0m\u001b[0;34m\u001b[0m\u001b[0;34m\u001b[0m\u001b[0m\n",
      "\u001b[0;32m/usr/local/lib/python3.8/dist-packages/pytorch_lightning/utilities/fetching.py\u001b[0m in \u001b[0;36m_fetch_next_batch\u001b[0;34m(self, iterator)\u001b[0m\n\u001b[1;32m    278\u001b[0m         \u001b[0mstart_output\u001b[0m \u001b[0;34m=\u001b[0m \u001b[0mself\u001b[0m\u001b[0;34m.\u001b[0m\u001b[0mon_fetch_start\u001b[0m\u001b[0;34m(\u001b[0m\u001b[0;34m)\u001b[0m\u001b[0;34m\u001b[0m\u001b[0;34m\u001b[0m\u001b[0m\n\u001b[1;32m    279\u001b[0m         \u001b[0;32mtry\u001b[0m\u001b[0;34m:\u001b[0m\u001b[0;34m\u001b[0m\u001b[0;34m\u001b[0m\u001b[0m\n\u001b[0;32m--> 280\u001b[0;31m             \u001b[0mbatch\u001b[0m \u001b[0;34m=\u001b[0m \u001b[0mnext\u001b[0m\u001b[0;34m(\u001b[0m\u001b[0miterator\u001b[0m\u001b[0;34m)\u001b[0m\u001b[0;34m\u001b[0m\u001b[0;34m\u001b[0m\u001b[0m\n\u001b[0m\u001b[1;32m    281\u001b[0m         \u001b[0;32mexcept\u001b[0m \u001b[0mStopIteration\u001b[0m \u001b[0;32mas\u001b[0m \u001b[0me\u001b[0m\u001b[0;34m:\u001b[0m\u001b[0;34m\u001b[0m\u001b[0;34m\u001b[0m\u001b[0m\n\u001b[1;32m    282\u001b[0m             \u001b[0mself\u001b[0m\u001b[0;34m.\u001b[0m\u001b[0m_stop_profiler\u001b[0m\u001b[0;34m(\u001b[0m\u001b[0;34m)\u001b[0m\u001b[0;34m\u001b[0m\u001b[0;34m\u001b[0m\u001b[0m\n",
      "\u001b[0;32m/usr/local/lib/python3.8/dist-packages/torch/utils/data/dataloader.py\u001b[0m in \u001b[0;36m__next__\u001b[0;34m(self)\u001b[0m\n\u001b[1;32m    626\u001b[0m                 \u001b[0;31m# TODO(https://github.com/pytorch/pytorch/issues/76750)\u001b[0m\u001b[0;34m\u001b[0m\u001b[0;34m\u001b[0m\u001b[0;34m\u001b[0m\u001b[0m\n\u001b[1;32m    627\u001b[0m                 \u001b[0mself\u001b[0m\u001b[0;34m.\u001b[0m\u001b[0m_reset\u001b[0m\u001b[0;34m(\u001b[0m\u001b[0;34m)\u001b[0m  \u001b[0;31m# type: ignore[call-arg]\u001b[0m\u001b[0;34m\u001b[0m\u001b[0;34m\u001b[0m\u001b[0m\n\u001b[0;32m--> 628\u001b[0;31m             \u001b[0mdata\u001b[0m \u001b[0;34m=\u001b[0m \u001b[0mself\u001b[0m\u001b[0;34m.\u001b[0m\u001b[0m_next_data\u001b[0m\u001b[0;34m(\u001b[0m\u001b[0;34m)\u001b[0m\u001b[0;34m\u001b[0m\u001b[0;34m\u001b[0m\u001b[0m\n\u001b[0m\u001b[1;32m    629\u001b[0m             \u001b[0mself\u001b[0m\u001b[0;34m.\u001b[0m\u001b[0m_num_yielded\u001b[0m \u001b[0;34m+=\u001b[0m \u001b[0;36m1\u001b[0m\u001b[0;34m\u001b[0m\u001b[0;34m\u001b[0m\u001b[0m\n\u001b[1;32m    630\u001b[0m             \u001b[0;32mif\u001b[0m \u001b[0mself\u001b[0m\u001b[0;34m.\u001b[0m\u001b[0m_dataset_kind\u001b[0m \u001b[0;34m==\u001b[0m \u001b[0m_DatasetKind\u001b[0m\u001b[0;34m.\u001b[0m\u001b[0mIterable\u001b[0m \u001b[0;32mand\u001b[0m\u001b[0;31m \u001b[0m\u001b[0;31m\\\u001b[0m\u001b[0;34m\u001b[0m\u001b[0;34m\u001b[0m\u001b[0m\n",
      "\u001b[0;32m/usr/local/lib/python3.8/dist-packages/torch/utils/data/dataloader.py\u001b[0m in \u001b[0;36m_next_data\u001b[0;34m(self)\u001b[0m\n\u001b[1;32m    669\u001b[0m     \u001b[0;32mdef\u001b[0m \u001b[0m_next_data\u001b[0m\u001b[0;34m(\u001b[0m\u001b[0mself\u001b[0m\u001b[0;34m)\u001b[0m\u001b[0;34m:\u001b[0m\u001b[0;34m\u001b[0m\u001b[0;34m\u001b[0m\u001b[0m\n\u001b[1;32m    670\u001b[0m         \u001b[0mindex\u001b[0m \u001b[0;34m=\u001b[0m \u001b[0mself\u001b[0m\u001b[0;34m.\u001b[0m\u001b[0m_next_index\u001b[0m\u001b[0;34m(\u001b[0m\u001b[0;34m)\u001b[0m  \u001b[0;31m# may raise StopIteration\u001b[0m\u001b[0;34m\u001b[0m\u001b[0;34m\u001b[0m\u001b[0m\n\u001b[0;32m--> 671\u001b[0;31m         \u001b[0mdata\u001b[0m \u001b[0;34m=\u001b[0m \u001b[0mself\u001b[0m\u001b[0;34m.\u001b[0m\u001b[0m_dataset_fetcher\u001b[0m\u001b[0;34m.\u001b[0m\u001b[0mfetch\u001b[0m\u001b[0;34m(\u001b[0m\u001b[0mindex\u001b[0m\u001b[0;34m)\u001b[0m  \u001b[0;31m# may raise StopIteration\u001b[0m\u001b[0;34m\u001b[0m\u001b[0;34m\u001b[0m\u001b[0m\n\u001b[0m\u001b[1;32m    672\u001b[0m         \u001b[0;32mif\u001b[0m \u001b[0mself\u001b[0m\u001b[0;34m.\u001b[0m\u001b[0m_pin_memory\u001b[0m\u001b[0;34m:\u001b[0m\u001b[0;34m\u001b[0m\u001b[0;34m\u001b[0m\u001b[0m\n\u001b[1;32m    673\u001b[0m             \u001b[0mdata\u001b[0m \u001b[0;34m=\u001b[0m \u001b[0m_utils\u001b[0m\u001b[0;34m.\u001b[0m\u001b[0mpin_memory\u001b[0m\u001b[0;34m.\u001b[0m\u001b[0mpin_memory\u001b[0m\u001b[0;34m(\u001b[0m\u001b[0mdata\u001b[0m\u001b[0;34m,\u001b[0m \u001b[0mself\u001b[0m\u001b[0;34m.\u001b[0m\u001b[0m_pin_memory_device\u001b[0m\u001b[0;34m)\u001b[0m\u001b[0;34m\u001b[0m\u001b[0;34m\u001b[0m\u001b[0m\n",
      "\u001b[0;32m/usr/local/lib/python3.8/dist-packages/torch/utils/data/_utils/fetch.py\u001b[0m in \u001b[0;36mfetch\u001b[0;34m(self, possibly_batched_index)\u001b[0m\n\u001b[1;32m     59\u001b[0m         \u001b[0;32melse\u001b[0m\u001b[0;34m:\u001b[0m\u001b[0;34m\u001b[0m\u001b[0;34m\u001b[0m\u001b[0m\n\u001b[1;32m     60\u001b[0m             \u001b[0mdata\u001b[0m \u001b[0;34m=\u001b[0m \u001b[0mself\u001b[0m\u001b[0;34m.\u001b[0m\u001b[0mdataset\u001b[0m\u001b[0;34m[\u001b[0m\u001b[0mpossibly_batched_index\u001b[0m\u001b[0;34m]\u001b[0m\u001b[0;34m\u001b[0m\u001b[0;34m\u001b[0m\u001b[0m\n\u001b[0;32m---> 61\u001b[0;31m         \u001b[0;32mreturn\u001b[0m \u001b[0mself\u001b[0m\u001b[0;34m.\u001b[0m\u001b[0mcollate_fn\u001b[0m\u001b[0;34m(\u001b[0m\u001b[0mdata\u001b[0m\u001b[0;34m)\u001b[0m\u001b[0;34m\u001b[0m\u001b[0;34m\u001b[0m\u001b[0m\n\u001b[0m",
      "\u001b[0;32m/usr/local/lib/python3.8/dist-packages/torch/utils/data/_utils/collate.py\u001b[0m in \u001b[0;36mdefault_collate\u001b[0;34m(batch)\u001b[0m\n\u001b[1;32m    263\u001b[0m             \u001b[0;34m>>\u001b[0m\u001b[0;34m>\u001b[0m \u001b[0mdefault_collate\u001b[0m\u001b[0;34m(\u001b[0m\u001b[0mbatch\u001b[0m\u001b[0;34m)\u001b[0m  \u001b[0;31m# Handle `CustomType` automatically\u001b[0m\u001b[0;34m\u001b[0m\u001b[0;34m\u001b[0m\u001b[0m\n\u001b[1;32m    264\u001b[0m     \"\"\"\n\u001b[0;32m--> 265\u001b[0;31m     \u001b[0;32mreturn\u001b[0m \u001b[0mcollate\u001b[0m\u001b[0;34m(\u001b[0m\u001b[0mbatch\u001b[0m\u001b[0;34m,\u001b[0m \u001b[0mcollate_fn_map\u001b[0m\u001b[0;34m=\u001b[0m\u001b[0mdefault_collate_fn_map\u001b[0m\u001b[0;34m)\u001b[0m\u001b[0;34m\u001b[0m\u001b[0;34m\u001b[0m\u001b[0m\n\u001b[0m",
      "\u001b[0;32m/usr/local/lib/python3.8/dist-packages/torch/utils/data/_utils/collate.py\u001b[0m in \u001b[0;36mcollate\u001b[0;34m(batch, collate_fn_map)\u001b[0m\n\u001b[1;32m    141\u001b[0m \u001b[0;34m\u001b[0m\u001b[0m\n\u001b[1;32m    142\u001b[0m         \u001b[0;32mif\u001b[0m \u001b[0misinstance\u001b[0m\u001b[0;34m(\u001b[0m\u001b[0melem\u001b[0m\u001b[0;34m,\u001b[0m \u001b[0mtuple\u001b[0m\u001b[0;34m)\u001b[0m\u001b[0;34m:\u001b[0m\u001b[0;34m\u001b[0m\u001b[0;34m\u001b[0m\u001b[0m\n\u001b[0;32m--> 143\u001b[0;31m             \u001b[0;32mreturn\u001b[0m \u001b[0;34m[\u001b[0m\u001b[0mcollate\u001b[0m\u001b[0;34m(\u001b[0m\u001b[0msamples\u001b[0m\u001b[0;34m,\u001b[0m \u001b[0mcollate_fn_map\u001b[0m\u001b[0;34m=\u001b[0m\u001b[0mcollate_fn_map\u001b[0m\u001b[0;34m)\u001b[0m \u001b[0;32mfor\u001b[0m \u001b[0msamples\u001b[0m \u001b[0;32min\u001b[0m \u001b[0mtransposed\u001b[0m\u001b[0;34m]\u001b[0m  \u001b[0;31m# Backwards compatibility.\u001b[0m\u001b[0;34m\u001b[0m\u001b[0;34m\u001b[0m\u001b[0m\n\u001b[0m\u001b[1;32m    144\u001b[0m         \u001b[0;32melse\u001b[0m\u001b[0;34m:\u001b[0m\u001b[0;34m\u001b[0m\u001b[0;34m\u001b[0m\u001b[0m\n\u001b[1;32m    145\u001b[0m             \u001b[0;32mtry\u001b[0m\u001b[0;34m:\u001b[0m\u001b[0;34m\u001b[0m\u001b[0;34m\u001b[0m\u001b[0m\n",
      "\u001b[0;32m/usr/local/lib/python3.8/dist-packages/torch/utils/data/_utils/collate.py\u001b[0m in \u001b[0;36m<listcomp>\u001b[0;34m(.0)\u001b[0m\n\u001b[1;32m    141\u001b[0m \u001b[0;34m\u001b[0m\u001b[0m\n\u001b[1;32m    142\u001b[0m         \u001b[0;32mif\u001b[0m \u001b[0misinstance\u001b[0m\u001b[0;34m(\u001b[0m\u001b[0melem\u001b[0m\u001b[0;34m,\u001b[0m \u001b[0mtuple\u001b[0m\u001b[0;34m)\u001b[0m\u001b[0;34m:\u001b[0m\u001b[0;34m\u001b[0m\u001b[0;34m\u001b[0m\u001b[0m\n\u001b[0;32m--> 143\u001b[0;31m             \u001b[0;32mreturn\u001b[0m \u001b[0;34m[\u001b[0m\u001b[0mcollate\u001b[0m\u001b[0;34m(\u001b[0m\u001b[0msamples\u001b[0m\u001b[0;34m,\u001b[0m \u001b[0mcollate_fn_map\u001b[0m\u001b[0;34m=\u001b[0m\u001b[0mcollate_fn_map\u001b[0m\u001b[0;34m)\u001b[0m \u001b[0;32mfor\u001b[0m \u001b[0msamples\u001b[0m \u001b[0;32min\u001b[0m \u001b[0mtransposed\u001b[0m\u001b[0;34m]\u001b[0m  \u001b[0;31m# Backwards compatibility.\u001b[0m\u001b[0;34m\u001b[0m\u001b[0;34m\u001b[0m\u001b[0m\n\u001b[0m\u001b[1;32m    144\u001b[0m         \u001b[0;32melse\u001b[0m\u001b[0;34m:\u001b[0m\u001b[0;34m\u001b[0m\u001b[0;34m\u001b[0m\u001b[0m\n\u001b[1;32m    145\u001b[0m             \u001b[0;32mtry\u001b[0m\u001b[0;34m:\u001b[0m\u001b[0;34m\u001b[0m\u001b[0;34m\u001b[0m\u001b[0m\n",
      "\u001b[0;32m/usr/local/lib/python3.8/dist-packages/torch/utils/data/_utils/collate.py\u001b[0m in \u001b[0;36mcollate\u001b[0;34m(batch, collate_fn_map)\u001b[0m\n\u001b[1;32m    141\u001b[0m \u001b[0;34m\u001b[0m\u001b[0m\n\u001b[1;32m    142\u001b[0m         \u001b[0;32mif\u001b[0m \u001b[0misinstance\u001b[0m\u001b[0;34m(\u001b[0m\u001b[0melem\u001b[0m\u001b[0;34m,\u001b[0m \u001b[0mtuple\u001b[0m\u001b[0;34m)\u001b[0m\u001b[0;34m:\u001b[0m\u001b[0;34m\u001b[0m\u001b[0;34m\u001b[0m\u001b[0m\n\u001b[0;32m--> 143\u001b[0;31m             \u001b[0;32mreturn\u001b[0m \u001b[0;34m[\u001b[0m\u001b[0mcollate\u001b[0m\u001b[0;34m(\u001b[0m\u001b[0msamples\u001b[0m\u001b[0;34m,\u001b[0m \u001b[0mcollate_fn_map\u001b[0m\u001b[0;34m=\u001b[0m\u001b[0mcollate_fn_map\u001b[0m\u001b[0;34m)\u001b[0m \u001b[0;32mfor\u001b[0m \u001b[0msamples\u001b[0m \u001b[0;32min\u001b[0m \u001b[0mtransposed\u001b[0m\u001b[0;34m]\u001b[0m  \u001b[0;31m# Backwards compatibility.\u001b[0m\u001b[0;34m\u001b[0m\u001b[0;34m\u001b[0m\u001b[0m\n\u001b[0m\u001b[1;32m    144\u001b[0m         \u001b[0;32melse\u001b[0m\u001b[0;34m:\u001b[0m\u001b[0;34m\u001b[0m\u001b[0;34m\u001b[0m\u001b[0m\n\u001b[1;32m    145\u001b[0m             \u001b[0;32mtry\u001b[0m\u001b[0;34m:\u001b[0m\u001b[0;34m\u001b[0m\u001b[0;34m\u001b[0m\u001b[0m\n",
      "\u001b[0;32m/usr/local/lib/python3.8/dist-packages/torch/utils/data/_utils/collate.py\u001b[0m in \u001b[0;36m<listcomp>\u001b[0;34m(.0)\u001b[0m\n\u001b[1;32m    141\u001b[0m \u001b[0;34m\u001b[0m\u001b[0m\n\u001b[1;32m    142\u001b[0m         \u001b[0;32mif\u001b[0m \u001b[0misinstance\u001b[0m\u001b[0;34m(\u001b[0m\u001b[0melem\u001b[0m\u001b[0;34m,\u001b[0m \u001b[0mtuple\u001b[0m\u001b[0;34m)\u001b[0m\u001b[0;34m:\u001b[0m\u001b[0;34m\u001b[0m\u001b[0;34m\u001b[0m\u001b[0m\n\u001b[0;32m--> 143\u001b[0;31m             \u001b[0;32mreturn\u001b[0m \u001b[0;34m[\u001b[0m\u001b[0mcollate\u001b[0m\u001b[0;34m(\u001b[0m\u001b[0msamples\u001b[0m\u001b[0;34m,\u001b[0m \u001b[0mcollate_fn_map\u001b[0m\u001b[0;34m=\u001b[0m\u001b[0mcollate_fn_map\u001b[0m\u001b[0;34m)\u001b[0m \u001b[0;32mfor\u001b[0m \u001b[0msamples\u001b[0m \u001b[0;32min\u001b[0m \u001b[0mtransposed\u001b[0m\u001b[0;34m]\u001b[0m  \u001b[0;31m# Backwards compatibility.\u001b[0m\u001b[0;34m\u001b[0m\u001b[0;34m\u001b[0m\u001b[0m\n\u001b[0m\u001b[1;32m    144\u001b[0m         \u001b[0;32melse\u001b[0m\u001b[0;34m:\u001b[0m\u001b[0;34m\u001b[0m\u001b[0;34m\u001b[0m\u001b[0m\n\u001b[1;32m    145\u001b[0m             \u001b[0;32mtry\u001b[0m\u001b[0;34m:\u001b[0m\u001b[0;34m\u001b[0m\u001b[0;34m\u001b[0m\u001b[0m\n",
      "\u001b[0;32m/usr/local/lib/python3.8/dist-packages/torch/utils/data/_utils/collate.py\u001b[0m in \u001b[0;36mcollate\u001b[0;34m(batch, collate_fn_map)\u001b[0m\n\u001b[1;32m    137\u001b[0m         \u001b[0melem_size\u001b[0m \u001b[0;34m=\u001b[0m \u001b[0mlen\u001b[0m\u001b[0;34m(\u001b[0m\u001b[0mnext\u001b[0m\u001b[0;34m(\u001b[0m\u001b[0mit\u001b[0m\u001b[0;34m)\u001b[0m\u001b[0;34m)\u001b[0m\u001b[0;34m\u001b[0m\u001b[0;34m\u001b[0m\u001b[0m\n\u001b[1;32m    138\u001b[0m         \u001b[0;32mif\u001b[0m \u001b[0;32mnot\u001b[0m \u001b[0mall\u001b[0m\u001b[0;34m(\u001b[0m\u001b[0mlen\u001b[0m\u001b[0;34m(\u001b[0m\u001b[0melem\u001b[0m\u001b[0;34m)\u001b[0m \u001b[0;34m==\u001b[0m \u001b[0melem_size\u001b[0m \u001b[0;32mfor\u001b[0m \u001b[0melem\u001b[0m \u001b[0;32min\u001b[0m \u001b[0mit\u001b[0m\u001b[0;34m)\u001b[0m\u001b[0;34m:\u001b[0m\u001b[0;34m\u001b[0m\u001b[0;34m\u001b[0m\u001b[0m\n\u001b[0;32m--> 139\u001b[0;31m             \u001b[0;32mraise\u001b[0m \u001b[0mRuntimeError\u001b[0m\u001b[0;34m(\u001b[0m\u001b[0;34m'each element in list of batch should be of equal size'\u001b[0m\u001b[0;34m)\u001b[0m\u001b[0;34m\u001b[0m\u001b[0;34m\u001b[0m\u001b[0m\n\u001b[0m\u001b[1;32m    140\u001b[0m         \u001b[0mtransposed\u001b[0m \u001b[0;34m=\u001b[0m \u001b[0mlist\u001b[0m\u001b[0;34m(\u001b[0m\u001b[0mzip\u001b[0m\u001b[0;34m(\u001b[0m\u001b[0;34m*\u001b[0m\u001b[0mbatch\u001b[0m\u001b[0;34m)\u001b[0m\u001b[0;34m)\u001b[0m  \u001b[0;31m# It may be accessed twice, so we use a list.\u001b[0m\u001b[0;34m\u001b[0m\u001b[0;34m\u001b[0m\u001b[0m\n\u001b[1;32m    141\u001b[0m \u001b[0;34m\u001b[0m\u001b[0m\n",
      "\u001b[0;31mRuntimeError\u001b[0m: each element in list of batch should be of equal size"
     ]
    }
   ],
   "source": [
    "model = YOLO()\n",
    "n_epochs = 10\n",
    "\n",
    "yolo_learner = YOLOLearner()\n",
    "\n",
    "device = \"gpu\" if torch.cuda.is_available() else \"cpu\"\n",
    "trainer = pl.Trainer(accelerator=device, max_epochs=n_epochs)\n",
    "\n",
    "trainer.fit(yolo_learner, train_dataloader, val_dataloader)"
   ]
  },
  {
   "cell_type": "code",
   "execution_count": null,
   "metadata": {
    "id": "T00FV2B_RNLd"
   },
   "outputs": [],
   "source": [
    "# Похоже все-таки с get item беда - в неправильном формате коробки возвращаются"
   ]
  }
 ],
 "metadata": {
  "colab": {
   "provenance": []
  },
  "kernelspec": {
   "display_name": "Python 3 (ipykernel)",
   "language": "python",
   "name": "python3"
  },
  "language_info": {
   "codemirror_mode": {
    "name": "ipython",
    "version": 3
   },
   "file_extension": ".py",
   "mimetype": "text/x-python",
   "name": "python",
   "nbconvert_exporter": "python",
   "pygments_lexer": "ipython3",
   "version": "3.9.7"
  },
  "widgets": {
   "application/vnd.jupyter.widget-state+json": {
    "15804c67855842ae877c628977d8cc14": {
     "model_module": "@jupyter-widgets/controls",
     "model_module_version": "1.5.0",
     "model_name": "DescriptionStyleModel",
     "state": {
      "_model_module": "@jupyter-widgets/controls",
      "_model_module_version": "1.5.0",
      "_model_name": "DescriptionStyleModel",
      "_view_count": null,
      "_view_module": "@jupyter-widgets/base",
      "_view_module_version": "1.2.0",
      "_view_name": "StyleView",
      "description_width": ""
     }
    },
    "32f5af1b514648e1b544407b5bf16b1b": {
     "model_module": "@jupyter-widgets/base",
     "model_module_version": "1.2.0",
     "model_name": "LayoutModel",
     "state": {
      "_model_module": "@jupyter-widgets/base",
      "_model_module_version": "1.2.0",
      "_model_name": "LayoutModel",
      "_view_count": null,
      "_view_module": "@jupyter-widgets/base",
      "_view_module_version": "1.2.0",
      "_view_name": "LayoutView",
      "align_content": null,
      "align_items": null,
      "align_self": null,
      "border": null,
      "bottom": null,
      "display": "inline-flex",
      "flex": null,
      "flex_flow": "row wrap",
      "grid_area": null,
      "grid_auto_columns": null,
      "grid_auto_flow": null,
      "grid_auto_rows": null,
      "grid_column": null,
      "grid_gap": null,
      "grid_row": null,
      "grid_template_areas": null,
      "grid_template_columns": null,
      "grid_template_rows": null,
      "height": null,
      "justify_content": null,
      "justify_items": null,
      "left": null,
      "margin": null,
      "max_height": null,
      "max_width": null,
      "min_height": null,
      "min_width": null,
      "object_fit": null,
      "object_position": null,
      "order": null,
      "overflow": null,
      "overflow_x": null,
      "overflow_y": null,
      "padding": null,
      "right": null,
      "top": null,
      "visibility": null,
      "width": "100%"
     }
    },
    "48f01557736b43e2bc1d82677c038c95": {
     "model_module": "@jupyter-widgets/controls",
     "model_module_version": "1.5.0",
     "model_name": "DescriptionStyleModel",
     "state": {
      "_model_module": "@jupyter-widgets/controls",
      "_model_module_version": "1.5.0",
      "_model_name": "DescriptionStyleModel",
      "_view_count": null,
      "_view_module": "@jupyter-widgets/base",
      "_view_module_version": "1.2.0",
      "_view_name": "StyleView",
      "description_width": ""
     }
    },
    "589dd82771444703954955066a1a9d06": {
     "model_module": "@jupyter-widgets/base",
     "model_module_version": "1.2.0",
     "model_name": "LayoutModel",
     "state": {
      "_model_module": "@jupyter-widgets/base",
      "_model_module_version": "1.2.0",
      "_model_name": "LayoutModel",
      "_view_count": null,
      "_view_module": "@jupyter-widgets/base",
      "_view_module_version": "1.2.0",
      "_view_name": "LayoutView",
      "align_content": null,
      "align_items": null,
      "align_self": null,
      "border": null,
      "bottom": null,
      "display": null,
      "flex": null,
      "flex_flow": null,
      "grid_area": null,
      "grid_auto_columns": null,
      "grid_auto_flow": null,
      "grid_auto_rows": null,
      "grid_column": null,
      "grid_gap": null,
      "grid_row": null,
      "grid_template_areas": null,
      "grid_template_columns": null,
      "grid_template_rows": null,
      "height": null,
      "justify_content": null,
      "justify_items": null,
      "left": null,
      "margin": null,
      "max_height": null,
      "max_width": null,
      "min_height": null,
      "min_width": null,
      "object_fit": null,
      "object_position": null,
      "order": null,
      "overflow": null,
      "overflow_x": null,
      "overflow_y": null,
      "padding": null,
      "right": null,
      "top": null,
      "visibility": null,
      "width": null
     }
    },
    "61304f1dadf24131843f0df8f6b27256": {
     "model_module": "@jupyter-widgets/controls",
     "model_module_version": "1.5.0",
     "model_name": "HTMLModel",
     "state": {
      "_dom_classes": [],
      "_model_module": "@jupyter-widgets/controls",
      "_model_module_version": "1.5.0",
      "_model_name": "HTMLModel",
      "_view_count": null,
      "_view_module": "@jupyter-widgets/controls",
      "_view_module_version": "1.5.0",
      "_view_name": "HTMLView",
      "description": "",
      "description_tooltip": null,
      "layout": "IPY_MODEL_b66f90a9f61d4283a4f2a535cc1314f7",
      "placeholder": "​",
      "style": "IPY_MODEL_48f01557736b43e2bc1d82677c038c95",
      "value": "Sanity Checking: "
     }
    },
    "6195c7faecab495fb43b95ffda3b9ba8": {
     "model_module": "@jupyter-widgets/controls",
     "model_module_version": "1.5.0",
     "model_name": "ProgressStyleModel",
     "state": {
      "_model_module": "@jupyter-widgets/controls",
      "_model_module_version": "1.5.0",
      "_model_name": "ProgressStyleModel",
      "_view_count": null,
      "_view_module": "@jupyter-widgets/base",
      "_view_module_version": "1.2.0",
      "_view_name": "StyleView",
      "bar_color": null,
      "description_width": ""
     }
    },
    "90249232def64470b86b9cdd3873353f": {
     "model_module": "@jupyter-widgets/controls",
     "model_module_version": "1.5.0",
     "model_name": "FloatProgressModel",
     "state": {
      "_dom_classes": [],
      "_model_module": "@jupyter-widgets/controls",
      "_model_module_version": "1.5.0",
      "_model_name": "FloatProgressModel",
      "_view_count": null,
      "_view_module": "@jupyter-widgets/controls",
      "_view_module_version": "1.5.0",
      "_view_name": "ProgressView",
      "bar_style": "info",
      "description": "",
      "description_tooltip": null,
      "layout": "IPY_MODEL_f6a1bd60abc1465b9087d21e18551534",
      "max": 1,
      "min": 0,
      "orientation": "horizontal",
      "style": "IPY_MODEL_6195c7faecab495fb43b95ffda3b9ba8",
      "value": 0
     }
    },
    "9565b621894c46278ffa33f7a35705c4": {
     "model_module": "@jupyter-widgets/controls",
     "model_module_version": "1.5.0",
     "model_name": "HTMLModel",
     "state": {
      "_dom_classes": [],
      "_model_module": "@jupyter-widgets/controls",
      "_model_module_version": "1.5.0",
      "_model_name": "HTMLModel",
      "_view_count": null,
      "_view_module": "@jupyter-widgets/controls",
      "_view_module_version": "1.5.0",
      "_view_name": "HTMLView",
      "description": "",
      "description_tooltip": null,
      "layout": "IPY_MODEL_589dd82771444703954955066a1a9d06",
      "placeholder": "​",
      "style": "IPY_MODEL_15804c67855842ae877c628977d8cc14",
      "value": " 0/? [00:00&lt;?, ?it/s]"
     }
    },
    "aef7274c6d6b4decbcaab617a7aa2fc2": {
     "model_module": "@jupyter-widgets/controls",
     "model_module_version": "1.5.0",
     "model_name": "HBoxModel",
     "state": {
      "_dom_classes": [],
      "_model_module": "@jupyter-widgets/controls",
      "_model_module_version": "1.5.0",
      "_model_name": "HBoxModel",
      "_view_count": null,
      "_view_module": "@jupyter-widgets/controls",
      "_view_module_version": "1.5.0",
      "_view_name": "HBoxView",
      "box_style": "",
      "children": [
       "IPY_MODEL_61304f1dadf24131843f0df8f6b27256",
       "IPY_MODEL_90249232def64470b86b9cdd3873353f",
       "IPY_MODEL_9565b621894c46278ffa33f7a35705c4"
      ],
      "layout": "IPY_MODEL_32f5af1b514648e1b544407b5bf16b1b"
     }
    },
    "b66f90a9f61d4283a4f2a535cc1314f7": {
     "model_module": "@jupyter-widgets/base",
     "model_module_version": "1.2.0",
     "model_name": "LayoutModel",
     "state": {
      "_model_module": "@jupyter-widgets/base",
      "_model_module_version": "1.2.0",
      "_model_name": "LayoutModel",
      "_view_count": null,
      "_view_module": "@jupyter-widgets/base",
      "_view_module_version": "1.2.0",
      "_view_name": "LayoutView",
      "align_content": null,
      "align_items": null,
      "align_self": null,
      "border": null,
      "bottom": null,
      "display": null,
      "flex": null,
      "flex_flow": null,
      "grid_area": null,
      "grid_auto_columns": null,
      "grid_auto_flow": null,
      "grid_auto_rows": null,
      "grid_column": null,
      "grid_gap": null,
      "grid_row": null,
      "grid_template_areas": null,
      "grid_template_columns": null,
      "grid_template_rows": null,
      "height": null,
      "justify_content": null,
      "justify_items": null,
      "left": null,
      "margin": null,
      "max_height": null,
      "max_width": null,
      "min_height": null,
      "min_width": null,
      "object_fit": null,
      "object_position": null,
      "order": null,
      "overflow": null,
      "overflow_x": null,
      "overflow_y": null,
      "padding": null,
      "right": null,
      "top": null,
      "visibility": null,
      "width": null
     }
    },
    "f6a1bd60abc1465b9087d21e18551534": {
     "model_module": "@jupyter-widgets/base",
     "model_module_version": "1.2.0",
     "model_name": "LayoutModel",
     "state": {
      "_model_module": "@jupyter-widgets/base",
      "_model_module_version": "1.2.0",
      "_model_name": "LayoutModel",
      "_view_count": null,
      "_view_module": "@jupyter-widgets/base",
      "_view_module_version": "1.2.0",
      "_view_name": "LayoutView",
      "align_content": null,
      "align_items": null,
      "align_self": null,
      "border": null,
      "bottom": null,
      "display": null,
      "flex": "2",
      "flex_flow": null,
      "grid_area": null,
      "grid_auto_columns": null,
      "grid_auto_flow": null,
      "grid_auto_rows": null,
      "grid_column": null,
      "grid_gap": null,
      "grid_row": null,
      "grid_template_areas": null,
      "grid_template_columns": null,
      "grid_template_rows": null,
      "height": null,
      "justify_content": null,
      "justify_items": null,
      "left": null,
      "margin": null,
      "max_height": null,
      "max_width": null,
      "min_height": null,
      "min_width": null,
      "object_fit": null,
      "object_position": null,
      "order": null,
      "overflow": null,
      "overflow_x": null,
      "overflow_y": null,
      "padding": null,
      "right": null,
      "top": null,
      "visibility": null,
      "width": null
     }
    }
   }
  }
 },
 "nbformat": 4,
 "nbformat_minor": 1
}
